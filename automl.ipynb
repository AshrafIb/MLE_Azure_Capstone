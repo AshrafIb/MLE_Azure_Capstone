{
  "cells": [
    {
      "cell_type": "markdown",
      "metadata": {},
      "source": [
        "# Automated ML\n",
        "\n",
        "TODO: Import Dependencies. In the cell below, import all the dependencies that you will need to complete the project."
      ]
    },
    {
      "cell_type": "code",
      "execution_count": 71,
      "metadata": {
        "collapsed": true,
        "gather": {
          "logged": 1620464439292
        },
        "jupyter": {
          "outputs_hidden": false,
          "source_hidden": false
        },
        "nteract": {
          "transient": {
            "deleting": false
          }
        }
      },
      "outputs": [],
      "source": [
        "import azureml.core \r\n",
        "\r\n",
        "from azureml.core import Workspace, Experiment, Datastore, Dataset \r\n",
        "from azureml.data.dataset_factory import TabularDatasetFactory\r\n",
        "from azureml.train.automl import AutoMLConfig\r\n",
        "\r\n",
        "from azureml.core.compute import ComputeTarget, AmlCompute\r\n",
        "from azureml.core.compute_target import ComputeTargetException\r\n",
        "from azureml.widgets import RunDetails\r\n",
        "\r\n",
        "import pandas as pd \r\n",
        "import joblib\r\n",
        "import json\r\n",
        "import requests\r\n",
        "\r\n",
        "from notebook.services.config import ConfigManager\r\n",
        "cm = ConfigManager().update('notebook', {'limit_output': 2000})"
      ]
    },
    {
      "cell_type": "markdown",
      "metadata": {},
      "source": [
        "## Dataset\n",
        "\n",
        "### Overview\n",
        "TODO: In this markdown cell, give an overview of the dataset you are using. Also mention the task you will be performing.\n",
        "\n",
        "\n",
        "TODO: Get data. In the cell below, write code to access the data you will be using in this project. Remember that the dataset needs to be external."
      ]
    },
    {
      "cell_type": "code",
      "execution_count": 6,
      "metadata": {
        "gather": {
          "logged": 1620458778491
        },
        "jupyter": {
          "outputs_hidden": false,
          "source_hidden": false
        },
        "nteract": {
          "transient": {
            "deleting": false
          }
        }
      },
      "outputs": [],
      "source": [
        "ws = Workspace.from_config()\n",
        "\n",
        "# choose a name for experiment\n",
        "experiment_name = 'capstone'\n",
        "\n",
        "experiment=Experiment(ws, experiment_name)"
      ]
    },
    {
      "cell_type": "code",
      "execution_count": 7,
      "metadata": {
        "collapsed": true,
        "gather": {
          "logged": 1620458783522
        },
        "jupyter": {
          "outputs_hidden": false,
          "source_hidden": false
        },
        "nteract": {
          "transient": {
            "deleting": false
          }
        }
      },
      "outputs": [],
      "source": [
        "data=Dataset.get_by_name(ws, name='abalone')"
      ]
    },
    {
      "cell_type": "markdown",
      "metadata": {
        "nteract": {
          "transient": {
            "deleting": false
          }
        }
      },
      "source": [
        "# Data Cleanning"
      ]
    },
    {
      "cell_type": "code",
      "execution_count": 9,
      "metadata": {
        "collapsed": true,
        "gather": {
          "logged": 1620458796922
        },
        "jupyter": {
          "outputs_hidden": false,
          "source_hidden": false
        },
        "nteract": {
          "transient": {
            "deleting": false
          }
        }
      },
      "outputs": [],
      "source": [
        "df=data.to_pandas_dataframe()\r\n",
        "# Give names to columns\r\n",
        "df.columns=['Sex','Length','Diameter','Height','Whole weight','Shucked weight','Viscera weight','Shell weight','Rings']\r\n",
        "df_dum=pd.get_dummies(df, columns=['Sex'],dummy_na=False)"
      ]
    },
    {
      "cell_type": "markdown",
      "metadata": {
        "nteract": {
          "transient": {
            "deleting": false
          }
        }
      },
      "source": [
        "# Data Inspection"
      ]
    },
    {
      "cell_type": "code",
      "execution_count": 10,
      "metadata": {
        "collapsed": true,
        "gather": {
          "logged": 1620458798701
        },
        "jupyter": {
          "outputs_hidden": false,
          "source_hidden": false
        },
        "nteract": {
          "transient": {
            "deleting": false
          }
        }
      },
      "outputs": [
        {
          "data": {
            "text/plain": "9     689\n10    634\n8     568\n11    487\n7     391\n12    267\n6     259\n13    203\n14    126\n5     115\n15    103\n16     67\n17     58\n4      57\n18     42\n19     32\n20     26\n3      15\n21     14\n23      9\n22      6\n24      2\n27      2\n26      1\n1       1\n25      1\n2       1\n29      1\nName: Rings, dtype: int64"
          },
          "execution_count": 10,
          "metadata": {},
          "output_type": "execute_result"
        }
      ],
      "source": [
        " \r\n",
        "df_dum['Rings'].value_counts().sort_values(ascending=False)"
      ]
    },
    {
      "cell_type": "code",
      "execution_count": 11,
      "metadata": {
        "collapsed": true,
        "gather": {
          "logged": 1620458800981
        },
        "jupyter": {
          "outputs_hidden": false,
          "source_hidden": false
        },
        "nteract": {
          "transient": {
            "deleting": false
          }
        }
      },
      "outputs": [
        {
          "data": {
            "text/plain": "<matplotlib.axes._subplots.AxesSubplot at 0x7f11e9be76a0>"
          },
          "execution_count": 11,
          "metadata": {},
          "output_type": "execute_result"
        },
        {
          "data": {
            "image/png": "[encoded data removed]",
            "text/plain": "<Figure size 432x288 with 1 Axes>"
          },
          "metadata": {
            "needs_background": "light"
          },
          "output_type": "display_data"
        }
      ],
      "source": [
        "df_dum['Rings'].value_counts().sort_values(ascending=False).plot(kind='bar')"
      ]
    },
    {
      "cell_type": "code",
      "execution_count": 12,
      "metadata": {
        "collapsed": true,
        "gather": {
          "logged": 1620458802470
        },
        "jupyter": {
          "outputs_hidden": false,
          "source_hidden": false
        },
        "nteract": {
          "transient": {
            "deleting": false
          }
        }
      },
      "outputs": [
        {
          "data": {
            "text/plain": "<matplotlib.axes._subplots.AxesSubplot at 0x7f11e9a60e10>"
          },
          "execution_count": 12,
          "metadata": {},
          "output_type": "execute_result"
        },
        {
          "data": {
            "image/png": "[encoded data removed]",
            "text/plain": "<Figure size 432x288 with 1 Axes>"
          },
          "metadata": {
            "needs_background": "light"
          },
          "output_type": "display_data"
        }
      ],
      "source": [
        "df_dum['Rings'].value_counts().sort_values(ascending=False).plot(kind='box')"
      ]
    },
    {
      "cell_type": "code",
      "execution_count": 13,
      "metadata": {
        "collapsed": true,
        "gather": {
          "logged": 1620458807526
        },
        "jupyter": {
          "outputs_hidden": false,
          "source_hidden": false
        },
        "nteract": {
          "transient": {
            "deleting": false
          }
        }
      },
      "outputs": [
        {
          "name": "stdout",
          "output_type": "stream",
          "text": [
            "Uploading an estimated of 19 files\n",
            "Target already exists. Skipping upload for capstone/.amlignore\n",
            "Target already exists. Skipping upload for capstone/.amlignore.amltmp\n",
            "Target already exists. Skipping upload for capstone/abalone.data\n",
            "Target already exists. Skipping upload for capstone/automl.ipynb\n",
            "Target already exists. Skipping upload for capstone/automl.ipynb.amltmp\n",
            "Target already exists. Skipping upload for capstone/automl.log\n",
            "Target already exists. Skipping upload for capstone/azureml_automl.log\n",
            "Target already exists. Skipping upload for capstone/final_frame.csv\n",
            "Target already exists. Skipping upload for capstone/hyperparameter_tuning.ipynb\n",
            "Target already exists. Skipping upload for capstone/README.md\n",
            "Target already exists. Skipping upload for capstone/.ipynb_aml_checkpoints/automl-checkpoint2021-4-7-5-54-27.ipynb\n",
            "Uploading ./.ipynb_aml_checkpoints/automl-checkpoint2021-4-7-15-53-4.ipynb\n",
            "Uploaded ./.ipynb_aml_checkpoints/automl-checkpoint2021-4-7-15-53-4.ipynb, 1 files out of an estimated total of 9\n",
            "Uploading ./.ipynb_aml_checkpoints/automl-checkpoint2021-4-7-15-52-56.ipynb\n",
            "Uploaded ./.ipynb_aml_checkpoints/automl-checkpoint2021-4-7-15-52-56.ipynb, 2 files out of an estimated total of 9\n",
            "Uploading ./.ipynb_aml_checkpoints/automl-checkpoint2021-4-7-16-31-43.ipynb\n",
            "Uploaded ./.ipynb_aml_checkpoints/automl-checkpoint2021-4-7-16-31-43.ipynb, 3 files out of an estimated total of 9\n",
            "Uploading ./.ipynb_aml_checkpoints/automl-checkpoint2021-4-7-16-4-13.ipynb\n",
            "Uploaded ./.ipynb_aml_checkpoints/automl-checkpoint2021-4-7-16-4-13.ipynb, 4 files out of an estimated total of 9\n",
            "Uploading ./.ipynb_aml_checkpoints/automl-checkpoint2021-4-7-16-7-19.ipynb\n",
            "Uploaded ./.ipynb_aml_checkpoints/automl-checkpoint2021-4-7-16-7-19.ipynb, 5 files out of an estimated total of 9\n",
            "Uploading ./.ipynb_aml_checkpoints/automl-checkpoint2021-4-7-7-5-13.ipynb\n",
            "Uploaded ./.ipynb_aml_checkpoints/automl-checkpoint2021-4-7-7-5-13.ipynb, 6 files out of an estimated total of 8\n",
            "Uploading ./.ipynb_aml_checkpoints/automl-checkpoint2021-4-7-8-2-35.ipynb\n",
            "Uploaded ./.ipynb_aml_checkpoints/automl-checkpoint2021-4-7-8-2-35.ipynb, 7 files out of an estimated total of 8\n",
            "Uploading ./.ipynb_aml_checkpoints/automl-checkpoint2021-4-7-8-8-17.ipynb\n",
            "Uploaded ./.ipynb_aml_checkpoints/automl-checkpoint2021-4-7-8-8-17.ipynb, 8 files out of an estimated total of 8\n",
            "Uploaded 8 files\n"
          ]
        }
      ],
      "source": [
        "df_dum.to_csv('final_frame.csv',index=False)\r\n",
        "\r\n",
        "# Loading Data as Azure Dataset \r\n",
        "datastore = ws.get_default_datastore()\r\n",
        "datastore.upload(src_dir='./', target_path='capstone')\r\n",
        "\r\n",
        "dataset = Dataset.Tabular.from_delimited_files(path = [(datastore, ('capstone/final_frame.csv'))])"
      ]
    },
    {
      "cell_type": "code",
      "execution_count": 92,
      "metadata": {
        "collapsed": true,
        "gather": {
          "logged": 1620465512776
        },
        "jupyter": {
          "outputs_hidden": false,
          "source_hidden": false
        },
        "nteract": {
          "transient": {
            "deleting": false
          }
        }
      },
      "outputs": [
        {
          "name": "stdout",
          "output_type": "stream",
          "text": [
            "Creating....\n",
            "SucceededProvisioning operation finished, operation \"Succeeded\"\n",
            "Succeeded\n",
            "AmlCompute wait for completion finished\n",
            "\n",
            "Minimum number of nodes requested have been provisioned\n"
          ]
        }
      ],
      "source": [
        "# Creating Cluster\r\n",
        "cluster_name='MLCapstone'\r\n",
        "\r\n",
        "try: \r\n",
        "    cluster=ComputeTarget(workspace=ws,name=cluster_name)\r\n",
        "    print('Cluster already Exists')\r\n",
        "except ComputeTargetException:\r\n",
        "    cluster_config=AmlCompute.provisioning_configuration(vm_size='STANDARD_D2_V2', max_nodes=4)\r\n",
        "    cluster=ComputeTarget.create(ws,cluster_name,cluster_config)\r\n",
        "\r\n",
        "cluster.wait_for_completion(show_output=True)"
      ]
    },
    {
      "cell_type": "markdown",
      "metadata": {},
      "source": [
        "## AutoML Configuration\n",
        "\n",
        "TODO: Explain why you chose the automl settings and cofiguration you used below."
      ]
    },
    {
      "cell_type": "markdown",
      "metadata": {
        "nteract": {
          "transient": {
            "deleting": false
          }
        }
      },
      "source": [
        "# Classification"
      ]
    },
    {
      "cell_type": "code",
      "execution_count": 15,
      "metadata": {
        "gather": {
          "logged": 1620458846828
        },
        "jupyter": {
          "outputs_hidden": false,
          "source_hidden": false
        },
        "nteract": {
          "transient": {
            "deleting": false
          }
        }
      },
      "outputs": [],
      "source": [
        "# TODO: Put your automl settings here\n",
        "automl_settings = {'experiment_timeout_minutes': 40,\n",
        "                   \"max_concurrent_iterations\": 4,\n",
        "                   'primary_metric':'AUC_weighted',\n",
        "                   'task':'classification'}\n",
        "\n",
        "# TODO: Put your automl config here\n",
        "automl_config = AutoMLConfig(compute_target=cluster,\n",
        "                            training_data=dataset,\n",
        "                            label_column_name='Rings',\n",
        "                            enable_early_stopping= True,\n",
        "                            featurization= 'auto',\n",
        "                            debug_log = \"automl.log\",\n",
        "                            **automl_settings)"
      ]
    },
    {
      "cell_type": "code",
      "execution_count": 16,
      "metadata": {
        "gather": {
          "logged": 1620458855054
        },
        "jupyter": {
          "outputs_hidden": false,
          "source_hidden": false
        },
        "nteract": {
          "transient": {
            "deleting": false
          }
        }
      },
      "outputs": [
        {
          "name": "stderr",
          "output_type": "stream",
          "text": [
            "WARNING:root:Received unrecognized parameter max_cores_per_iterations\n"
          ]
        },
        {
          "name": "stdout",
          "output_type": "stream",
          "text": [
            "Submitting remote run.\n"
          ]
        },
        {
          "data": {
            "text/html": "<table style=\"width:100%\"><tr><th>Experiment</th><th>Id</th><th>Type</th><th>Status</th><th>Details Page</th><th>Docs Page</th></tr><tr><td>capstone</td><td>AutoML_9713967a-96d5-4cdb-a039-93c20febcdb5</td><td>automl</td><td>NotStarted</td><td><a href=\"https://ml.azure.com/runs/AutoML_9713967a-96d5-4cdb-a039-93c20febcdb5?wsid=/subscriptions/939bb7d7-6909-4049-929c-1df590b9f273/resourcegroups/presentation/workspaces/udacity_workspace&amp;tid=e9f4b799-4c58-4783-92c3-75ff1e37dd9c\" target=\"_blank\" rel=\"noopener\">Link to Azure Machine Learning studio</a></td><td><a href=\"https://docs.microsoft.com/en-us/python/api/overview/azure/ml/intro?view=azure-ml-py\" target=\"_blank\" rel=\"noopener\">Link to Documentation</a></td></tr></table>",
            "text/plain": "<IPython.core.display.HTML object>"
          },
          "metadata": {},
          "output_type": "display_data"
        }
      ],
      "source": [
        "# TODO: Submit your experiment\n",
        "remote_run = experiment.submit(automl_config)"
      ]
    },
    {
      "cell_type": "markdown",
      "metadata": {},
      "source": [
        "## Run Details\n",
        "\n",
        "OPTIONAL: Write about the different models trained and their performance. Why do you think some models did better than others?\n",
        "\n",
        "TODO: In the cell below, use the `RunDetails` widget to show the different experiments."
      ]
    },
    {
      "cell_type": "code",
      "execution_count": 17,
      "metadata": {
        "gather": {
          "logged": 1620460370543
        },
        "jupyter": {
          "outputs_hidden": false,
          "source_hidden": false
        },
        "nteract": {
          "transient": {
            "deleting": false
          }
        }
      },
      "outputs": [
        {
          "data": {
            "application/vnd.jupyter.widget-view+json": {
              "model_id": "924c461a89d24c31b960ba612cca03c3",
              "version_major": 2,
              "version_minor": 0
            },
            "text/plain": "_AutoMLWidget(widget_settings={'childWidgetDisplay': 'popup', 'send_telemetry': False, 'log_level': 'INFO', 's…"
          },
          "metadata": {},
          "output_type": "display_data"
        },
        {
          "data": {
            "application/aml.mini.widget.v1": "{\"status\": \"Completed\", \"workbench_run_details_uri\": \"https://ml.azure.com/runs/AutoML_9713967a-96d5-4cdb-a039-93c20febcdb5?wsid=/subscriptions/939bb7d7-6909-4049-929c-1df590b9f273/resourcegroups/presentation/workspaces/udacity_workspace&tid=e9f4b799-4c58-4783-92c3-75ff1e37dd9c\", \"run_id\": \"AutoML_9713967a-96d5-4cdb-a039-93c20febcdb5\", \"run_properties\": {\"run_id\": \"AutoML_9713967a-96d5-4cdb-a039-93c20febcdb5\", \"created_utc\": \"2021-05-08T07:27:32.790093Z\", \"properties\": {\"num_iterations\": \"1000\", \"training_type\": \"TrainFull\", \"acquisition_function\": \"EI\", \"primary_metric\": \"AUC_weighted\", \"train_split\": \"0\", \"acquisition_parameter\": \"0\", \"num_cross_validation\": null, \"target\": \"MLCapstone\", \"AMLSettingsJsonString\": \"{\\\"path\\\":null,\\\"name\\\":\\\"capstone\\\",\\\"subscription_id\\\":\\\"939bb7d7-6909-4049-929c-1df590b9f273\\\",\\\"resource_group\\\":\\\"presentation\\\",\\\"workspace_name\\\":\\\"udacity_workspace\\\",\\\"region\\\":\\\"westeurope\\\",\\\"compute_target\\\":\\\"MLCapstone\\\",\\\"spark_service\\\":null,\\\"azure_service\\\":\\\"remote\\\",\\\"many_models\\\":false,\\\"pipeline_fetch_max_batch_size\\\":1,\\\"enable_batch_run\\\":false,\\\"enable_run_restructure\\\":false,\\\"iterations\\\":1000,\\\"primary_metric\\\":\\\"AUC_weighted\\\",\\\"task_type\\\":\\\"classification\\\",\\\"data_script\\\":null,\\\"test_size\\\":0.0,\\\"validation_size\\\":0.0,\\\"n_cross_validations\\\":null,\\\"y_min\\\":null,\\\"y_max\\\":null,\\\"num_classes\\\":null,\\\"featurization\\\":\\\"auto\\\",\\\"_ignore_package_version_incompatibilities\\\":false,\\\"is_timeseries\\\":false,\\\"max_cores_per_iteration\\\":1,\\\"max_concurrent_iterations\\\":4,\\\"iteration_timeout_minutes\\\":null,\\\"mem_in_mb\\\":null,\\\"enforce_time_on_windows\\\":false,\\\"experiment_timeout_minutes\\\":40,\\\"experiment_exit_score\\\":null,\\\"whitelist_models\\\":null,\\\"blacklist_algos\\\":[\\\"TensorFlowLinearClassifier\\\",\\\"TensorFlowDNN\\\"],\\\"supported_models\\\":[\\\"SVM\\\",\\\"LogisticRegression\\\",\\\"MultinomialNaiveBayes\\\",\\\"GradientBoosting\\\",\\\"ExtremeRandomTrees\\\",\\\"TensorFlowDNN\\\",\\\"AveragedPerceptronClassifier\\\",\\\"TensorFlowLinearClassifier\\\",\\\"XGBoostClassifier\\\",\\\"RandomForest\\\",\\\"KNN\\\",\\\"DecisionTree\\\",\\\"SGD\\\",\\\"BernoulliNaiveBayes\\\",\\\"LinearSVM\\\",\\\"LightGBM\\\"],\\\"private_models\\\":[],\\\"auto_blacklist\\\":true,\\\"blacklist_samples_reached\\\":false,\\\"exclude_nan_labels\\\":true,\\\"verbosity\\\":20,\\\"_debug_log\\\":\\\"azureml_automl.log\\\",\\\"show_warnings\\\":false,\\\"model_explainability\\\":true,\\\"service_url\\\":null,\\\"sdk_url\\\":null,\\\"sdk_packages\\\":null,\\\"enable_onnx_compatible_models\\\":false,\\\"enable_split_onnx_featurizer_estimator_models\\\":false,\\\"vm_type\\\":\\\"STANDARD_D2_V2\\\",\\\"telemetry_verbosity\\\":20,\\\"send_telemetry\\\":true,\\\"enable_dnn\\\":false,\\\"scenario\\\":\\\"SDK-1.13.0\\\",\\\"environment_label\\\":null,\\\"save_mlflow\\\":false,\\\"force_text_dnn\\\":false,\\\"enable_feature_sweeping\\\":true,\\\"enable_early_stopping\\\":true,\\\"early_stopping_n_iters\\\":10,\\\"metrics\\\":null,\\\"enable_metric_confidence\\\":false,\\\"enable_ensembling\\\":true,\\\"enable_stack_ensembling\\\":true,\\\"ensemble_iterations\\\":15,\\\"enable_tf\\\":false,\\\"enable_subsampling\\\":null,\\\"subsample_seed\\\":null,\\\"enable_nimbusml\\\":false,\\\"enable_streaming\\\":false,\\\"force_streaming\\\":false,\\\"track_child_runs\\\":true,\\\"allowed_private_models\\\":[],\\\"label_column_name\\\":\\\"Rings\\\",\\\"weight_column_name\\\":null,\\\"cv_split_column_names\\\":null,\\\"enable_local_managed\\\":false,\\\"_local_managed_run_id\\\":null,\\\"cost_mode\\\":1,\\\"lag_length\\\":0,\\\"metric_operation\\\":\\\"maximize\\\",\\\"preprocess\\\":true,\\\"max_cores_per_iterations\\\":-1}\", \"DataPrepJsonString\": \"{\\\\\\\"training_data\\\\\\\": {\\\\\\\"datasetId\\\\\\\": \\\\\\\"41aada46-572b-4e03-8dc3-2faaa39dff9f\\\\\\\"}, \\\\\\\"datasets\\\\\\\": 0}\", \"EnableSubsampling\": null, \"runTemplate\": \"AutoML\", \"azureml.runsource\": \"automl\", \"display_task_type\": \"classification\", \"dependencies_versions\": \"{\\\"azureml-widgets\\\": \\\"1.26.0\\\", \\\"azureml-train\\\": \\\"1.26.0\\\", \\\"azureml-train-restclients-hyperdrive\\\": \\\"1.26.0\\\", \\\"azureml-train-core\\\": \\\"1.26.0\\\", \\\"azureml-train-automl\\\": \\\"1.26.0\\\", \\\"azureml-train-automl-runtime\\\": \\\"1.26.0\\\", \\\"azureml-train-automl-client\\\": \\\"1.26.0\\\", \\\"azureml-tensorboard\\\": \\\"1.26.0\\\", \\\"azureml-telemetry\\\": \\\"1.26.0\\\", \\\"azureml-sdk\\\": \\\"1.26.0\\\", \\\"azureml-samples\\\": \\\"0+unknown\\\", \\\"azureml-pipeline\\\": \\\"1.26.0\\\", \\\"azureml-pipeline-steps\\\": \\\"1.26.0\\\", \\\"azureml-pipeline-core\\\": \\\"1.26.0\\\", \\\"azureml-opendatasets\\\": \\\"1.26.0\\\", \\\"azureml-model-management-sdk\\\": \\\"1.0.1b6.post1\\\", \\\"azureml-mlflow\\\": \\\"1.26.0\\\", \\\"azureml-interpret\\\": \\\"1.26.0\\\", \\\"azureml-explain-model\\\": \\\"1.26.0\\\", \\\"azureml-defaults\\\": \\\"1.26.0\\\", \\\"azureml-dataset-runtime\\\": \\\"1.26.0\\\", \\\"azureml-dataprep\\\": \\\"2.13.2\\\", \\\"azureml-dataprep-rslex\\\": \\\"1.11.2\\\", \\\"azureml-dataprep-native\\\": \\\"32.0.0\\\", \\\"azureml-datadrift\\\": \\\"1.26.0\\\", \\\"azureml-core\\\": \\\"1.26.0\\\", \\\"azureml-contrib-services\\\": \\\"1.26.0\\\", \\\"azureml-contrib-server\\\": \\\"1.26.0\\\", \\\"azureml-contrib-reinforcementlearning\\\": \\\"1.26.0\\\", \\\"azureml-contrib-pipeline-steps\\\": \\\"1.26.0\\\", \\\"azureml-contrib-notebook\\\": \\\"1.26.0\\\", \\\"azureml-contrib-gbdt\\\": \\\"1.26.0\\\", \\\"azureml-contrib-fairness\\\": \\\"1.26.0\\\", \\\"azureml-contrib-dataset\\\": \\\"1.26.0\\\", \\\"azureml-cli-common\\\": \\\"1.26.0\\\", \\\"azureml-automl-runtime\\\": \\\"1.26.0\\\", \\\"azureml-automl-dnn-nlp\\\": \\\"1.26.0\\\", \\\"azureml-automl-core\\\": \\\"1.26.0\\\", \\\"azureml-accel-models\\\": \\\"1.26.0\\\"}\", \"_aml_system_scenario_identification\": \"Remote.Parent\", \"ClientType\": \"SDK\", \"environment_cpu_name\": \"AzureML-AutoML\", \"environment_cpu_label\": \"prod\", \"environment_gpu_name\": \"AzureML-AutoML-GPU\", \"environment_gpu_label\": \"prod\", \"root_attribution\": \"automl\", \"attribution\": \"AutoML\", \"Orchestrator\": \"AutoML\", \"CancelUri\": \"https://westeurope.api.azureml.ms/jasmine/v1.0/subscriptions/939bb7d7-6909-4049-929c-1df590b9f273/resourceGroups/presentation/providers/Microsoft.MachineLearningServices/workspaces/udacity_workspace/experimentids/7a2b641a-3669-4e49-8710-cbb1973a018b/cancel/AutoML_9713967a-96d5-4cdb-a039-93c20febcdb5\", \"ClientSdkVersion\": \"1.27.0.post1\", \"snapshotId\": \"00000000-0000-0000-0000-000000000000\", \"SetupRunId\": \"AutoML_9713967a-96d5-4cdb-a039-93c20febcdb5_setup\", \"SetupRunContainerId\": \"dcid.AutoML_9713967a-96d5-4cdb-a039-93c20febcdb5_setup\", \"FeaturizationRunJsonPath\": \"featurizer_container.json\", \"FeaturizationRunId\": \"AutoML_9713967a-96d5-4cdb-a039-93c20febcdb5_featurize\", \"ProblemInfoJsonString\": \"{\\\"dataset_num_categorical\\\": 0, \\\"is_sparse\\\": false, \\\"subsampling\\\": false, \\\"dataset_classes\\\": 28, \\\"dataset_features\\\": 18, \\\"dataset_samples\\\": 4177, \\\"single_frequency_class_detected\\\": true}\", \"ModelExplainRunId\": \"AutoML_9713967a-96d5-4cdb-a039-93c20febcdb5_ModelExplain\"}, \"tags\": {\"model_explain_run\": \"best_run\", \"_aml_system_azureml.automlComponent\": \"AutoML\", \"pipeline_id\": \"\", \"score\": \"\", \"predicted_cost\": \"\", \"fit_time\": \"\", \"training_percent\": \"\", \"iteration\": \"\", \"run_preprocessor\": \"\", \"run_algorithm\": \"\", \"dynamic_whitelisting_iterations\": \"<25>;<30>;<35>;\", \"automl_best_child_run_id\": \"AutoML_9713967a-96d5-4cdb-a039-93c20febcdb5_22\"}, \"end_time_utc\": \"2021-05-08T07:52:43.680638Z\", \"status\": \"Completed\", \"log_files\": {}, \"log_groups\": [], \"run_duration\": \"0:25:10\", \"run_number\": \"50\", \"run_queued_details\": {\"status\": \"Completed\", \"details\": null}}, \"child_runs\": [{\"run_id\": \"AutoML_9713967a-96d5-4cdb-a039-93c20febcdb5_1\", \"run_number\": 54, \"metric\": null, \"status\": \"Completed\", \"run_type\": \"azureml.scriptrun\", \"training_percent\": \"100\", \"start_time\": \"2021-05-08T07:35:40.948799Z\", \"end_time\": \"2021-05-08T07:36:55.976783Z\", \"created_time\": \"2021-05-08T07:35:26.416386Z\", \"created_time_dt\": \"2021-05-08T07:35:26.416386Z\", \"duration\": \"0:01:29\", \"iteration\": \"1\", \"goal\": \"AUC_weighted_max\", \"run_name\": \"MaxAbsScaler, XGBoostClassifier\", \"run_properties\": \"copy=True\", \"primary_metric\": 0.75593059, \"best_metric\": 0.75593059}, {\"run_id\": \"AutoML_9713967a-96d5-4cdb-a039-93c20febcdb5_0\", \"run_number\": 55, \"metric\": null, \"status\": \"Completed\", \"run_type\": \"azureml.scriptrun\", \"training_percent\": \"100\", \"start_time\": \"2021-05-08T07:37:11.675653Z\", \"end_time\": \"2021-05-08T07:38:29.752888Z\", \"created_time\": \"2021-05-08T07:35:26.421203Z\", \"created_time_dt\": \"2021-05-08T07:35:26.421203Z\", \"duration\": \"0:03:03\", \"iteration\": \"0\", \"goal\": \"AUC_weighted_max\", \"run_name\": \"MaxAbsScaler, LightGBM\", \"run_properties\": \"copy=True\", \"primary_metric\": 0.737927, \"best_metric\": 0.737927}, {\"run_id\": \"AutoML_9713967a-96d5-4cdb-a039-93c20febcdb5_2\", \"run_number\": 56, \"metric\": null, \"status\": \"Completed\", \"run_type\": \"azureml.scriptrun\", \"training_percent\": \"100\", \"start_time\": \"2021-05-08T07:38:44.60068Z\", \"end_time\": \"2021-05-08T07:39:30.683549Z\", \"created_time\": \"2021-05-08T07:35:26.440749Z\", \"created_time_dt\": \"2021-05-08T07:35:26.440749Z\", \"duration\": \"0:04:04\", \"iteration\": \"2\", \"goal\": \"AUC_weighted_max\", \"run_name\": \"MinMaxScaler, RandomForest\", \"run_properties\": \"copy=True, feature_range=(0, 1\", \"primary_metric\": 0.75203609, \"best_metric\": 0.75593059}, {\"run_id\": \"AutoML_9713967a-96d5-4cdb-a039-93c20febcdb5_3\", \"run_number\": 57, \"metric\": null, \"status\": \"Completed\", \"run_type\": \"azureml.scriptrun\", \"training_percent\": \"100\", \"start_time\": \"2021-05-08T07:38:50.184633Z\", \"end_time\": \"2021-05-08T07:40:59.608536Z\", \"created_time\": \"2021-05-08T07:35:26.417997Z\", \"created_time_dt\": \"2021-05-08T07:35:26.417997Z\", \"duration\": \"0:05:33\", \"iteration\": \"3\", \"goal\": \"AUC_weighted_max\", \"run_name\": \"RobustScaler, ExtremeRandomTrees\", \"run_properties\": \"copy=True, quantile_range=[10, 90], with_centering=False,\\n             with_scaling=False\", \"primary_metric\": 0.74737521, \"best_metric\": 0.75593059}, {\"run_id\": \"AutoML_9713967a-96d5-4cdb-a039-93c20febcdb5_4\", \"run_number\": 58, \"metric\": null, \"status\": \"Completed\", \"run_type\": \"azureml.scriptrun\", \"training_percent\": \"100\", \"start_time\": \"2021-05-08T07:38:54.294906Z\", \"end_time\": \"2021-05-08T07:42:08.856609Z\", \"created_time\": \"2021-05-08T07:36:58.133568Z\", \"created_time_dt\": \"2021-05-08T07:36:58.133568Z\", \"duration\": \"0:05:10\", \"iteration\": \"4\", \"goal\": \"AUC_weighted_max\", \"run_name\": \"MinMaxScaler, RandomForest\", \"run_properties\": \"copy=True, feature_range=(0, 1\", \"primary_metric\": 0.73148518, \"best_metric\": 0.75593059}, {\"run_id\": \"AutoML_9713967a-96d5-4cdb-a039-93c20febcdb5_5\", \"run_number\": 59, \"metric\": null, \"status\": \"Completed\", \"run_type\": \"azureml.scriptrun\", \"training_percent\": \"100\", \"start_time\": \"2021-05-08T07:38:51.998979Z\", \"end_time\": \"2021-05-08T07:41:14.301669Z\", \"created_time\": \"2021-05-08T07:38:31.465398Z\", \"created_time_dt\": \"2021-05-08T07:38:31.465398Z\", \"duration\": \"0:02:42\", \"iteration\": \"5\", \"goal\": \"AUC_weighted_max\", \"run_name\": \"MinMaxScaler, RandomForest\", \"run_properties\": \"copy=True, feature_range=(0, 1\", \"primary_metric\": 0.74629731, \"best_metric\": 0.75593059}, {\"run_id\": \"AutoML_9713967a-96d5-4cdb-a039-93c20febcdb5_6\", \"run_number\": 60, \"metric\": null, \"status\": \"Completed\", \"run_type\": \"azureml.scriptrun\", \"training_percent\": \"100\", \"start_time\": \"2021-05-08T07:39:45.92184Z\", \"end_time\": \"2021-05-08T07:40:35.356628Z\", \"created_time\": \"2021-05-08T07:39:33.708896Z\", \"created_time_dt\": \"2021-05-08T07:39:33.708896Z\", \"duration\": \"0:01:01\", \"iteration\": \"6\", \"goal\": \"AUC_weighted_max\", \"run_name\": \"StandardScalerWrapper, RandomForest\", \"run_properties\": \"<azureml.automl.runtime.shared.model_wrappers.StandardScalerWrapper object at 0x7ff3980e1208\", \"primary_metric\": 0.75564771, \"best_metric\": 0.75593059}, {\"run_id\": \"AutoML_9713967a-96d5-4cdb-a039-93c20febcdb5_7\", \"run_number\": 61, \"metric\": null, \"status\": \"Completed\", \"run_type\": \"azureml.scriptrun\", \"training_percent\": \"100\", \"start_time\": \"2021-05-08T07:40:49.717205Z\", \"end_time\": \"2021-05-08T07:41:36.650866Z\", \"created_time\": \"2021-05-08T07:40:38.535506Z\", \"created_time_dt\": \"2021-05-08T07:40:38.535506Z\", \"duration\": \"0:00:58\", \"iteration\": \"7\", \"goal\": \"AUC_weighted_max\", \"run_name\": \"MinMaxScaler, ExtremeRandomTrees\", \"run_properties\": \"copy=True, feature_range=(0, 1\", \"primary_metric\": 0.73702096, \"best_metric\": 0.75593059}, {\"run_id\": \"AutoML_9713967a-96d5-4cdb-a039-93c20febcdb5_8\", \"run_number\": 62, \"metric\": null, \"status\": \"Completed\", \"run_type\": \"azureml.scriptrun\", \"training_percent\": \"100\", \"start_time\": \"2021-05-08T07:41:16.685791Z\", \"end_time\": \"2021-05-08T07:42:03.880686Z\", \"created_time\": \"2021-05-08T07:41:02.479728Z\", \"created_time_dt\": \"2021-05-08T07:41:02.479728Z\", \"duration\": \"0:01:01\", \"iteration\": \"8\", \"goal\": \"AUC_weighted_max\", \"run_name\": \"MinMaxScaler, ExtremeRandomTrees\", \"run_properties\": \"copy=True, feature_range=(0, 1\", \"primary_metric\": 0.74634418, \"best_metric\": 0.75593059}, {\"run_id\": \"AutoML_9713967a-96d5-4cdb-a039-93c20febcdb5_9\", \"run_number\": 63, \"metric\": null, \"status\": \"Completed\", \"run_type\": \"azureml.scriptrun\", \"training_percent\": \"100\", \"start_time\": \"2021-05-08T07:41:27.896009Z\", \"end_time\": \"2021-05-08T07:42:14.545806Z\", \"created_time\": \"2021-05-08T07:41:17.658309Z\", \"created_time_dt\": \"2021-05-08T07:41:17.658309Z\", \"duration\": \"0:00:56\", \"iteration\": \"9\", \"goal\": \"AUC_weighted_max\", \"run_name\": \"SparseNormalizer, KNN\", \"run_properties\": \"<azureml.automl.runtime.shared.model_wrappers.SparseNormalizer object at 0x7f1b6ef50fd0\", \"primary_metric\": 0.68091919, \"best_metric\": 0.75593059}, {\"run_id\": \"AutoML_9713967a-96d5-4cdb-a039-93c20febcdb5_10\", \"run_number\": 64, \"metric\": null, \"status\": \"Completed\", \"run_type\": \"azureml.scriptrun\", \"training_percent\": \"100\", \"start_time\": \"2021-05-08T07:41:52.185833Z\", \"end_time\": \"2021-05-08T07:42:38.416766Z\", \"created_time\": \"2021-05-08T07:41:40.326335Z\", \"created_time_dt\": \"2021-05-08T07:41:40.326335Z\", \"duration\": \"0:00:58\", \"iteration\": \"10\", \"goal\": \"AUC_weighted_max\", \"run_name\": \"MinMaxScaler, ExtremeRandomTrees\", \"run_properties\": \"copy=True, feature_range=(0, 1\", \"primary_metric\": 0.74120603, \"best_metric\": 0.75593059}, {\"run_id\": \"AutoML_9713967a-96d5-4cdb-a039-93c20febcdb5_11\", \"run_number\": 65, \"metric\": null, \"status\": \"Completed\", \"run_type\": \"azureml.scriptrun\", \"training_percent\": \"100\", \"start_time\": \"2021-05-08T07:42:19.335684Z\", \"end_time\": \"2021-05-08T07:43:07.222589Z\", \"created_time\": \"2021-05-08T07:42:06.872132Z\", \"created_time_dt\": \"2021-05-08T07:42:06.872132Z\", \"duration\": \"0:01:00\", \"iteration\": \"11\", \"goal\": \"AUC_weighted_max\", \"run_name\": \"RobustScaler, ExtremeRandomTrees\", \"run_properties\": \"copy=True, quantile_range=[10, 90], with_centering=True,\\n             with_scaling=False\", \"primary_metric\": 0.73703505, \"best_metric\": 0.75593059}, {\"run_id\": \"AutoML_9713967a-96d5-4cdb-a039-93c20febcdb5_12\", \"run_number\": 66, \"metric\": null, \"status\": \"Completed\", \"run_type\": \"azureml.scriptrun\", \"training_percent\": \"100\", \"start_time\": \"2021-05-08T07:42:23.216264Z\", \"end_time\": \"2021-05-08T07:43:10.649543Z\", \"created_time\": \"2021-05-08T07:42:11.655479Z\", \"created_time_dt\": \"2021-05-08T07:42:11.655479Z\", \"duration\": \"0:00:58\", \"iteration\": \"12\", \"goal\": \"AUC_weighted_max\", \"run_name\": \"StandardScalerWrapper, RandomForest\", \"run_properties\": \"<azureml.automl.runtime.shared.model_wrappers.StandardScalerWrapper object at 0x7f0d5fb3da58\", \"primary_metric\": 0.6864381, \"best_metric\": 0.75593059}, {\"run_id\": \"AutoML_9713967a-96d5-4cdb-a039-93c20febcdb5_13\", \"run_number\": 67, \"metric\": null, \"status\": \"Completed\", \"run_type\": \"azureml.scriptrun\", \"training_percent\": \"100\", \"start_time\": \"2021-05-08T07:42:29.191058Z\", \"end_time\": \"2021-05-08T07:43:14.57497Z\", \"created_time\": \"2021-05-08T07:42:17.38334Z\", \"created_time_dt\": \"2021-05-08T07:42:17.38334Z\", \"duration\": \"0:00:57\", \"iteration\": \"13\", \"goal\": \"AUC_weighted_max\", \"run_name\": \"RobustScaler, RandomForest\", \"run_properties\": \"copy=True, quantile_range=[10, 90], with_centering=True,\\n             with_scaling=False\", \"primary_metric\": 0.6997868, \"best_metric\": 0.75593059}, {\"run_id\": \"AutoML_9713967a-96d5-4cdb-a039-93c20febcdb5_14\", \"run_number\": 68, \"metric\": null, \"status\": \"Completed\", \"run_type\": \"azureml.scriptrun\", \"training_percent\": \"100\", \"start_time\": \"2021-05-08T07:42:54.271945Z\", \"end_time\": \"2021-05-08T07:43:39.17546Z\", \"created_time\": \"2021-05-08T07:42:41.405342Z\", \"created_time_dt\": \"2021-05-08T07:42:41.405342Z\", \"duration\": \"0:00:57\", \"iteration\": \"14\", \"goal\": \"AUC_weighted_max\", \"run_name\": \"StandardScalerWrapper, KNN\", \"run_properties\": \"<azureml.automl.runtime.shared.model_wrappers.StandardScalerWrapper object at 0x7f95d0920da0\", \"primary_metric\": 0.68716611, \"best_metric\": 0.75593059}, {\"run_id\": \"AutoML_9713967a-96d5-4cdb-a039-93c20febcdb5_15\", \"run_number\": 69, \"metric\": null, \"status\": \"Completed\", \"run_type\": \"azureml.scriptrun\", \"training_percent\": \"100\", \"start_time\": \"2021-05-08T07:43:22.713864Z\", \"end_time\": \"2021-05-08T07:44:10.5224Z\", \"created_time\": \"2021-05-08T07:43:10.135133Z\", \"created_time_dt\": \"2021-05-08T07:43:10.135133Z\", \"duration\": \"0:01:00\", \"iteration\": \"15\", \"goal\": \"AUC_weighted_max\", \"run_name\": \"MinMaxScaler, RandomForest\", \"run_properties\": \"copy=True, feature_range=(0, 1\", \"primary_metric\": 0.7318748, \"best_metric\": 0.75593059}, {\"run_id\": \"AutoML_9713967a-96d5-4cdb-a039-93c20febcdb5_16\", \"run_number\": 70, \"metric\": null, \"status\": \"Completed\", \"run_type\": \"azureml.scriptrun\", \"training_percent\": \"100\", \"start_time\": \"2021-05-08T07:43:25.838559Z\", \"end_time\": \"2021-05-08T07:44:13.212131Z\", \"created_time\": \"2021-05-08T07:43:14.497456Z\", \"created_time_dt\": \"2021-05-08T07:43:14.497456Z\", \"duration\": \"0:00:58\", \"iteration\": \"16\", \"goal\": \"AUC_weighted_max\", \"run_name\": \"MinMaxScaler, ExtremeRandomTrees\", \"run_properties\": \"copy=True, feature_range=(0, 1\", \"primary_metric\": 0.69910613, \"best_metric\": 0.75593059}, {\"run_id\": \"AutoML_9713967a-96d5-4cdb-a039-93c20febcdb5_17\", \"run_number\": 71, \"metric\": null, \"status\": \"Completed\", \"run_type\": \"azureml.scriptrun\", \"training_percent\": \"100\", \"start_time\": \"2021-05-08T07:43:28.804053Z\", \"end_time\": \"2021-05-08T07:44:15.088752Z\", \"created_time\": \"2021-05-08T07:43:18.709398Z\", \"created_time_dt\": \"2021-05-08T07:43:18.709398Z\", \"duration\": \"0:00:56\", \"iteration\": \"17\", \"goal\": \"AUC_weighted_max\", \"run_name\": \"MaxAbsScaler, RandomForest\", \"run_properties\": \"copy=True\", \"primary_metric\": 0.69286903, \"best_metric\": 0.75593059}, {\"run_id\": \"AutoML_9713967a-96d5-4cdb-a039-93c20febcdb5_18\", \"run_number\": 72, \"metric\": null, \"status\": \"Completed\", \"run_type\": \"azureml.scriptrun\", \"training_percent\": \"100\", \"start_time\": \"2021-05-08T07:43:53.034813Z\", \"end_time\": \"2021-05-08T07:44:41.425184Z\", \"created_time\": \"2021-05-08T07:43:42.393673Z\", \"created_time_dt\": \"2021-05-08T07:43:42.393673Z\", \"duration\": \"0:00:59\", \"iteration\": \"18\", \"goal\": \"AUC_weighted_max\", \"run_name\": \"StandardScalerWrapper, XGBoostClassifier\", \"run_properties\": \"<azureml.automl.runtime.shared.model_wrappers.StandardScalerWrapper object at 0x7fafa879a518\", \"primary_metric\": 0.75132259, \"best_metric\": 0.75593059}, {\"run_id\": \"AutoML_9713967a-96d5-4cdb-a039-93c20febcdb5_19\", \"run_number\": 73, \"metric\": null, \"status\": \"Completed\", \"run_type\": \"azureml.scriptrun\", \"training_percent\": \"100\", \"start_time\": \"2021-05-08T07:44:24.519874Z\", \"end_time\": \"2021-05-08T07:46:11.005578Z\", \"created_time\": \"2021-05-08T07:44:13.556773Z\", \"created_time_dt\": \"2021-05-08T07:44:13.556773Z\", \"duration\": \"0:01:57\", \"iteration\": \"19\", \"goal\": \"AUC_weighted_max\", \"run_name\": \"MaxAbsScaler, RandomForest\", \"run_properties\": \"copy=True\", \"primary_metric\": 0.74939578, \"best_metric\": 0.75593059}, {\"run_id\": \"AutoML_9713967a-96d5-4cdb-a039-93c20febcdb5_21\", \"run_number\": 74, \"metric\": null, \"status\": \"Completed\", \"run_type\": \"azureml.scriptrun\", \"training_percent\": \"100\", \"start_time\": \"2021-05-08T07:44:30.203919Z\", \"end_time\": \"2021-05-08T07:45:17.034272Z\", \"created_time\": \"2021-05-08T07:44:18.042747Z\", \"created_time_dt\": \"2021-05-08T07:44:18.042747Z\", \"duration\": \"0:00:58\", \"iteration\": \"21\", \"goal\": \"AUC_weighted_max\", \"run_name\": \"MaxAbsScaler, ExtremeRandomTrees\", \"run_properties\": \"copy=True\", \"primary_metric\": 0.71497343, \"best_metric\": 0.75593059}, {\"run_id\": \"AutoML_9713967a-96d5-4cdb-a039-93c20febcdb5_20\", \"run_number\": 75, \"metric\": null, \"status\": \"Completed\", \"run_type\": \"azureml.scriptrun\", \"training_percent\": \"100\", \"start_time\": \"2021-05-08T07:44:54.460129Z\", \"end_time\": \"2021-05-08T07:45:44.059496Z\", \"created_time\": \"2021-05-08T07:44:18.049584Z\", \"created_time_dt\": \"2021-05-08T07:44:18.049584Z\", \"duration\": \"0:01:26\", \"iteration\": \"20\", \"goal\": \"AUC_weighted_max\", \"run_name\": \"MaxAbsScaler, ExtremeRandomTrees\", \"run_properties\": \"copy=True\", \"primary_metric\": 0.68510732, \"best_metric\": 0.75593059}, {\"run_id\": \"AutoML_9713967a-96d5-4cdb-a039-93c20febcdb5_22\", \"run_number\": 76, \"metric\": null, \"status\": \"Completed\", \"run_type\": \"azureml.scriptrun\", \"training_percent\": \"100\", \"start_time\": \"2021-05-08T07:44:55.510245Z\", \"end_time\": \"2021-05-08T07:46:04.759325Z\", \"created_time\": \"2021-05-08T07:44:44.128436Z\", \"created_time_dt\": \"2021-05-08T07:44:44.128436Z\", \"duration\": \"0:01:20\", \"iteration\": \"22\", \"goal\": \"AUC_weighted_max\", \"run_name\": \"StandardScalerWrapper, SVM\", \"run_properties\": \"<azureml.automl.runtime.shared.model_wrappers.StandardScalerWrapper object at 0x7f0ef171abe0\", \"primary_metric\": 0.77590438, \"best_metric\": 0.77590438}, {\"run_id\": \"AutoML_9713967a-96d5-4cdb-a039-93c20febcdb5_23\", \"run_number\": 77, \"metric\": null, \"status\": \"Completed\", \"run_type\": \"azureml.scriptrun\", \"training_percent\": \"100\", \"start_time\": \"2021-05-08T07:45:31.843824Z\", \"end_time\": \"2021-05-08T07:46:31.965288Z\", \"created_time\": \"2021-05-08T07:45:19.669875Z\", \"created_time_dt\": \"2021-05-08T07:45:19.669875Z\", \"duration\": \"0:01:12\", \"iteration\": \"23\", \"goal\": \"AUC_weighted_max\", \"run_name\": \"MinMaxScaler, LightGBM\", \"run_properties\": \"copy=True, feature_range=(0, 1\", \"primary_metric\": 0.7517981, \"best_metric\": 0.77590438}, {\"run_id\": \"AutoML_9713967a-96d5-4cdb-a039-93c20febcdb5_24\", \"run_number\": 78, \"metric\": null, \"status\": \"Completed\", \"run_type\": \"azureml.scriptrun\", \"training_percent\": \"100\", \"start_time\": \"2021-05-08T07:45:59.134836Z\", \"end_time\": \"2021-05-08T07:47:10.913425Z\", \"created_time\": \"2021-05-08T07:45:46.50589Z\", \"created_time_dt\": \"2021-05-08T07:45:46.50589Z\", \"duration\": \"0:01:24\", \"iteration\": \"24\", \"goal\": \"AUC_weighted_max\", \"run_name\": \"StandardScalerWrapper, SVM\", \"run_properties\": \"<azureml.automl.runtime.shared.model_wrappers.StandardScalerWrapper object at 0x7fa39c567208\", \"primary_metric\": 0.77299405, \"best_metric\": 0.77590438}, {\"run_id\": \"AutoML_9713967a-96d5-4cdb-a039-93c20febcdb5_25\", \"run_number\": 79, \"metric\": null, \"status\": \"Completed\", \"run_type\": \"azureml.scriptrun\", \"training_percent\": \"100\", \"start_time\": \"2021-05-08T07:46:20.44235Z\", \"end_time\": \"2021-05-08T07:47:30.658936Z\", \"created_time\": \"2021-05-08T07:46:08.034375Z\", \"created_time_dt\": \"2021-05-08T07:46:08.034375Z\", \"duration\": \"0:01:22\", \"iteration\": \"25\", \"goal\": \"AUC_weighted_max\", \"run_name\": \"RobustScaler, SVM\", \"run_properties\": \"copy=True, quantile_range=[25, 75], with_centering=False,\\n             with_scaling=False\", \"primary_metric\": 0.67751743, \"best_metric\": 0.77590438}, {\"run_id\": \"AutoML_9713967a-96d5-4cdb-a039-93c20febcdb5_26\", \"run_number\": 80, \"metric\": null, \"status\": \"Completed\", \"run_type\": \"azureml.scriptrun\", \"training_percent\": \"100\", \"start_time\": \"2021-05-08T07:46:25.366416Z\", \"end_time\": \"2021-05-08T07:47:11.284532Z\", \"created_time\": \"2021-05-08T07:46:12.803918Z\", \"created_time_dt\": \"2021-05-08T07:46:12.803918Z\", \"duration\": \"0:00:58\", \"iteration\": \"26\", \"goal\": \"AUC_weighted_max\", \"run_name\": \"StandardScalerWrapper, LightGBM\", \"run_properties\": \"<azureml.automl.runtime.shared.model_wrappers.StandardScalerWrapper object at 0x7f690d861588\", \"primary_metric\": 0.74451811, \"best_metric\": 0.77590438}, {\"run_id\": \"AutoML_9713967a-96d5-4cdb-a039-93c20febcdb5_27\", \"run_number\": 81, \"metric\": null, \"status\": \"Completed\", \"run_type\": \"azureml.scriptrun\", \"training_percent\": \"100\", \"start_time\": \"2021-05-08T07:46:46.628748Z\", \"end_time\": \"2021-05-08T07:47:34.755389Z\", \"created_time\": \"2021-05-08T07:46:33.772121Z\", \"created_time_dt\": \"2021-05-08T07:46:33.772121Z\", \"duration\": \"0:01:00\", \"iteration\": \"27\", \"goal\": \"AUC_weighted_max\", \"run_name\": \"StandardScalerWrapper, LightGBM\", \"run_properties\": \"<azureml.automl.runtime.shared.model_wrappers.StandardScalerWrapper object at 0x7fc969c69e10\", \"primary_metric\": 0.73972333, \"best_metric\": 0.77590438}, {\"run_id\": \"AutoML_9713967a-96d5-4cdb-a039-93c20febcdb5_29\", \"run_number\": 82, \"metric\": null, \"status\": \"Completed\", \"run_type\": \"azureml.scriptrun\", \"training_percent\": \"100\", \"start_time\": \"2021-05-08T07:47:26.106766Z\", \"end_time\": \"2021-05-08T07:48:18.548527Z\", \"created_time\": \"2021-05-08T07:47:12.982116Z\", \"created_time_dt\": \"2021-05-08T07:47:12.982116Z\", \"duration\": \"0:01:05\", \"iteration\": \"29\", \"goal\": \"AUC_weighted_max\", \"run_name\": \"SparseNormalizer, XGBoostClassifier\", \"run_properties\": \"<azureml.automl.runtime.shared.model_wrappers.SparseNormalizer object at 0x7faf85244198\", \"primary_metric\": 0.75124029, \"best_metric\": 0.77590438}, {\"run_id\": \"AutoML_9713967a-96d5-4cdb-a039-93c20febcdb5_28\", \"run_number\": 83, \"metric\": null, \"status\": \"Completed\", \"run_type\": \"azureml.scriptrun\", \"training_percent\": \"100\", \"start_time\": \"2021-05-08T07:47:27.090498Z\", \"end_time\": \"2021-05-08T07:48:26.876742Z\", \"created_time\": \"2021-05-08T07:47:13.00521Z\", \"created_time_dt\": \"2021-05-08T07:47:13.00521Z\", \"duration\": \"0:01:13\", \"iteration\": \"28\", \"goal\": \"AUC_weighted_max\", \"run_name\": \"SparseNormalizer, XGBoostClassifier\", \"run_properties\": \"<azureml.automl.runtime.shared.model_wrappers.SparseNormalizer object at 0x7f2e2978e6d8\", \"primary_metric\": 0.76032301, \"best_metric\": 0.77590438}, {\"run_id\": \"AutoML_9713967a-96d5-4cdb-a039-93c20febcdb5_30\", \"run_number\": 84, \"metric\": null, \"status\": \"Completed\", \"run_type\": \"azureml.scriptrun\", \"training_percent\": \"100\", \"start_time\": \"2021-05-08T07:47:44.302251Z\", \"end_time\": \"2021-05-08T07:49:18.661274Z\", \"created_time\": \"2021-05-08T07:47:33.545343Z\", \"created_time_dt\": \"2021-05-08T07:47:33.545343Z\", \"duration\": \"0:01:45\", \"iteration\": \"30\", \"goal\": \"AUC_weighted_max\", \"run_name\": \"MinMaxScaler, SVM\", \"run_properties\": \"copy=True, feature_range=(0, 1\", \"primary_metric\": 0.334417, \"best_metric\": 0.77590438}, {\"run_id\": \"AutoML_9713967a-96d5-4cdb-a039-93c20febcdb5_31\", \"run_number\": 85, \"metric\": null, \"status\": \"Completed\", \"run_type\": \"azureml.scriptrun\", \"training_percent\": \"100\", \"start_time\": \"2021-05-08T07:47:50.52349Z\", \"end_time\": \"2021-05-08T07:49:06.436062Z\", \"created_time\": \"2021-05-08T07:47:36.589535Z\", \"created_time_dt\": \"2021-05-08T07:47:36.589535Z\", \"duration\": \"0:01:29\", \"iteration\": \"31\", \"goal\": \"AUC_weighted_max\", \"run_name\": \"StandardScalerWrapper, XGBoostClassifier\", \"run_properties\": \"<azureml.automl.runtime.shared.model_wrappers.StandardScalerWrapper object at 0x7f3592f61320\", \"primary_metric\": 0.75053959, \"best_metric\": 0.77590438}, {\"run_id\": \"AutoML_9713967a-96d5-4cdb-a039-93c20febcdb5_32\", \"run_number\": 86, \"metric\": null, \"status\": \"Completed\", \"run_type\": \"azureml.scriptrun\", \"training_percent\": \"100\", \"start_time\": \"2021-05-08T07:48:34.58665Z\", \"end_time\": \"2021-05-08T07:49:43.953937Z\", \"created_time\": \"2021-05-08T07:48:20.501578Z\", \"created_time_dt\": \"2021-05-08T07:48:20.501578Z\", \"duration\": \"0:01:23\", \"iteration\": \"32\", \"goal\": \"AUC_weighted_max\", \"run_name\": \"StandardScalerWrapper, XGBoostClassifier\", \"run_properties\": \"<azureml.automl.runtime.shared.model_wrappers.StandardScalerWrapper object at 0x7f360274dc50\", \"primary_metric\": 0.75402954, \"best_metric\": 0.77590438}, {\"run_id\": \"AutoML_9713967a-96d5-4cdb-a039-93c20febcdb5_33\", \"run_number\": 87, \"metric\": null, \"status\": \"Completed\", \"run_type\": \"azureml.scriptrun\", \"training_percent\": \"100\", \"start_time\": \"2021-05-08T07:48:44.467554Z\", \"end_time\": \"2021-05-08T07:50:06.37884Z\", \"created_time\": \"2021-05-08T07:48:28.733998Z\", \"created_time_dt\": \"2021-05-08T07:48:28.733998Z\", \"duration\": \"0:01:37\", \"iteration\": \"33\", \"goal\": \"AUC_weighted_max\", \"run_name\": \"StandardScalerWrapper, XGBoostClassifier\", \"run_properties\": \"<azureml.automl.runtime.shared.model_wrappers.StandardScalerWrapper object at 0x7fb062d8a2e8\", \"primary_metric\": 0.75204694, \"best_metric\": 0.77590438}, {\"run_id\": \"AutoML_9713967a-96d5-4cdb-a039-93c20febcdb5_34\", \"run_number\": 88, \"metric\": null, \"status\": \"Completed\", \"run_type\": \"azureml.scriptrun\", \"training_percent\": \"100\", \"start_time\": \"2021-05-08T07:49:23.321536Z\", \"end_time\": \"2021-05-08T07:50:33.049104Z\", \"created_time\": \"2021-05-08T07:49:08.269745Z\", \"created_time_dt\": \"2021-05-08T07:49:08.269745Z\", \"duration\": \"0:01:24\", \"iteration\": \"34\", \"goal\": \"AUC_weighted_max\", \"run_name\": \"StandardScalerWrapper, XGBoostClassifier\", \"run_properties\": \"<azureml.automl.runtime.shared.model_wrappers.StandardScalerWrapper object at 0x7ff1a8575f98\", \"primary_metric\": 0.75217641, \"best_metric\": 0.77590438}, {\"run_id\": \"AutoML_9713967a-96d5-4cdb-a039-93c20febcdb5_35\", \"run_number\": 89, \"metric\": null, \"status\": \"Canceled\", \"run_type\": \"azureml.scriptrun\", \"training_percent\": \"100\", \"start_time\": \"2021-05-08T07:49:33.781109Z\", \"end_time\": \"2021-05-08T07:50:37.146262Z\", \"created_time\": \"2021-05-08T07:49:21.318908Z\", \"created_time_dt\": \"2021-05-08T07:49:21.318908Z\", \"duration\": \"0:01:15\", \"iteration\": \"35\", \"goal\": \"AUC_weighted_max\", \"run_name\": \"MaxAbsScaler, SVM\", \"run_properties\": \"copy=True\", \"primary_metric\": 0.71099342, \"best_metric\": 0.77590438}, {\"run_id\": \"AutoML_9713967a-96d5-4cdb-a039-93c20febcdb5_36\", \"run_number\": 90, \"metric\": null, \"status\": \"Canceled\", \"run_type\": \"azureml.scriptrun\", \"training_percent\": \"100\", \"start_time\": \"2021-05-08T07:49:58.996398Z\", \"end_time\": \"2021-05-08T07:50:37.466406Z\", \"created_time\": \"2021-05-08T07:49:46.3156Z\", \"created_time_dt\": \"2021-05-08T07:49:46.3156Z\", \"duration\": \"0:00:51\", \"iteration\": \"36\", \"goal\": \"AUC_weighted_max\", \"run_name\": \"StandardScalerWrapper, LogisticRegression\", \"run_properties\": \"<azureml.automl.runtime.shared.model_wrappers.StandardScalerWrapper object at 0x7fe8733e0d68\", \"primary_metric\": 0.71398772, \"best_metric\": 0.77590438}, {\"run_id\": \"AutoML_9713967a-96d5-4cdb-a039-93c20febcdb5_37\", \"run_number\": 91, \"metric\": null, \"status\": \"Canceled\", \"run_type\": \"azureml.scriptrun\", \"training_percent\": \"100\", \"start_time\": \"2021-05-08T07:50:20.327348Z\", \"end_time\": \"2021-05-08T07:50:36.971271Z\", \"created_time\": \"2021-05-08T07:50:08.720184Z\", \"created_time_dt\": \"2021-05-08T07:50:08.720184Z\", \"duration\": \"0:00:28\", \"iteration\": \"37\", \"goal\": null, \"run_name\": \"Canceled\", \"run_properties\": null}, {\"run_id\": \"AutoML_9713967a-96d5-4cdb-a039-93c20febcdb5_38\", \"run_number\": 92, \"metric\": null, \"status\": \"Completed\", \"run_type\": \"azureml.scriptrun\", \"training_percent\": \"100\", \"start_time\": \"2021-05-08T07:50:45.291303Z\", \"end_time\": \"2021-05-08T07:52:40.178467Z\", \"created_time\": \"2021-05-08T07:50:38.608656Z\", \"created_time_dt\": \"2021-05-08T07:50:38.608656Z\", \"duration\": \"0:02:01\", \"iteration\": \"38\", \"goal\": \"AUC_weighted_max\", \"run_name\": \"VotingEnsemble\", \"run_properties\": \"classification_labels=None,\\n                              estimators=[('22',\\n                                           Pipeline(memory=None,\\n                                                    steps=[('standardscalerwrapper',\\n                                                            <azureml.automl.runtime.shared.model_wrappers.StandardScalerWrapper object at 0x7fe37fb506a0>\", \"primary_metric\": 0.76185296, \"best_metric\": 0.77590438}, {\"run_id\": \"AutoML_9713967a-96d5-4cdb-a039-93c20febcdb5_39\", \"run_number\": 93, \"metric\": null, \"status\": \"Completed\", \"run_type\": \"azureml.scriptrun\", \"training_percent\": \"100\", \"start_time\": \"2021-05-08T07:50:43.052686Z\", \"end_time\": \"2021-05-08T07:52:39.986219Z\", \"created_time\": \"2021-05-08T07:50:38.585821Z\", \"created_time_dt\": \"2021-05-08T07:50:38.585821Z\", \"duration\": \"0:02:01\", \"iteration\": \"39\", \"goal\": \"AUC_weighted_max\", \"run_name\": \"StackEnsemble\", \"run_properties\": \"base_learners=[('22',\\n                                        Pipeline(memory=None,\\n                                                 steps=[('standardscalerwrapper',\\n                                                         <azureml.automl.runtime.shared.model_wrappers.StandardScalerWrapper object at 0x7f68bb896198>\", \"primary_metric\": 0.50167525, \"best_metric\": 0.77590438}], \"children_metrics\": {\"categories\": [0], \"series\": {\"AUC_micro\": [{\"categories\": [\"0\", \"1\", \"2\", \"3\", \"4\", \"5\", \"6\", \"7\", \"8\", \"9\", \"10\", \"11\", \"12\", \"13\", \"14\", \"15\", \"16\", \"17\", \"18\", \"19\", \"20\", \"21\", \"22\", \"23\", \"24\", \"25\", \"26\", \"27\", \"28\", \"29\", \"30\", \"31\", \"32\", \"33\", \"34\", \"35\", \"36\", \"38\", \"39\"], \"mode\": \"markers\", \"name\": \"AUC_micro\", \"stepped\": false, \"type\": \"scatter\", \"data\": [0.9036337328969788, 0.9121473462369539, 0.9112448180480989, 0.9096886194131666, 0.8702687296347639, 0.9092460910743236, 0.9120445274408442, 0.9050548578586985, 0.9092915283019681, 0.810255587891655, 0.9073920678063145, 0.9048021821308785, 0.7875318127222531, 0.8389157391432068, 0.8259807166561651, 0.9053745229436402, 0.7871151935596866, 0.8119117327334314, 0.9113824458690868, 0.9105579242775699, 0.7994584417927649, 0.8442738760034355, 0.9195307783069405, 0.9110730525783879, 0.9187335233939198, 0.8689424773778281, 0.9053643688974757, 0.903603582801778, 0.913874927570521, 0.9117600477348136, 0.8437163329228992, 0.9088022234927909, 0.9110445767558147, 0.9106170279424891, 0.9107516832883426, 0.9030662932811234, 0.8545275816874925, 0.9070494728428776, 0.6459869864873183]}, {\"categories\": [\"0\", \"1\", \"2\", \"3\", \"4\", \"5\", \"6\", \"7\", \"8\", \"9\", \"10\", \"11\", \"12\", \"13\", \"14\", \"15\", \"16\", \"17\", \"18\", \"19\", \"20\", \"21\", \"22\", \"23\", \"24\", \"25\", \"26\", \"27\", \"28\", \"29\", \"30\", \"31\", \"32\", \"33\", \"34\", \"35\", \"36\", \"38\", \"39\"], \"mode\": \"lines\", \"name\": \"AUC_micro_max\", \"stepped\": true, \"type\": \"scatter\", \"data\": [0.9036337328969788, 0.9121473462369539, 0.9121473462369539, 0.9121473462369539, 0.9121473462369539, 0.9121473462369539, 0.9121473462369539, 0.9121473462369539, 0.9121473462369539, 0.9121473462369539, 0.9121473462369539, 0.9121473462369539, 0.9121473462369539, 0.9121473462369539, 0.9121473462369539, 0.9121473462369539, 0.9121473462369539, 0.9121473462369539, 0.9121473462369539, 0.9121473462369539, 0.9121473462369539, 0.9121473462369539, 0.9195307783069405, 0.9195307783069405, 0.9195307783069405, 0.9195307783069405, 0.9195307783069405, 0.9195307783069405, 0.9195307783069405, 0.9195307783069405, 0.9195307783069405, 0.9195307783069405, 0.9195307783069405, 0.9195307783069405, 0.9195307783069405, 0.9195307783069405, 0.9195307783069405, 0.9195307783069405, 0.9195307783069405]}], \"recall_score_micro\": [{\"categories\": [\"0\", \"1\", \"2\", \"3\", \"4\", \"5\", \"6\", \"7\", \"8\", \"9\", \"10\", \"11\", \"12\", \"13\", \"14\", \"15\", \"16\", \"17\", \"18\", \"19\", \"20\", \"21\", \"22\", \"23\", \"24\", \"25\", \"26\", \"27\", \"28\", \"29\", \"30\", \"31\", \"32\", \"33\", \"34\", \"35\", \"36\", \"38\", \"39\"], \"mode\": \"markers\", \"name\": \"recall_score_micro\", \"stepped\": false, \"type\": \"scatter\", \"data\": [0.23701515926650218, 0.2523399702398143, 0.265744430967096, 0.2619131852475294, 0.19272230061088144, 0.26406681051673253, 0.2621514455143809, 0.256646189348494, 0.2628698363189786, 0.23988236200157875, 0.2559288299736229, 0.256406553842007, 0.10726336251591839, 0.16998116609319172, 0.24850150451216124, 0.26167372164599684, 0.1108444865267773, 0.13167506938083962, 0.2556866158928193, 0.2571251165515591, 0.11658817486447014, 0.15274391250175343, 0.2626300289075371, 0.2489849012440418, 0.2508980314819857, 0.1683050927874182, 0.2564082728915514, 0.26310964373042, 0.2590394501241841, 0.2554471522912867, 0.1649526023659623, 0.2544898136000198, 0.259998335960041, 0.25808159571805384, 0.25233687595063437, 0.24587084299439177, 0.19248214938953112, 0.25880118985733264, 0.03327564203062384]}, {\"categories\": [\"0\", \"1\", \"2\", \"3\", \"4\", \"5\", \"6\", \"7\", \"8\", \"9\", \"10\", \"11\", \"12\", \"13\", \"14\", \"15\", \"16\", \"17\", \"18\", \"19\", \"20\", \"21\", \"22\", \"23\", \"24\", \"25\", \"26\", \"27\", \"28\", \"29\", \"30\", \"31\", \"32\", \"33\", \"34\", \"35\", \"36\", \"38\", \"39\"], \"mode\": \"lines\", \"name\": \"recall_score_micro_max\", \"stepped\": true, \"type\": \"scatter\", \"data\": [0.23701515926650218, 0.2523399702398143, 0.265744430967096, 0.265744430967096, 0.265744430967096, 0.265744430967096, 0.265744430967096, 0.265744430967096, 0.265744430967096, 0.265744430967096, 0.265744430967096, 0.265744430967096, 0.265744430967096, 0.265744430967096, 0.265744430967096, 0.265744430967096, 0.265744430967096, 0.265744430967096, 0.265744430967096, 0.265744430967096, 0.265744430967096, 0.265744430967096, 0.265744430967096, 0.265744430967096, 0.265744430967096, 0.265744430967096, 0.265744430967096, 0.265744430967096, 0.265744430967096, 0.265744430967096, 0.265744430967096, 0.265744430967096, 0.265744430967096, 0.265744430967096, 0.265744430967096, 0.265744430967096, 0.265744430967096, 0.265744430967096, 0.265744430967096]}], \"average_precision_score_micro\": [{\"categories\": [\"0\", \"1\", \"2\", \"3\", \"4\", \"5\", \"6\", \"7\", \"8\", \"9\", \"10\", \"11\", \"12\", \"13\", \"14\", \"15\", \"16\", \"17\", \"18\", \"19\", \"20\", \"21\", \"22\", \"23\", \"24\", \"25\", \"26\", \"27\", \"28\", \"29\", \"30\", \"31\", \"32\", \"33\", \"34\", \"35\", \"36\", \"38\", \"39\"], \"mode\": \"markers\", \"name\": \"average_precision_score_micro\", \"stepped\": false, \"type\": \"scatter\", \"data\": [0.21273458490278777, 0.24035884458915402, 0.24484279719596425, 0.24916033329094645, 0.18436360785151404, 0.24021034692903864, 0.25394858089233496, 0.2332379082468529, 0.25000215851306407, 0.18363720115909252, 0.23994350562775457, 0.23553462298399105, 0.0930218234581585, 0.15335747244991985, 0.19210170240893962, 0.23680182677161152, 0.11284753216883263, 0.1301253803374346, 0.24819568373755144, 0.24967616221746702, 0.11453067447752097, 0.16025654240459566, 0.26055139249854, 0.22972848491812045, 0.2558870311000444, 0.1503360758501757, 0.24504077470046778, 0.24033873945812542, 0.2453087546667733, 0.24922798876342941, 0.1254803342658286, 0.23371110954283872, 0.23939997640415311, 0.2343751426633688, 0.2306587506852272, 0.23027607335872247, 0.15923890341611946, 0.24526012531075572, 0.04839257914657632]}, {\"categories\": [\"0\", \"1\", \"2\", \"3\", \"4\", \"5\", \"6\", \"7\", \"8\", \"9\", \"10\", \"11\", \"12\", \"13\", \"14\", \"15\", \"16\", \"17\", \"18\", \"19\", \"20\", \"21\", \"22\", \"23\", \"24\", \"25\", \"26\", \"27\", \"28\", \"29\", \"30\", \"31\", \"32\", \"33\", \"34\", \"35\", \"36\", \"38\", \"39\"], \"mode\": \"lines\", \"name\": \"average_precision_score_micro_max\", \"stepped\": true, \"type\": \"scatter\", \"data\": [0.21273458490278777, 0.24035884458915402, 0.24484279719596425, 0.24916033329094645, 0.24916033329094645, 0.24916033329094645, 0.25394858089233496, 0.25394858089233496, 0.25394858089233496, 0.25394858089233496, 0.25394858089233496, 0.25394858089233496, 0.25394858089233496, 0.25394858089233496, 0.25394858089233496, 0.25394858089233496, 0.25394858089233496, 0.25394858089233496, 0.25394858089233496, 0.25394858089233496, 0.25394858089233496, 0.25394858089233496, 0.26055139249854, 0.26055139249854, 0.26055139249854, 0.26055139249854, 0.26055139249854, 0.26055139249854, 0.26055139249854, 0.26055139249854, 0.26055139249854, 0.26055139249854, 0.26055139249854, 0.26055139249854, 0.26055139249854, 0.26055139249854, 0.26055139249854, 0.26055139249854, 0.26055139249854]}], \"recall_score_weighted\": [{\"categories\": [\"0\", \"1\", \"2\", \"3\", \"4\", \"5\", \"6\", \"7\", \"8\", \"9\", \"10\", \"11\", \"12\", \"13\", \"14\", \"15\", \"16\", \"17\", \"18\", \"19\", \"20\", \"21\", \"22\", \"23\", \"24\", \"25\", \"26\", \"27\", \"28\", \"29\", \"30\", \"31\", \"32\", \"33\", \"34\", \"35\", \"36\", \"38\", \"39\"], \"mode\": \"markers\", \"name\": \"recall_score_weighted\", \"stepped\": false, \"type\": \"scatter\", \"data\": [0.23701515926650218, 0.2523399702398143, 0.265744430967096, 0.2619131852475294, 0.19272230061088144, 0.26406681051673253, 0.2621514455143809, 0.256646189348494, 0.2628698363189786, 0.23988236200157875, 0.2559288299736229, 0.256406553842007, 0.10726336251591839, 0.16998116609319172, 0.24850150451216124, 0.26167372164599684, 0.1108444865267773, 0.13167506938083962, 0.2556866158928193, 0.2571251165515591, 0.11658817486447014, 0.15274391250175343, 0.2626300289075371, 0.2489849012440418, 0.2508980314819857, 0.1683050927874182, 0.2564082728915514, 0.26310964373042, 0.2590394501241841, 0.2554471522912867, 0.1649526023659623, 0.2544898136000198, 0.259998335960041, 0.25808159571805384, 0.25233687595063437, 0.24587084299439177, 0.19248214938953112, 0.25880118985733264, 0.03327564203062384]}, {\"categories\": [\"0\", \"1\", \"2\", \"3\", \"4\", \"5\", \"6\", \"7\", \"8\", \"9\", \"10\", \"11\", \"12\", \"13\", \"14\", \"15\", \"16\", \"17\", \"18\", \"19\", \"20\", \"21\", \"22\", \"23\", \"24\", \"25\", \"26\", \"27\", \"28\", \"29\", \"30\", \"31\", \"32\", \"33\", \"34\", \"35\", \"36\", \"38\", \"39\"], \"mode\": \"lines\", \"name\": \"recall_score_weighted_max\", \"stepped\": true, \"type\": \"scatter\", \"data\": [0.23701515926650218, 0.2523399702398143, 0.265744430967096, 0.265744430967096, 0.265744430967096, 0.265744430967096, 0.265744430967096, 0.265744430967096, 0.265744430967096, 0.265744430967096, 0.265744430967096, 0.265744430967096, 0.265744430967096, 0.265744430967096, 0.265744430967096, 0.265744430967096, 0.265744430967096, 0.265744430967096, 0.265744430967096, 0.265744430967096, 0.265744430967096, 0.265744430967096, 0.265744430967096, 0.265744430967096, 0.265744430967096, 0.265744430967096, 0.265744430967096, 0.265744430967096, 0.265744430967096, 0.265744430967096, 0.265744430967096, 0.265744430967096, 0.265744430967096, 0.265744430967096, 0.265744430967096, 0.265744430967096, 0.265744430967096, 0.265744430967096, 0.265744430967096]}], \"accuracy\": [{\"categories\": [\"0\", \"1\", \"2\", \"3\", \"4\", \"5\", \"6\", \"7\", \"8\", \"9\", \"10\", \"11\", \"12\", \"13\", \"14\", \"15\", \"16\", \"17\", \"18\", \"19\", \"20\", \"21\", \"22\", \"23\", \"24\", \"25\", \"26\", \"27\", \"28\", \"29\", \"30\", \"31\", \"32\", \"33\", \"34\", \"35\", \"36\", \"38\", \"39\"], \"mode\": \"markers\", \"name\": \"accuracy\", \"stepped\": false, \"type\": \"scatter\", \"data\": [0.23701515926650218, 0.2523399702398143, 0.265744430967096, 0.2619131852475294, 0.19272230061088144, 0.26406681051673253, 0.2621514455143809, 0.256646189348494, 0.2628698363189786, 0.23988236200157875, 0.2559288299736229, 0.256406553842007, 0.10726336251591839, 0.16998116609319172, 0.24850150451216124, 0.26167372164599684, 0.1108444865267773, 0.13167506938083962, 0.2556866158928193, 0.2571251165515591, 0.11658817486447014, 0.15274391250175343, 0.2626300289075371, 0.2489849012440418, 0.2508980314819857, 0.1683050927874182, 0.2564082728915514, 0.26310964373042, 0.2590394501241841, 0.2554471522912867, 0.1649526023659623, 0.2544898136000198, 0.259998335960041, 0.25808159571805384, 0.25233687595063437, 0.24587084299439177, 0.19248214938953112, 0.25880118985733264, 0.03327564203062384]}, {\"categories\": [\"0\", \"1\", \"2\", \"3\", \"4\", \"5\", \"6\", \"7\", \"8\", \"9\", \"10\", \"11\", \"12\", \"13\", \"14\", \"15\", \"16\", \"17\", \"18\", \"19\", \"20\", \"21\", \"22\", \"23\", \"24\", \"25\", \"26\", \"27\", \"28\", \"29\", \"30\", \"31\", \"32\", \"33\", \"34\", \"35\", \"36\", \"38\", \"39\"], \"mode\": \"lines\", \"name\": \"accuracy_max\", \"stepped\": true, \"type\": \"scatter\", \"data\": [0.23701515926650218, 0.2523399702398143, 0.265744430967096, 0.265744430967096, 0.265744430967096, 0.265744430967096, 0.265744430967096, 0.265744430967096, 0.265744430967096, 0.265744430967096, 0.265744430967096, 0.265744430967096, 0.265744430967096, 0.265744430967096, 0.265744430967096, 0.265744430967096, 0.265744430967096, 0.265744430967096, 0.265744430967096, 0.265744430967096, 0.265744430967096, 0.265744430967096, 0.265744430967096, 0.265744430967096, 0.265744430967096, 0.265744430967096, 0.265744430967096, 0.265744430967096, 0.265744430967096, 0.265744430967096, 0.265744430967096, 0.265744430967096, 0.265744430967096, 0.265744430967096, 0.265744430967096, 0.265744430967096, 0.265744430967096, 0.265744430967096, 0.265744430967096]}], \"precision_score_weighted\": [{\"categories\": [\"0\", \"1\", \"2\", \"3\", \"4\", \"5\", \"6\", \"7\", \"8\", \"9\", \"10\", \"11\", \"12\", \"13\", \"14\", \"15\", \"16\", \"17\", \"18\", \"19\", \"20\", \"21\", \"22\", \"23\", \"24\", \"25\", \"26\", \"27\", \"28\", \"29\", \"30\", \"31\", \"32\", \"33\", \"34\", \"35\", \"36\", \"38\", \"39\"], \"mode\": \"markers\", \"name\": \"precision_score_weighted\", \"stepped\": false, \"type\": \"scatter\", \"data\": [0.22071476140082277, 0.2328639462007217, 0.2053141538198894, 0.20346733970027298, 0.24288912411748564, 0.20327308379739306, 0.23571018640692812, 0.19226013605292458, 0.20538545020295806, 0.22262146436915362, 0.19379937853877507, 0.19342610311848354, 0.15799127236518834, 0.2188111821577443, 0.22542676252555818, 0.2015111485592587, 0.20802115777024768, 0.18297531394730127, 0.22827423947354966, 0.21898643344573906, 0.12719756736111604, 0.22216926058444234, 0.2383503909607375, 0.23142092566751285, 0.22461515393361245, 0.04811365331458886, 0.20239492411228813, 0.21336870586946835, 0.23966153919518907, 0.24028093625262156, 0.027271934080417535, 0.23688659251433294, 0.24274048873560475, 0.24059660220566367, 0.23691874945387129, 0.18238464935436485, 0.23129350310906685, 0.24476080309124867, 0.04941886364457935]}, {\"categories\": [\"0\", \"1\", \"2\", \"3\", \"4\", \"5\", \"6\", \"7\", \"8\", \"9\", \"10\", \"11\", \"12\", \"13\", \"14\", \"15\", \"16\", \"17\", \"18\", \"19\", \"20\", \"21\", \"22\", \"23\", \"24\", \"25\", \"26\", \"27\", \"28\", \"29\", \"30\", \"31\", \"32\", \"33\", \"34\", \"35\", \"36\", \"38\", \"39\"], \"mode\": \"lines\", \"name\": \"precision_score_weighted_max\", \"stepped\": true, \"type\": \"scatter\", \"data\": [0.22071476140082277, 0.2328639462007217, 0.2328639462007217, 0.2328639462007217, 0.24288912411748564, 0.24288912411748564, 0.24288912411748564, 0.24288912411748564, 0.24288912411748564, 0.24288912411748564, 0.24288912411748564, 0.24288912411748564, 0.24288912411748564, 0.24288912411748564, 0.24288912411748564, 0.24288912411748564, 0.24288912411748564, 0.24288912411748564, 0.24288912411748564, 0.24288912411748564, 0.24288912411748564, 0.24288912411748564, 0.24288912411748564, 0.24288912411748564, 0.24288912411748564, 0.24288912411748564, 0.24288912411748564, 0.24288912411748564, 0.24288912411748564, 0.24288912411748564, 0.24288912411748564, 0.24288912411748564, 0.24288912411748564, 0.24288912411748564, 0.24288912411748564, 0.24288912411748564, 0.24288912411748564, 0.24476080309124867, 0.24476080309124867]}], \"f1_score_micro\": [{\"categories\": [\"0\", \"1\", \"2\", \"3\", \"4\", \"5\", \"6\", \"7\", \"8\", \"9\", \"10\", \"11\", \"12\", \"13\", \"14\", \"15\", \"16\", \"17\", \"18\", \"19\", \"20\", \"21\", \"22\", \"23\", \"24\", \"25\", \"26\", \"27\", \"28\", \"29\", \"30\", \"31\", \"32\", \"33\", \"34\", \"35\", \"36\", \"38\", \"39\"], \"mode\": \"markers\", \"name\": \"f1_score_micro\", \"stepped\": false, \"type\": \"scatter\", \"data\": [0.23701515926650218, 0.2523399702398143, 0.265744430967096, 0.2619131852475294, 0.19272230061088144, 0.26406681051673253, 0.2621514455143809, 0.256646189348494, 0.2628698363189786, 0.23988236200157875, 0.2559288299736229, 0.256406553842007, 0.10726336251591839, 0.16998116609319172, 0.24850150451216124, 0.26167372164599684, 0.1108444865267773, 0.13167506938083962, 0.2556866158928193, 0.2571251165515591, 0.11658817486447014, 0.15274391250175343, 0.2626300289075371, 0.2489849012440418, 0.2508980314819857, 0.1683050927874182, 0.2564082728915514, 0.26310964373042, 0.2590394501241841, 0.2554471522912867, 0.1649526023659623, 0.2544898136000198, 0.259998335960041, 0.25808159571805384, 0.25233687595063437, 0.24587084299439177, 0.19248214938953115, 0.25880118985733264, 0.03327564203062384]}, {\"categories\": [\"0\", \"1\", \"2\", \"3\", \"4\", \"5\", \"6\", \"7\", \"8\", \"9\", \"10\", \"11\", \"12\", \"13\", \"14\", \"15\", \"16\", \"17\", \"18\", \"19\", \"20\", \"21\", \"22\", \"23\", \"24\", \"25\", \"26\", \"27\", \"28\", \"29\", \"30\", \"31\", \"32\", \"33\", \"34\", \"35\", \"36\", \"38\", \"39\"], \"mode\": \"lines\", \"name\": \"f1_score_micro_max\", \"stepped\": true, \"type\": \"scatter\", \"data\": [0.23701515926650218, 0.2523399702398143, 0.265744430967096, 0.265744430967096, 0.265744430967096, 0.265744430967096, 0.265744430967096, 0.265744430967096, 0.265744430967096, 0.265744430967096, 0.265744430967096, 0.265744430967096, 0.265744430967096, 0.265744430967096, 0.265744430967096, 0.265744430967096, 0.265744430967096, 0.265744430967096, 0.265744430967096, 0.265744430967096, 0.265744430967096, 0.265744430967096, 0.265744430967096, 0.265744430967096, 0.265744430967096, 0.265744430967096, 0.265744430967096, 0.265744430967096, 0.265744430967096, 0.265744430967096, 0.265744430967096, 0.265744430967096, 0.265744430967096, 0.265744430967096, 0.265744430967096, 0.265744430967096, 0.265744430967096, 0.265744430967096, 0.265744430967096]}], \"precision_score_macro\": [{\"categories\": [\"0\", \"1\", \"2\", \"3\", \"4\", \"5\", \"6\", \"7\", \"8\", \"9\", \"10\", \"11\", \"12\", \"13\", \"14\", \"15\", \"16\", \"17\", \"18\", \"19\", \"20\", \"21\", \"22\", \"23\", \"24\", \"25\", \"26\", \"27\", \"28\", \"29\", \"30\", \"31\", \"32\", \"33\", \"34\", \"35\", \"36\", \"38\", \"39\"], \"mode\": \"markers\", \"name\": \"precision_score_macro\", \"stepped\": false, \"type\": \"scatter\", \"data\": [0.11565378243992341, 0.14686685188768353, 0.08585876462798507, 0.08817582168532867, 0.11658534250119353, 0.0846531936327898, 0.13232321169759662, 0.073150110574046, 0.08904030461070762, 0.12337304236686825, 0.07529840782632365, 0.07422367820959173, 0.04897909230690221, 0.09392319520227173, 0.12047575538354764, 0.08386298361233835, 0.08932028028451446, 0.07817296511305497, 0.12958563542917298, 0.11276807398681608, 0.05786106915808251, 0.1012871073088929, 0.13074763678332194, 0.1333296697647301, 0.11569475124277052, 0.012806809729364564, 0.10047425771776268, 0.10619383251463928, 0.13839439439529932, 0.1425163760308716, 0.006974653875104403, 0.14932955610570728, 0.1601861494079795, 0.15363878719232218, 0.14928344849230046, 0.09472126221574202, 0.09714279663226988, 0.1387196962279011, 0.017639600726902863]}, {\"categories\": [\"0\", \"1\", \"2\", \"3\", \"4\", \"5\", \"6\", \"7\", \"8\", \"9\", \"10\", \"11\", \"12\", \"13\", \"14\", \"15\", \"16\", \"17\", \"18\", \"19\", \"20\", \"21\", \"22\", \"23\", \"24\", \"25\", \"26\", \"27\", \"28\", \"29\", \"30\", \"31\", \"32\", \"33\", \"34\", \"35\", \"36\", \"38\", \"39\"], \"mode\": \"lines\", \"name\": \"precision_score_macro_max\", \"stepped\": true, \"type\": \"scatter\", \"data\": [0.11565378243992341, 0.14686685188768353, 0.14686685188768353, 0.14686685188768353, 0.14686685188768353, 0.14686685188768353, 0.14686685188768353, 0.14686685188768353, 0.14686685188768353, 0.14686685188768353, 0.14686685188768353, 0.14686685188768353, 0.14686685188768353, 0.14686685188768353, 0.14686685188768353, 0.14686685188768353, 0.14686685188768353, 0.14686685188768353, 0.14686685188768353, 0.14686685188768353, 0.14686685188768353, 0.14686685188768353, 0.14686685188768353, 0.14686685188768353, 0.14686685188768353, 0.14686685188768353, 0.14686685188768353, 0.14686685188768353, 0.14686685188768353, 0.14686685188768353, 0.14686685188768353, 0.14932955610570728, 0.1601861494079795, 0.1601861494079795, 0.1601861494079795, 0.1601861494079795, 0.1601861494079795, 0.1601861494079795, 0.1601861494079795]}], \"f1_score_macro\": [{\"categories\": [\"0\", \"1\", \"2\", \"3\", \"4\", \"5\", \"6\", \"7\", \"8\", \"9\", \"10\", \"11\", \"12\", \"13\", \"14\", \"15\", \"16\", \"17\", \"18\", \"19\", \"20\", \"21\", \"22\", \"23\", \"24\", \"25\", \"26\", \"27\", \"28\", \"29\", \"30\", \"31\", \"32\", \"33\", \"34\", \"35\", \"36\", \"38\", \"39\"], \"mode\": \"markers\", \"name\": \"f1_score_macro\", \"stepped\": false, \"type\": \"scatter\", \"data\": [0.10999756633006065, 0.12603888655957415, 0.09217823671246221, 0.09567992851301947, 0.10853261938410869, 0.09204095849522032, 0.12046746857791064, 0.0797330241676001, 0.0954302829189662, 0.11360110877413165, 0.08342419500586422, 0.08224223304999619, 0.03530270321794524, 0.09089537674378445, 0.11291288536498138, 0.09083463575112356, 0.060358336919078485, 0.06483502640050921, 0.11380825028393493, 0.11444900652403928, 0.05502644691646318, 0.09112553448375238, 0.12008947660623635, 0.11837266572881118, 0.10286491131388537, 0.0144976741223427, 0.09180396487147739, 0.10587584466327032, 0.12749992551825354, 0.12129494877791629, 0.011974510907995053, 0.13644912215045413, 0.14106800231502745, 0.1391583876884586, 0.1347123592639614, 0.09916580368368427, 0.08776101067245773, 0.11988728644136754, 0.011268466931410445]}, {\"categories\": [\"0\", \"1\", \"2\", \"3\", \"4\", \"5\", \"6\", \"7\", \"8\", \"9\", \"10\", \"11\", \"12\", \"13\", \"14\", \"15\", \"16\", \"17\", \"18\", \"19\", \"20\", \"21\", \"22\", \"23\", \"24\", \"25\", \"26\", \"27\", \"28\", \"29\", \"30\", \"31\", \"32\", \"33\", \"34\", \"35\", \"36\", \"38\", \"39\"], \"mode\": \"lines\", \"name\": \"f1_score_macro_max\", \"stepped\": true, \"type\": \"scatter\", \"data\": [0.10999756633006065, 0.12603888655957415, 0.12603888655957415, 0.12603888655957415, 0.12603888655957415, 0.12603888655957415, 0.12603888655957415, 0.12603888655957415, 0.12603888655957415, 0.12603888655957415, 0.12603888655957415, 0.12603888655957415, 0.12603888655957415, 0.12603888655957415, 0.12603888655957415, 0.12603888655957415, 0.12603888655957415, 0.12603888655957415, 0.12603888655957415, 0.12603888655957415, 0.12603888655957415, 0.12603888655957415, 0.12603888655957415, 0.12603888655957415, 0.12603888655957415, 0.12603888655957415, 0.12603888655957415, 0.12603888655957415, 0.12749992551825354, 0.12749992551825354, 0.12749992551825354, 0.13644912215045413, 0.14106800231502745, 0.14106800231502745, 0.14106800231502745, 0.14106800231502745, 0.14106800231502745, 0.14106800231502745, 0.14106800231502745]}], \"matthews_correlation\": [{\"categories\": [\"0\", \"1\", \"2\", \"3\", \"4\", \"5\", \"6\", \"7\", \"8\", \"9\", \"10\", \"11\", \"12\", \"13\", \"14\", \"15\", \"16\", \"17\", \"18\", \"19\", \"20\", \"21\", \"22\", \"23\", \"24\", \"25\", \"26\", \"27\", \"28\", \"29\", \"30\", \"31\", \"32\", \"33\", \"34\", \"35\", \"36\", \"38\", \"39\"], \"mode\": \"markers\", \"name\": \"matthews_correlation\", \"stepped\": false, \"type\": \"scatter\", \"data\": [0.13688476941781738, 0.15011317613624145, 0.15926141404521446, 0.15417613926594156, 0.12880304927598848, 0.15795230214087644, 0.15747688299571025, 0.1479296274260871, 0.15428379880433352, 0.13880474859978104, 0.1461651392526487, 0.14702693966655536, 0.06294861222472518, 0.11661942877313453, 0.14704833612217807, 0.1538622490111757, 0.07566157328975932, 0.09023370697094679, 0.1497917295767434, 0.15173958515838334, 0.0819486462368733, 0.10318819198606033, 0.16020639437057124, 0.14841414297864816, 0.14499303536701835, 0.013416650814345293, 0.14780006346644625, 0.1552696758343507, 0.16027690986325846, 0.15411715998828243, 0.0, 0.1557640223922018, 0.16123273162740198, 0.15890988938331777, 0.1535394138363407, 0.13415559073110897, 0.12487501705974918, 0.1621141572702721, -0.0033514807330982527]}, {\"categories\": [\"0\", \"1\", \"2\", \"3\", \"4\", \"5\", \"6\", \"7\", \"8\", \"9\", \"10\", \"11\", \"12\", \"13\", \"14\", \"15\", \"16\", \"17\", \"18\", \"19\", \"20\", \"21\", \"22\", \"23\", \"24\", \"25\", \"26\", \"27\", \"28\", \"29\", \"30\", \"31\", \"32\", \"33\", \"34\", \"35\", \"36\", \"38\", \"39\"], \"mode\": \"lines\", \"name\": \"matthews_correlation_max\", \"stepped\": true, \"type\": \"scatter\", \"data\": [0.13688476941781738, 0.15011317613624145, 0.15926141404521446, 0.15926141404521446, 0.15926141404521446, 0.15926141404521446, 0.15926141404521446, 0.15926141404521446, 0.15926141404521446, 0.15926141404521446, 0.15926141404521446, 0.15926141404521446, 0.15926141404521446, 0.15926141404521446, 0.15926141404521446, 0.15926141404521446, 0.15926141404521446, 0.15926141404521446, 0.15926141404521446, 0.15926141404521446, 0.15926141404521446, 0.15926141404521446, 0.16020639437057124, 0.16020639437057124, 0.16020639437057124, 0.16020639437057124, 0.16020639437057124, 0.16020639437057124, 0.16027690986325846, 0.16027690986325846, 0.16027690986325846, 0.16027690986325846, 0.16123273162740198, 0.16123273162740198, 0.16123273162740198, 0.16123273162740198, 0.16123273162740198, 0.1621141572702721, 0.1621141572702721]}], \"balanced_accuracy\": [{\"categories\": [\"0\", \"1\", \"2\", \"3\", \"4\", \"5\", \"6\", \"7\", \"8\", \"9\", \"10\", \"11\", \"12\", \"13\", \"14\", \"15\", \"16\", \"17\", \"18\", \"19\", \"20\", \"21\", \"22\", \"23\", \"24\", \"25\", \"26\", \"27\", \"28\", \"29\", \"30\", \"31\", \"32\", \"33\", \"34\", \"35\", \"36\", \"38\", \"39\"], \"mode\": \"markers\", \"name\": \"balanced_accuracy\", \"stepped\": false, \"type\": \"scatter\", \"data\": [0.11069532859996196, 0.1294089073645847, 0.11094762063146675, 0.10929401481407762, 0.14353834848795455, 0.1122727082887152, 0.13022939976880366, 0.09569818586092287, 0.10825788741646696, 0.11493310469307434, 0.09659480413740944, 0.09630387107100412, 0.08227616911642022, 0.1278331693254837, 0.1151376411263439, 0.1075874747149091, 0.10968658344349473, 0.11052703509860695, 0.12421025593512867, 0.1253303606977996, 0.08040159822731363, 0.12695300201274076, 0.12861032442722814, 0.12066902327917194, 0.11153815127309996, 0.043405193183775816, 0.10907900762033775, 0.11646193085994826, 0.13112394506657532, 0.1281298298433158, 0.042373737373737376, 0.136451666276826, 0.1414043073961837, 0.13723436169671432, 0.1360737463116933, 0.11174318210030187, 0.11370815084619572, 0.13036527721092936, 0.023026424420101554]}, {\"categories\": [\"0\", \"1\", \"2\", \"3\", \"4\", \"5\", \"6\", \"7\", \"8\", \"9\", \"10\", \"11\", \"12\", \"13\", \"14\", \"15\", \"16\", \"17\", \"18\", \"19\", \"20\", \"21\", \"22\", \"23\", \"24\", \"25\", \"26\", \"27\", \"28\", \"29\", \"30\", \"31\", \"32\", \"33\", \"34\", \"35\", \"36\", \"38\", \"39\"], \"mode\": \"lines\", \"name\": \"balanced_accuracy_max\", \"stepped\": true, \"type\": \"scatter\", \"data\": [0.11069532859996196, 0.1294089073645847, 0.1294089073645847, 0.1294089073645847, 0.14353834848795455, 0.14353834848795455, 0.14353834848795455, 0.14353834848795455, 0.14353834848795455, 0.14353834848795455, 0.14353834848795455, 0.14353834848795455, 0.14353834848795455, 0.14353834848795455, 0.14353834848795455, 0.14353834848795455, 0.14353834848795455, 0.14353834848795455, 0.14353834848795455, 0.14353834848795455, 0.14353834848795455, 0.14353834848795455, 0.14353834848795455, 0.14353834848795455, 0.14353834848795455, 0.14353834848795455, 0.14353834848795455, 0.14353834848795455, 0.14353834848795455, 0.14353834848795455, 0.14353834848795455, 0.14353834848795455, 0.14353834848795455, 0.14353834848795455, 0.14353834848795455, 0.14353834848795455, 0.14353834848795455, 0.14353834848795455, 0.14353834848795455]}], \"average_precision_score_macro\": [{\"categories\": [\"0\", \"1\", \"2\", \"3\", \"4\", \"5\", \"6\", \"7\", \"8\", \"9\", \"10\", \"11\", \"12\", \"13\", \"14\", \"15\", \"16\", \"17\", \"18\", \"19\", \"20\", \"21\", \"22\", \"23\", \"24\", \"25\", \"26\", \"27\", \"28\", \"29\", \"30\", \"31\", \"32\", \"33\", \"34\", \"35\", \"36\", \"38\", \"39\"], \"mode\": \"markers\", \"name\": \"average_precision_score_macro\", \"stepped\": false, \"type\": \"scatter\", \"data\": [0.13795239118437053, 0.14949043641479878, 0.13464007533011288, 0.1448785419411794, 0.1280860240306357, 0.1248576850219245, 0.15046852916176523, 0.12654823497633247, 0.14159887838181073, 0.11509849782127407, 0.14061929700556153, 0.13495357013975254, 0.09398111530122122, 0.11751332089345203, 0.11490919951455213, 0.13116490950455312, 0.11419789848638677, 0.1089964881182535, 0.15856009277444574, 0.14993110750029076, 0.11014917759230779, 0.12415708757042106, 0.16062397780609303, 0.13808538227384554, 0.15736255470901994, 0.1144785201363112, 0.14989732316359453, 0.14771072517449257, 0.1479315116278067, 0.17209637174745732, 0.03151795604071143, 0.14744576316555882, 0.15547243295347546, 0.1501894682463821, 0.1611944461396526, 0.13762397168098484, 0.1159646481973357, 0.15423302330901908, 0.05733484252862837]}, {\"categories\": [\"0\", \"1\", \"2\", \"3\", \"4\", \"5\", \"6\", \"7\", \"8\", \"9\", \"10\", \"11\", \"12\", \"13\", \"14\", \"15\", \"16\", \"17\", \"18\", \"19\", \"20\", \"21\", \"22\", \"23\", \"24\", \"25\", \"26\", \"27\", \"28\", \"29\", \"30\", \"31\", \"32\", \"33\", \"34\", \"35\", \"36\", \"38\", \"39\"], \"mode\": \"lines\", \"name\": \"average_precision_score_macro_max\", \"stepped\": true, \"type\": \"scatter\", \"data\": [0.13795239118437053, 0.14949043641479878, 0.14949043641479878, 0.14949043641479878, 0.14949043641479878, 0.14949043641479878, 0.15046852916176523, 0.15046852916176523, 0.15046852916176523, 0.15046852916176523, 0.15046852916176523, 0.15046852916176523, 0.15046852916176523, 0.15046852916176523, 0.15046852916176523, 0.15046852916176523, 0.15046852916176523, 0.15046852916176523, 0.15856009277444574, 0.15856009277444574, 0.15856009277444574, 0.15856009277444574, 0.16062397780609303, 0.16062397780609303, 0.16062397780609303, 0.16062397780609303, 0.16062397780609303, 0.16062397780609303, 0.16062397780609303, 0.17209637174745732, 0.17209637174745732, 0.17209637174745732, 0.17209637174745732, 0.17209637174745732, 0.17209637174745732, 0.17209637174745732, 0.17209637174745732, 0.17209637174745732, 0.17209637174745732]}], \"AUC_macro\": [{\"categories\": [\"0\", \"1\", \"2\", \"3\", \"4\", \"5\", \"6\", \"7\", \"8\", \"9\", \"10\", \"11\", \"12\", \"13\", \"14\", \"15\", \"16\", \"17\", \"18\", \"19\", \"20\", \"21\", \"22\", \"23\", \"24\", \"25\", \"26\", \"27\", \"28\", \"29\", \"30\", \"31\", \"32\", \"33\", \"34\", \"35\", \"36\", \"38\", \"39\"], \"mode\": \"markers\", \"name\": \"AUC_macro\", \"stepped\": false, \"type\": \"scatter\", \"data\": [0.7646065125936135, 0.7803197310882947, 0.7772350848790924, 0.7716079919627056, 0.7402008178155254, 0.7745826301157358, 0.7717690144062935, 0.7552980198820994, 0.7603269903420425, 0.6444167521037194, 0.7594723193812376, 0.7635110605318264, 0.6929708730082749, 0.7092530695220994, 0.6473477886703899, 0.7454124900847372, 0.6898312429673638, 0.6821904680897619, 0.7717043284503613, 0.7554218136316408, 0.6841442239333272, 0.7027220352016713, 0.8266948566816064, 0.7797511019355708, 0.8257479436903966, 0.6919336687614094, 0.757568792570089, 0.7347309208816482, 0.7936289568828899, 0.7876082303415227, 0.33145640568747076, 0.7626683437052814, 0.7661583109593254, 0.78062919721201, 0.7816280458664498, 0.7287959410383661, 0.7131689892177461, 0.7830625423043109, 0.5409369900275268]}, {\"categories\": [\"0\", \"1\", \"2\", \"3\", \"4\", \"5\", \"6\", \"7\", \"8\", \"9\", \"10\", \"11\", \"12\", \"13\", \"14\", \"15\", \"16\", \"17\", \"18\", \"19\", \"20\", \"21\", \"22\", \"23\", \"24\", \"25\", \"26\", \"27\", \"28\", \"29\", \"30\", \"31\", \"32\", \"33\", \"34\", \"35\", \"36\", \"38\", \"39\"], \"mode\": \"lines\", \"name\": \"AUC_macro_max\", \"stepped\": true, \"type\": \"scatter\", \"data\": [0.7646065125936135, 0.7803197310882947, 0.7803197310882947, 0.7803197310882947, 0.7803197310882947, 0.7803197310882947, 0.7803197310882947, 0.7803197310882947, 0.7803197310882947, 0.7803197310882947, 0.7803197310882947, 0.7803197310882947, 0.7803197310882947, 0.7803197310882947, 0.7803197310882947, 0.7803197310882947, 0.7803197310882947, 0.7803197310882947, 0.7803197310882947, 0.7803197310882947, 0.7803197310882947, 0.7803197310882947, 0.8266948566816064, 0.8266948566816064, 0.8266948566816064, 0.8266948566816064, 0.8266948566816064, 0.8266948566816064, 0.8266948566816064, 0.8266948566816064, 0.8266948566816064, 0.8266948566816064, 0.8266948566816064, 0.8266948566816064, 0.8266948566816064, 0.8266948566816064, 0.8266948566816064, 0.8266948566816064, 0.8266948566816064]}], \"weighted_accuracy\": [{\"categories\": [\"0\", \"1\", \"2\", \"3\", \"4\", \"5\", \"6\", \"7\", \"8\", \"9\", \"10\", \"11\", \"12\", \"13\", \"14\", \"15\", \"16\", \"17\", \"18\", \"19\", \"20\", \"21\", \"22\", \"23\", \"24\", \"25\", \"26\", \"27\", \"28\", \"29\", \"30\", \"31\", \"32\", \"33\", \"34\", \"35\", \"36\", \"38\", \"39\"], \"mode\": \"markers\", \"name\": \"weighted_accuracy\", \"stepped\": false, \"type\": \"scatter\", \"data\": [0.2769395154140701, 0.3007192798389661, 0.31947925774687824, 0.3143818196376013, 0.1986037836350459, 0.3149585255461753, 0.30370715517353936, 0.31520446206894687, 0.31948664503773166, 0.2784397795532943, 0.3126675893197484, 0.31493040041945347, 0.12738292352739675, 0.1684629873544249, 0.29190049300595233, 0.3160192004636451, 0.09915891364519669, 0.12865612393827772, 0.3035094422617506, 0.3014000527816963, 0.10652685249461126, 0.14580058769580934, 0.30406460123358964, 0.2890345086487131, 0.2997964312802174, 0.2639884253526765, 0.3127831953669705, 0.3167999729476802, 0.3003233297623546, 0.2980156944849574, 0.2596362468482043, 0.2956753689888399, 0.300247364410618, 0.2984055104745314, 0.2909608424443591, 0.2976704587932863, 0.20702072899598054, 0.2948843351427413, 0.03358058508696767]}, {\"categories\": [\"0\", \"1\", \"2\", \"3\", \"4\", \"5\", \"6\", \"7\", \"8\", \"9\", \"10\", \"11\", \"12\", \"13\", \"14\", \"15\", \"16\", \"17\", \"18\", \"19\", \"20\", \"21\", \"22\", \"23\", \"24\", \"25\", \"26\", \"27\", \"28\", \"29\", \"30\", \"31\", \"32\", \"33\", \"34\", \"35\", \"36\", \"38\", \"39\"], \"mode\": \"lines\", \"name\": \"weighted_accuracy_max\", \"stepped\": true, \"type\": \"scatter\", \"data\": [0.2769395154140701, 0.3007192798389661, 0.31947925774687824, 0.31947925774687824, 0.31947925774687824, 0.31947925774687824, 0.31947925774687824, 0.31947925774687824, 0.31948664503773166, 0.31948664503773166, 0.31948664503773166, 0.31948664503773166, 0.31948664503773166, 0.31948664503773166, 0.31948664503773166, 0.31948664503773166, 0.31948664503773166, 0.31948664503773166, 0.31948664503773166, 0.31948664503773166, 0.31948664503773166, 0.31948664503773166, 0.31948664503773166, 0.31948664503773166, 0.31948664503773166, 0.31948664503773166, 0.31948664503773166, 0.31948664503773166, 0.31948664503773166, 0.31948664503773166, 0.31948664503773166, 0.31948664503773166, 0.31948664503773166, 0.31948664503773166, 0.31948664503773166, 0.31948664503773166, 0.31948664503773166, 0.31948664503773166, 0.31948664503773166]}], \"recall_score_macro\": [{\"categories\": [\"0\", \"1\", \"2\", \"3\", \"4\", \"5\", \"6\", \"7\", \"8\", \"9\", \"10\", \"11\", \"12\", \"13\", \"14\", \"15\", \"16\", \"17\", \"18\", \"19\", \"20\", \"21\", \"22\", \"23\", \"24\", \"25\", \"26\", \"27\", \"28\", \"29\", \"30\", \"31\", \"32\", \"33\", \"34\", \"35\", \"36\", \"38\", \"39\"], \"mode\": \"markers\", \"name\": \"recall_score_macro\", \"stepped\": false, \"type\": \"scatter\", \"data\": [0.11069532859996196, 0.1294089073645847, 0.11094762063146675, 0.10929401481407762, 0.14353834848795455, 0.1122727082887152, 0.13022939976880366, 0.09569818586092287, 0.10825788741646696, 0.11493310469307434, 0.09659480413740944, 0.09630387107100412, 0.08227616911642022, 0.1278331693254837, 0.1151376411263439, 0.1075874747149091, 0.10968658344349473, 0.11052703509860695, 0.12421025593512867, 0.1253303606977996, 0.08040159822731363, 0.12695300201274076, 0.12861032442722814, 0.12066902327917194, 0.11153815127309996, 0.043405193183775816, 0.10907900762033775, 0.11646193085994826, 0.13112394506657532, 0.1281298298433158, 0.042373737373737376, 0.136451666276826, 0.1414043073961837, 0.13723436169671432, 0.1360737463116933, 0.11174318210030187, 0.11370815084619572, 0.13036527721092936, 0.023026424420101554]}, {\"categories\": [\"0\", \"1\", \"2\", \"3\", \"4\", \"5\", \"6\", \"7\", \"8\", \"9\", \"10\", \"11\", \"12\", \"13\", \"14\", \"15\", \"16\", \"17\", \"18\", \"19\", \"20\", \"21\", \"22\", \"23\", \"24\", \"25\", \"26\", \"27\", \"28\", \"29\", \"30\", \"31\", \"32\", \"33\", \"34\", \"35\", \"36\", \"38\", \"39\"], \"mode\": \"lines\", \"name\": \"recall_score_macro_max\", \"stepped\": true, \"type\": \"scatter\", \"data\": [0.11069532859996196, 0.1294089073645847, 0.1294089073645847, 0.1294089073645847, 0.14353834848795455, 0.14353834848795455, 0.14353834848795455, 0.14353834848795455, 0.14353834848795455, 0.14353834848795455, 0.14353834848795455, 0.14353834848795455, 0.14353834848795455, 0.14353834848795455, 0.14353834848795455, 0.14353834848795455, 0.14353834848795455, 0.14353834848795455, 0.14353834848795455, 0.14353834848795455, 0.14353834848795455, 0.14353834848795455, 0.14353834848795455, 0.14353834848795455, 0.14353834848795455, 0.14353834848795455, 0.14353834848795455, 0.14353834848795455, 0.14353834848795455, 0.14353834848795455, 0.14353834848795455, 0.14353834848795455, 0.14353834848795455, 0.14353834848795455, 0.14353834848795455, 0.14353834848795455, 0.14353834848795455, 0.14353834848795455, 0.14353834848795455]}], \"precision_score_micro\": [{\"categories\": [\"0\", \"1\", \"2\", \"3\", \"4\", \"5\", \"6\", \"7\", \"8\", \"9\", \"10\", \"11\", \"12\", \"13\", \"14\", \"15\", \"16\", \"17\", \"18\", \"19\", \"20\", \"21\", \"22\", \"23\", \"24\", \"25\", \"26\", \"27\", \"28\", \"29\", \"30\", \"31\", \"32\", \"33\", \"34\", \"35\", \"36\", \"38\", \"39\"], \"mode\": \"markers\", \"name\": \"precision_score_micro\", \"stepped\": false, \"type\": \"scatter\", \"data\": [0.23701515926650218, 0.2523399702398143, 0.265744430967096, 0.2619131852475294, 0.19272230061088144, 0.26406681051673253, 0.2621514455143809, 0.256646189348494, 0.2628698363189786, 0.23988236200157875, 0.2559288299736229, 0.256406553842007, 0.10726336251591839, 0.16998116609319172, 0.24850150451216124, 0.26167372164599684, 0.1108444865267773, 0.13167506938083962, 0.2556866158928193, 0.2571251165515591, 0.11658817486447014, 0.15274391250175343, 0.2626300289075371, 0.2489849012440418, 0.2508980314819857, 0.1683050927874182, 0.2564082728915514, 0.26310964373042, 0.2590394501241841, 0.2554471522912867, 0.1649526023659623, 0.2544898136000198, 0.259998335960041, 0.25808159571805384, 0.25233687595063437, 0.24587084299439177, 0.19248214938953112, 0.25880118985733264, 0.03327564203062384]}, {\"categories\": [\"0\", \"1\", \"2\", \"3\", \"4\", \"5\", \"6\", \"7\", \"8\", \"9\", \"10\", \"11\", \"12\", \"13\", \"14\", \"15\", \"16\", \"17\", \"18\", \"19\", \"20\", \"21\", \"22\", \"23\", \"24\", \"25\", \"26\", \"27\", \"28\", \"29\", \"30\", \"31\", \"32\", \"33\", \"34\", \"35\", \"36\", \"38\", \"39\"], \"mode\": \"lines\", \"name\": \"precision_score_micro_max\", \"stepped\": true, \"type\": \"scatter\", \"data\": [0.23701515926650218, 0.2523399702398143, 0.265744430967096, 0.265744430967096, 0.265744430967096, 0.265744430967096, 0.265744430967096, 0.265744430967096, 0.265744430967096, 0.265744430967096, 0.265744430967096, 0.265744430967096, 0.265744430967096, 0.265744430967096, 0.265744430967096, 0.265744430967096, 0.265744430967096, 0.265744430967096, 0.265744430967096, 0.265744430967096, 0.265744430967096, 0.265744430967096, 0.265744430967096, 0.265744430967096, 0.265744430967096, 0.265744430967096, 0.265744430967096, 0.265744430967096, 0.265744430967096, 0.265744430967096, 0.265744430967096, 0.265744430967096, 0.265744430967096, 0.265744430967096, 0.265744430967096, 0.265744430967096, 0.265744430967096, 0.265744430967096, 0.265744430967096]}], \"f1_score_weighted\": [{\"categories\": [\"0\", \"1\", \"2\", \"3\", \"4\", \"5\", \"6\", \"7\", \"8\", \"9\", \"10\", \"11\", \"12\", \"13\", \"14\", \"15\", \"16\", \"17\", \"18\", \"19\", \"20\", \"21\", \"22\", \"23\", \"24\", \"25\", \"26\", \"27\", \"28\", \"29\", \"30\", \"31\", \"32\", \"33\", \"34\", \"35\", \"36\", \"38\", \"39\"], \"mode\": \"markers\", \"name\": \"f1_score_weighted\", \"stepped\": false, \"type\": \"scatter\", \"data\": [0.22566843910336776, 0.23319253566634726, 0.22484473975464048, 0.22624879774205922, 0.1985759632508862, 0.2231289502532476, 0.23809865482919226, 0.21450458331932856, 0.22711961839078135, 0.2261850370983336, 0.21810030727800098, 0.21708659080734735, 0.10349269354472224, 0.16948221936691923, 0.23175759510298297, 0.2217760297745652, 0.09948401933296895, 0.12623967668600294, 0.22770638131301002, 0.22979676158432547, 0.10245956165189653, 0.15846311861149445, 0.2389960469509784, 0.23491665996027378, 0.22401148482989283, 0.05574954351344005, 0.21856035070283028, 0.22728291301818557, 0.24076372287787995, 0.23701212528449514, 0.04679207311518938, 0.24032905467505428, 0.24524215083304035, 0.24412593644589453, 0.23963540733552113, 0.20231336739128894, 0.19571026603797614, 0.23889119753582855, 0.02626030604825204]}, {\"categories\": [\"0\", \"1\", \"2\", \"3\", \"4\", \"5\", \"6\", \"7\", \"8\", \"9\", \"10\", \"11\", \"12\", \"13\", \"14\", \"15\", \"16\", \"17\", \"18\", \"19\", \"20\", \"21\", \"22\", \"23\", \"24\", \"25\", \"26\", \"27\", \"28\", \"29\", \"30\", \"31\", \"32\", \"33\", \"34\", \"35\", \"36\", \"38\", \"39\"], \"mode\": \"lines\", \"name\": \"f1_score_weighted_max\", \"stepped\": true, \"type\": \"scatter\", \"data\": [0.22566843910336776, 0.23319253566634726, 0.23319253566634726, 0.23319253566634726, 0.23319253566634726, 0.23319253566634726, 0.23809865482919226, 0.23809865482919226, 0.23809865482919226, 0.23809865482919226, 0.23809865482919226, 0.23809865482919226, 0.23809865482919226, 0.23809865482919226, 0.23809865482919226, 0.23809865482919226, 0.23809865482919226, 0.23809865482919226, 0.23809865482919226, 0.23809865482919226, 0.23809865482919226, 0.23809865482919226, 0.2389960469509784, 0.2389960469509784, 0.2389960469509784, 0.2389960469509784, 0.2389960469509784, 0.2389960469509784, 0.24076372287787995, 0.24076372287787995, 0.24076372287787995, 0.24076372287787995, 0.24524215083304035, 0.24524215083304035, 0.24524215083304035, 0.24524215083304035, 0.24524215083304035, 0.24524215083304035, 0.24524215083304035]}], \"log_loss\": [{\"categories\": [\"0\", \"1\", \"2\", \"3\", \"4\", \"5\", \"6\", \"7\", \"8\", \"9\", \"10\", \"11\", \"12\", \"13\", \"14\", \"15\", \"16\", \"17\", \"18\", \"19\", \"20\", \"21\", \"22\", \"23\", \"24\", \"25\", \"26\", \"27\", \"28\", \"29\", \"30\", \"31\", \"32\", \"33\", \"34\", \"35\", \"36\", \"38\", \"39\"], \"mode\": \"markers\", \"name\": \"log_loss\", \"stepped\": false, \"type\": \"scatter\", \"data\": [2.471000177955832, 2.096349164471315, 2.1557424913240584, 2.132930422461481, 2.5481608406824368, 2.1868402306914243, 2.3793911412279556, 2.179834280032098, 2.158144743001622, 10.089314563840384, 2.160210323456171, 2.177246182474304, 2.837277600572591, 2.6198394517116577, 8.83766368683112, 2.1701883731824996, 2.964628103152485, 2.7173498808497834, 2.510426620081962, 2.3401991559354953, 2.7622306289930765, 2.558516696443927, 2.0245646752273423, 2.1291630680295337, 2.0373051710906984, 2.433712961422541, 2.1602840469146916, 2.178579444906011, 2.072628112328662, 2.2371650152911755, 2.5395909253594477, 2.1793875591764036, 2.1351339027316314, 2.1338358298930493, 2.144021083834307, 2.170186449968946, 2.7163729066672837, 2.2072644117029427, 4.096184939664069]}, {\"categories\": [\"0\", \"1\", \"2\", \"3\", \"4\", \"5\", \"6\", \"7\", \"8\", \"9\", \"10\", \"11\", \"12\", \"13\", \"14\", \"15\", \"16\", \"17\", \"18\", \"19\", \"20\", \"21\", \"22\", \"23\", \"24\", \"25\", \"26\", \"27\", \"28\", \"29\", \"30\", \"31\", \"32\", \"33\", \"34\", \"35\", \"36\", \"38\", \"39\"], \"mode\": \"lines\", \"name\": \"log_loss_min\", \"stepped\": true, \"type\": \"scatter\", \"data\": [2.471000177955832, 2.096349164471315, 2.096349164471315, 2.096349164471315, 2.096349164471315, 2.096349164471315, 2.096349164471315, 2.096349164471315, 2.096349164471315, 2.096349164471315, 2.096349164471315, 2.096349164471315, 2.096349164471315, 2.096349164471315, 2.096349164471315, 2.096349164471315, 2.096349164471315, 2.096349164471315, 2.096349164471315, 2.096349164471315, 2.096349164471315, 2.096349164471315, 2.0245646752273423, 2.0245646752273423, 2.0245646752273423, 2.0245646752273423, 2.0245646752273423, 2.0245646752273423, 2.0245646752273423, 2.0245646752273423, 2.0245646752273423, 2.0245646752273423, 2.0245646752273423, 2.0245646752273423, 2.0245646752273423, 2.0245646752273423, 2.0245646752273423, 2.0245646752273423, 2.0245646752273423]}], \"average_precision_score_weighted\": [{\"categories\": [\"0\", \"1\", \"2\", \"3\", \"4\", \"5\", \"6\", \"7\", \"8\", \"9\", \"10\", \"11\", \"12\", \"13\", \"14\", \"15\", \"16\", \"17\", \"18\", \"19\", \"20\", \"21\", \"22\", \"23\", \"24\", \"25\", \"26\", \"27\", \"28\", \"29\", \"30\", \"31\", \"32\", \"33\", \"34\", \"35\", \"36\", \"38\", \"39\"], \"mode\": \"markers\", \"name\": \"average_precision_score_weighted\", \"stepped\": false, \"type\": \"scatter\", \"data\": [0.2191012156263041, 0.23609422473539987, 0.23744804330862243, 0.2434010882235629, 0.2288046227939303, 0.23149590469201517, 0.24484018432416887, 0.22739347807588514, 0.24237104710258853, 0.20243329768610238, 0.23609769566147268, 0.23529575954944537, 0.18704421881073477, 0.21162476743397418, 0.20456099334424416, 0.22974709502230636, 0.20900862290618064, 0.20608099402356594, 0.2411697021152899, 0.2424905776331837, 0.19853044242267262, 0.21837933394384332, 0.2511591188177094, 0.2268788384637368, 0.24642566970086446, 0.1740895066689653, 0.24052433402157355, 0.23778092175824858, 0.24322564480108366, 0.24493594069080563, 0.08027131209387511, 0.23260253109223092, 0.23690751534071766, 0.23184919881562296, 0.23015972693342354, 0.21455601671601954, 0.21618217543452567, 0.25217179035612897, 0.11737978537730161]}, {\"categories\": [\"0\", \"1\", \"2\", \"3\", \"4\", \"5\", \"6\", \"7\", \"8\", \"9\", \"10\", \"11\", \"12\", \"13\", \"14\", \"15\", \"16\", \"17\", \"18\", \"19\", \"20\", \"21\", \"22\", \"23\", \"24\", \"25\", \"26\", \"27\", \"28\", \"29\", \"30\", \"31\", \"32\", \"33\", \"34\", \"35\", \"36\", \"38\", \"39\"], \"mode\": \"lines\", \"name\": \"average_precision_score_weighted_max\", \"stepped\": true, \"type\": \"scatter\", \"data\": [0.2191012156263041, 0.23609422473539987, 0.23744804330862243, 0.2434010882235629, 0.2434010882235629, 0.2434010882235629, 0.24484018432416887, 0.24484018432416887, 0.24484018432416887, 0.24484018432416887, 0.24484018432416887, 0.24484018432416887, 0.24484018432416887, 0.24484018432416887, 0.24484018432416887, 0.24484018432416887, 0.24484018432416887, 0.24484018432416887, 0.24484018432416887, 0.24484018432416887, 0.24484018432416887, 0.24484018432416887, 0.2511591188177094, 0.2511591188177094, 0.2511591188177094, 0.2511591188177094, 0.2511591188177094, 0.2511591188177094, 0.2511591188177094, 0.2511591188177094, 0.2511591188177094, 0.2511591188177094, 0.2511591188177094, 0.2511591188177094, 0.2511591188177094, 0.2511591188177094, 0.2511591188177094, 0.25217179035612897, 0.25217179035612897]}], \"AUC_weighted\": [{\"categories\": [\"0\", \"1\", \"2\", \"3\", \"4\", \"5\", \"6\", \"7\", \"8\", \"9\", \"10\", \"11\", \"12\", \"13\", \"14\", \"15\", \"16\", \"17\", \"18\", \"19\", \"20\", \"21\", \"22\", \"23\", \"24\", \"25\", \"26\", \"27\", \"28\", \"29\", \"30\", \"31\", \"32\", \"33\", \"34\", \"35\", \"36\", \"38\", \"39\"], \"mode\": \"markers\", \"name\": \"AUC_weighted\", \"stepped\": false, \"type\": \"scatter\", \"data\": [0.7379269994198739, 0.7559305940612594, 0.7520360895502957, 0.7473752131022987, 0.7314851763636642, 0.746297310617933, 0.7556477054476186, 0.7370209566937094, 0.7463441841399368, 0.6809191889664922, 0.7412060261996275, 0.7370350508436568, 0.686438095531329, 0.6997868014442986, 0.6871661104369612, 0.7318747982320734, 0.6991061344934945, 0.6928690274139185, 0.7513225903018571, 0.7493957843227027, 0.6851073158673214, 0.7149734279852694, 0.7759043760852498, 0.751798096612117, 0.7729940482247533, 0.6775174315233103, 0.7445181092458529, 0.7397233272349438, 0.7603230135034341, 0.7512402869856775, 0.3344169986369898, 0.7505395927677975, 0.7540295366598718, 0.7520469438976124, 0.7521764141210264, 0.7109934244711016, 0.7139877236048034, 0.7618529552595259, 0.50167525278335]}, {\"categories\": [\"0\", \"1\", \"2\", \"3\", \"4\", \"5\", \"6\", \"7\", \"8\", \"9\", \"10\", \"11\", \"12\", \"13\", \"14\", \"15\", \"16\", \"17\", \"18\", \"19\", \"20\", \"21\", \"22\", \"23\", \"24\", \"25\", \"26\", \"27\", \"28\", \"29\", \"30\", \"31\", \"32\", \"33\", \"34\", \"35\", \"36\", \"38\", \"39\"], \"mode\": \"lines\", \"name\": \"AUC_weighted_max\", \"stepped\": true, \"type\": \"scatter\", \"data\": [0.7379269994198739, 0.7559305940612594, 0.7559305940612594, 0.7559305940612594, 0.7559305940612594, 0.7559305940612594, 0.7559305940612594, 0.7559305940612594, 0.7559305940612594, 0.7559305940612594, 0.7559305940612594, 0.7559305940612594, 0.7559305940612594, 0.7559305940612594, 0.7559305940612594, 0.7559305940612594, 0.7559305940612594, 0.7559305940612594, 0.7559305940612594, 0.7559305940612594, 0.7559305940612594, 0.7559305940612594, 0.7759043760852498, 0.7759043760852498, 0.7759043760852498, 0.7759043760852498, 0.7759043760852498, 0.7759043760852498, 0.7759043760852498, 0.7759043760852498, 0.7759043760852498, 0.7759043760852498, 0.7759043760852498, 0.7759043760852498, 0.7759043760852498, 0.7759043760852498, 0.7759043760852498, 0.7759043760852498, 0.7759043760852498]}], \"norm_macro_recall\": [{\"categories\": [\"0\", \"1\", \"2\", \"3\", \"4\", \"5\", \"6\", \"7\", \"8\", \"9\", \"10\", \"11\", \"12\", \"13\", \"14\", \"15\", \"16\", \"17\", \"18\", \"19\", \"20\", \"21\", \"22\", \"23\", \"24\", \"25\", \"26\", \"27\", \"28\", \"29\", \"30\", \"31\", \"32\", \"33\", \"34\", \"35\", \"36\", \"38\", \"39\"], \"mode\": \"markers\", \"name\": \"norm_macro_recall\", \"stepped\": false, \"type\": \"scatter\", \"data\": [0.07817677835070484, 0.0926783334772483, 0.07160526806619587, 0.069885756370188, 0.13230586285734378, 0.07299372668930475, 0.09173502533170629, 0.055670351747536116, 0.06880922238520532, 0.0773164273010783, 0.05660892491313386, 0.056302893365037486, 0.07609231005536084, 0.11551700320171963, 0.07759650422344182, 0.06809966198619467, 0.11430959517525763, 0.12651894755405887, 0.08545182548513768, 0.08661979663538584, 0.098862431483779, 0.11635759692754515, 0.09004997258944548, 0.08174252836734947, 0.07223469557439811, 0.001075918976478633, 0.06963531160777231, 0.07737284662629842, 0.09268043283489663, 0.08954559131772477, 0.0, 0.09823448521718842, 0.10341804185263605, 0.1008984823139867, 0.09784468795938868, 0.07243659183425061, 0.11372004666350181, 0.10198534106197465, 0.001925789740915791]}, {\"categories\": [\"0\", \"1\", \"2\", \"3\", \"4\", \"5\", \"6\", \"7\", \"8\", \"9\", \"10\", \"11\", \"12\", \"13\", \"14\", \"15\", \"16\", \"17\", \"18\", \"19\", \"20\", \"21\", \"22\", \"23\", \"24\", \"25\", \"26\", \"27\", \"28\", \"29\", \"30\", \"31\", \"32\", \"33\", \"34\", \"35\", \"36\", \"38\", \"39\"], \"mode\": \"lines\", \"name\": \"norm_macro_recall_max\", \"stepped\": true, \"type\": \"scatter\", \"data\": [0.07817677835070484, 0.0926783334772483, 0.0926783334772483, 0.0926783334772483, 0.13230586285734378, 0.13230586285734378, 0.13230586285734378, 0.13230586285734378, 0.13230586285734378, 0.13230586285734378, 0.13230586285734378, 0.13230586285734378, 0.13230586285734378, 0.13230586285734378, 0.13230586285734378, 0.13230586285734378, 0.13230586285734378, 0.13230586285734378, 0.13230586285734378, 0.13230586285734378, 0.13230586285734378, 0.13230586285734378, 0.13230586285734378, 0.13230586285734378, 0.13230586285734378, 0.13230586285734378, 0.13230586285734378, 0.13230586285734378, 0.13230586285734378, 0.13230586285734378, 0.13230586285734378, 0.13230586285734378, 0.13230586285734378, 0.13230586285734378, 0.13230586285734378, 0.13230586285734378, 0.13230586285734378, 0.13230586285734378, 0.13230586285734378]}]}, \"metricName\": null, \"primaryMetricName\": \"AUC_weighted\", \"showLegend\": false}, \"run_metrics\": [{\"name\": \"experiment_status\", \"run_id\": \"AutoML_9713967a-96d5-4cdb-a039-93c20febcdb5\", \"categories\": [0, 1, 2, 3, 4, 5, 6], \"series\": [{\"data\": [\"DatasetEvaluation\", \"FeaturesGeneration\", \"DatasetFeaturization\", \"DatasetFeaturizationCompleted\", \"DatasetBalancing\", \"DatasetCrossValidationSplit\", \"ModelSelection\"]}]}, {\"name\": \"experiment_status_description\", \"run_id\": \"AutoML_9713967a-96d5-4cdb-a039-93c20febcdb5\", \"categories\": [0, 1, 2, 3, 4, 5, 6], \"series\": [{\"data\": [\"Gathering dataset statistics.\", \"Generating features for the dataset.\", \"Beginning to fit featurizers and featurize the dataset.\", \"Completed fit featurizers and featurizing the dataset.\", \"Performing class balancing sweeping\", \"Generating individually featurized CV splits.\", \"Beginning model selection.\"]}]}], \"run_logs\": \"\\nRun is completed.\", \"graph\": {}, \"widget_settings\": {\"childWidgetDisplay\": \"popup\", \"send_telemetry\": false, \"log_level\": \"INFO\", \"sdk_version\": \"1.26.0\"}, \"loading\": false}"
          },
          "metadata": {},
          "output_type": "display_data"
        },
        {
          "data": {
            "text/plain": "{'runId': 'AutoML_9713967a-96d5-4cdb-a039-93c20febcdb5',\n 'target': 'MLCapstone',\n 'status': 'Completed',\n 'startTimeUtc': '2021-05-08T07:27:47.893703Z',\n 'endTimeUtc': '2021-05-08T07:52:43.680638Z',\n 'properties': {'num_iterations': '1000',\n  'training_type': 'TrainFull',\n  'acquisition_function': 'EI',\n  'primary_metric': 'AUC_weighted',\n  'train_split': '0',\n  'acquisition_parameter': '0',\n  'num_cross_validation': None,\n  'target': 'MLCapstone',\n  'AMLSettingsJsonString': '{\"path\":null,\"name\":\"capstone\",\"subscription_id\":\"939bb7d7-6909-4049-929c-1df590b9f273\",\"resource_group\":\"presentation\",\"workspace_name\":\"udacity_workspace\",\"region\":\"westeurope\",\"compute_target\":\"MLCapstone\",\"spark_service\":null,\"azure_service\":\"remote\",\"many_models\":false,\"pipeline_fetch_max_batch_size\":1,\"enable_batch_run\":false,\"enable_run_restructure\":false,\"iterations\":1000,\"primary_metric\":\"AUC_weighted\",\"task_type\":\"classification\",\"data_script\":null,\"test_size\":0.0,\"validation_size\":0.0,\"n_cross_validations\":null,\"y_min\":null,\"y_max\":null,\"num_classes\":null,\"featurization\":\"auto\",\"_ignore_package_version_incompatibilities\":false,\"is_timeseries\":false,\"max_cores_per_iteration\":1,\"max_concurrent_iterations\":4,\"iteration_timeout_minutes\":null,\"mem_in_mb\":null,\"enforce_time_on_windows\":false,\"experiment_timeout_minutes\":40,\"experiment_exit_score\":null,\"whitelist_models\":null,\"blacklist_algos\":[\"TensorFlowLinearClassifier\",\"TensorFlowDNN\"],\"supported_models\":[\"SVM\",\"LogisticRegression\",\"MultinomialNaiveBayes\",\"GradientBoosting\",\"ExtremeRandomTrees\",\"TensorFlowDNN\",\"AveragedPerceptronClassifier\",\"TensorFlowLinearClassifier\",\"XGBoostClassifier\",\"RandomForest\",\"KNN\",\"DecisionTree\",\"SGD\",\"BernoulliNaiveBayes\",\"LinearSVM\",\"LightGBM\"],\"private_models\":[],\"auto_blacklist\":true,\"blacklist_samples_reached\":false,\"exclude_nan_labels\":true,\"verbosity\":20,\"_debug_log\":\"azureml_automl.log\",\"show_warnings\":false,\"model_explainability\":true,\"service_url\":null,\"sdk_url\":null,\"sdk_packages\":null,\"enable_onnx_compatible_models\":false,\"enable_split_onnx_featurizer_estimator_models\":false,\"vm_type\":\"STANDARD_D2_V2\",\"telemetry_verbosity\":20,\"send_telemetry\":true,\"enable_dnn\":false,\"scenario\":\"SDK-1.13.0\",\"environment_label\":null,\"save_mlflow\":false,\"force_text_dnn\":false,\"enable_feature_sweeping\":true,\"enable_early_stopping\":true,\"early_stopping_n_iters\":10,\"metrics\":null,\"enable_metric_confidence\":false,\"enable_ensembling\":true,\"enable_stack_ensembling\":true,\"ensemble_iterations\":15,\"enable_tf\":false,\"enable_subsampling\":null,\"subsample_seed\":null,\"enable_nimbusml\":false,\"enable_streaming\":false,\"force_streaming\":false,\"track_child_runs\":true,\"allowed_private_models\":[],\"label_column_name\":\"Rings\",\"weight_column_name\":null,\"cv_split_column_names\":null,\"enable_local_managed\":false,\"_local_managed_run_id\":null,\"cost_mode\":1,\"lag_length\":0,\"metric_operation\":\"maximize\",\"preprocess\":true,\"max_cores_per_iterations\":-1}',\n  'DataPrepJsonString': '{\\\\\"training_data\\\\\": {\\\\\"datasetId\\\\\": \\\\\"41aada46-572b-4e03-8dc3-2faaa39dff9f\\\\\"}, \\\\\"datasets\\\\\": 0}',\n  'EnableSubsampling': None,\n  'runTemplate': 'AutoML',\n  'azureml.runsource': 'automl',\n  'display_task_type': 'classification',\n  'dependencies_versions': '{\"azureml-widgets\": \"1.26.0\", \"azureml-train\": \"1.26.0\", \"azureml-train-restclients-hyperdrive\": \"1.26.0\", \"azureml-train-core\": \"1.26.0\", \"azureml-train-automl\": \"1.26.0\", \"azureml-train-automl-runtime\": \"1.26.0\", \"azureml-train-automl-client\": \"1.26.0\", \"azureml-tensorboard\": \"1.26.0\", \"azureml-telemetry\": \"1.26.0\", \"azureml-sdk\": \"1.26.0\", \"azureml-samples\": \"0+unknown\", \"azureml-pipeline\": \"1.26.0\", \"azureml-pipeline-steps\": \"1.26.0\", \"azureml-pipeline-core\": \"1.26.0\", \"azureml-opendatasets\": \"1.26.0\", \"azureml-model-management-sdk\": \"1.0.1b6.post1\", \"azureml-mlflow\": \"1.26.0\", \"azureml-interpret\": \"1.26.0\", \"azureml-explain-model\": \"1.26.0\", \"azureml-defaults\": \"1.26.0\", \"azureml-dataset-runtime\": \"1.26.0\", \"azureml-dataprep\": \"2.13.2\", \"azureml-dataprep-rslex\": \"1.11.2\", \"azureml-dataprep-native\": \"32.0.0\", \"azureml-datadrift\": \"1.26.0\", \"azureml-core\": \"1.26.0\", \"azureml-contrib-services\": \"1.26.0\", \"azureml-contrib-server\": \"1.26.0\", \"azureml-contrib-reinforcementlearning\": \"1.26.0\", \"azureml-contrib-pipeline-steps\": \"1.26.0\", \"azureml-contrib-notebook\": \"1.26.0\", \"azureml-contrib-gbdt\": \"1.26.0\", \"azureml-contrib-fairness\": \"1.26.0\", \"azureml-contrib-dataset\": \"1.26.0\", \"azureml-cli-common\": \"1.26.0\", \"azureml-automl-runtime\": \"1.26.0\", \"azureml-automl-dnn-nlp\": \"1.26.0\", \"azureml-automl-core\": \"1.26.0\", \"azureml-accel-models\": \"1.26.0\"}',\n  '_aml_system_scenario_identification': 'Remote.Parent',\n  'ClientType': 'SDK',\n  'environment_cpu_name': 'AzureML-AutoML',\n  'environment_cpu_label': 'prod',\n  'environment_gpu_name': 'AzureML-AutoML-GPU',\n  'environment_gpu_label': 'prod',\n  'root_attribution': 'automl',\n  'attribution': 'AutoML',\n  'Orchestrator': 'AutoML',\n  'CancelUri': 'https://westeurope.api.azureml.ms/jasmine/v1.0/subscriptions/939bb7d7-6909-4049-929c-1df590b9f273/resourceGroups/presentation/providers/Microsoft.MachineLearningServices/workspaces/udacity_workspace/experimentids/7a2b641a-3669-4e49-8710-cbb1973a018b/cancel/AutoML_9713967a-96d5-4cdb-a039-93c20febcdb5',\n  'ClientSdkVersion': '1.27.0.post1',\n  'snapshotId': '00000000-0000-0000-0000-000000000000',\n  'SetupRunId': 'AutoML_9713967a-96d5-4cdb-a039-93c20febcdb5_setup',\n  'SetupRunContainerId': 'dcid.AutoML_9713967a-96d5-4cdb-a039-93c20febcdb5_setup',\n  'FeaturizationRunJsonPath': 'featurizer_container.json',\n  'FeaturizationRunId': 'AutoML_9713967a-96d5-4cdb-a039-93c20febcdb5_featurize',\n  'ProblemInfoJsonString': '{\"dataset_num_categorical\": 0, \"is_sparse\": false, \"subsampling\": false, \"dataset_classes\": 28, \"dataset_features\": 18, \"dataset_samples\": 4177, \"single_frequency_class_detected\": true}',\n  'ModelExplainRunId': 'AutoML_9713967a-96d5-4cdb-a039-93c20febcdb5_ModelExplain'},\n 'inputDatasets': [{'dataset': {'id': '41aada46-572b-4e03-8dc3-2faaa39dff9f'}, 'consumptionDetails': {'type': 'RunInput', 'inputName': 'training_data', 'mechanism': 'Direct'}}],\n 'outputDatasets': [],\n 'logFiles': {},\n 'submittedBy': 'ashraf_i ibrahim'}"
          },
          "execution_count": 17,
          "metadata": {},
          "output_type": "execute_result"
        }
      ],
      "source": [
        "RunDetails(remote_run).show()\r\n",
        "remote_run.wait_for_completion(show_output=False)"
      ]
    },
    {
      "cell_type": "markdown",
      "metadata": {
        "nteract": {
          "transient": {
            "deleting": false
          }
        }
      },
      "source": [
        "# Regression "
      ]
    },
    {
      "cell_type": "code",
      "execution_count": 64,
      "metadata": {
        "collapsed": true,
        "gather": {
          "logged": 1620462712331
        },
        "jupyter": {
          "outputs_hidden": false,
          "source_hidden": false
        },
        "nteract": {
          "transient": {
            "deleting": false
          }
        }
      },
      "outputs": [],
      "source": [
        "# choose a name for experiment\r\n",
        "experiment_reg_name = 'capstone_regression'\r\n",
        "\r\n",
        "experiment_reg=Experiment(ws, experiment_reg_name)"
      ]
    },
    {
      "cell_type": "code",
      "execution_count": 90,
      "metadata": {
        "collapsed": true,
        "gather": {
          "logged": 1620465476656
        },
        "jupyter": {
          "outputs_hidden": false,
          "source_hidden": false
        },
        "nteract": {
          "transient": {
            "deleting": false
          }
        }
      },
      "outputs": [],
      "source": [
        "# TODO: Put your automl settings here\r\n",
        "automl_settings_reg = {'experiment_timeout_minutes': 40,\r\n",
        "                   \"max_concurrent_iterations\": 4,\r\n",
        "                   'primary_metric':'normalized_mean_absolute_error',\r\n",
        "                   'task':'regression'}\r\n",
        "\r\n",
        "# TODO: Put your automl config here\r\n",
        "automl_config_reg = AutoMLConfig(compute_target=cluster,\r\n",
        "                            training_data=dataset,\r\n",
        "                            label_column_name='Rings',\r\n",
        "                            enable_early_stopping= True,\r\n",
        "                            featurization= 'auto',\r\n",
        "                            debug_log = \"automl.log\",\r\n",
        "                            **automl_settings_reg)"
      ]
    },
    {
      "cell_type": "code",
      "execution_count": 93,
      "metadata": {
        "collapsed": true,
        "gather": {
          "logged": 1620465516714
        },
        "jupyter": {
          "outputs_hidden": false,
          "source_hidden": false
        },
        "nteract": {
          "transient": {
            "deleting": false
          }
        }
      },
      "outputs": [
        {
          "name": "stdout",
          "output_type": "stream",
          "text": [
            "Submitting remote run.\n"
          ]
        },
        {
          "data": {
            "text/html": "<table style=\"width:100%\"><tr><th>Experiment</th><th>Id</th><th>Type</th><th>Status</th><th>Details Page</th><th>Docs Page</th></tr><tr><td>capstone_regression</td><td>AutoML_22d9f483-addb-4e18-9492-f30e1c2276ee</td><td>automl</td><td>NotStarted</td><td><a href=\"https://ml.azure.com/runs/AutoML_22d9f483-addb-4e18-9492-f30e1c2276ee?wsid=/subscriptions/939bb7d7-6909-4049-929c-1df590b9f273/resourcegroups/presentation/workspaces/udacity_workspace&amp;tid=e9f4b799-4c58-4783-92c3-75ff1e37dd9c\" target=\"_blank\" rel=\"noopener\">Link to Azure Machine Learning studio</a></td><td><a href=\"https://docs.microsoft.com/en-us/python/api/overview/azure/ml/intro?view=azure-ml-py\" target=\"_blank\" rel=\"noopener\">Link to Documentation</a></td></tr></table>",
            "text/plain": "<IPython.core.display.HTML object>"
          },
          "metadata": {},
          "output_type": "display_data"
        }
      ],
      "source": [
        "# TODO: Submit your experiment\r\n",
        "remote_run_reg = experiment_reg.submit(automl_config_reg)"
      ]
    },
    {
      "cell_type": "code",
      "execution_count": 67,
      "metadata": {
        "collapsed": true,
        "gather": {
          "logged": 1620464227208
        },
        "jupyter": {
          "outputs_hidden": false,
          "source_hidden": false
        },
        "nteract": {
          "transient": {
            "deleting": false
          }
        }
      },
      "outputs": [
        {
          "data": {
            "application/vnd.jupyter.widget-view+json": {
              "model_id": "ad2f94f25f3549a983e36eba4b7898e0",
              "version_major": 2,
              "version_minor": 0
            },
            "text/plain": "_AutoMLWidget(widget_settings={'childWidgetDisplay': 'popup', 'send_telemetry': False, 'log_level': 'INFO', 's…"
          },
          "metadata": {},
          "output_type": "display_data"
        },
        {
          "data": {
            "application/aml.mini.widget.v1": "{\"status\": \"Completed\", \"workbench_run_details_uri\": \"https://ml.azure.com/runs/AutoML_a25ed3fa-6576-4191-99be-e4b4db848807?wsid=/subscriptions/939bb7d7-6909-4049-929c-1df590b9f273/resourcegroups/presentation/workspaces/udacity_workspace&tid=e9f4b799-4c58-4783-92c3-75ff1e37dd9c\", \"run_id\": \"AutoML_a25ed3fa-6576-4191-99be-e4b4db848807\", \"run_properties\": {\"run_id\": \"AutoML_a25ed3fa-6576-4191-99be-e4b4db848807\", \"created_utc\": \"2021-05-08T08:31:58.647537Z\", \"properties\": {\"num_iterations\": \"1000\", \"training_type\": \"TrainFull\", \"acquisition_function\": \"EI\", \"primary_metric\": \"normalized_mean_absolute_error\", \"train_split\": \"0\", \"acquisition_parameter\": \"0\", \"num_cross_validation\": null, \"target\": \"MLCapstone\", \"AMLSettingsJsonString\": \"{\\\"path\\\":null,\\\"name\\\":\\\"capstone_regression\\\",\\\"subscription_id\\\":\\\"939bb7d7-6909-4049-929c-1df590b9f273\\\",\\\"resource_group\\\":\\\"presentation\\\",\\\"workspace_name\\\":\\\"udacity_workspace\\\",\\\"region\\\":\\\"westeurope\\\",\\\"compute_target\\\":\\\"MLCapstone\\\",\\\"spark_service\\\":null,\\\"azure_service\\\":\\\"remote\\\",\\\"many_models\\\":false,\\\"pipeline_fetch_max_batch_size\\\":1,\\\"enable_batch_run\\\":false,\\\"enable_run_restructure\\\":false,\\\"iterations\\\":1000,\\\"primary_metric\\\":\\\"normalized_mean_absolute_error\\\",\\\"task_type\\\":\\\"regression\\\",\\\"data_script\\\":null,\\\"test_size\\\":0.0,\\\"validation_size\\\":0.0,\\\"n_cross_validations\\\":null,\\\"y_min\\\":null,\\\"y_max\\\":null,\\\"num_classes\\\":null,\\\"featurization\\\":\\\"auto\\\",\\\"_ignore_package_version_incompatibilities\\\":false,\\\"is_timeseries\\\":false,\\\"max_cores_per_iteration\\\":1,\\\"max_concurrent_iterations\\\":4,\\\"iteration_timeout_minutes\\\":null,\\\"mem_in_mb\\\":null,\\\"enforce_time_on_windows\\\":false,\\\"experiment_timeout_minutes\\\":40,\\\"experiment_exit_score\\\":null,\\\"whitelist_models\\\":null,\\\"blacklist_algos\\\":[\\\"TensorFlowDNN\\\",\\\"TensorFlowLinearRegressor\\\"],\\\"supported_models\\\":[\\\"ElasticNet\\\",\\\"OnlineGradientDescentRegressor\\\",\\\"LassoLars\\\",\\\"GradientBoosting\\\",\\\"ExtremeRandomTrees\\\",\\\"TensorFlowDNN\\\",\\\"TensorFlowLinearRegressor\\\",\\\"XGBoostRegressor\\\",\\\"RandomForest\\\",\\\"KNN\\\",\\\"FastLinearRegressor\\\",\\\"DecisionTree\\\",\\\"SGD\\\",\\\"LightGBM\\\"],\\\"private_models\\\":[],\\\"auto_blacklist\\\":true,\\\"blacklist_samples_reached\\\":false,\\\"exclude_nan_labels\\\":true,\\\"verbosity\\\":20,\\\"_debug_log\\\":\\\"azureml_automl.log\\\",\\\"show_warnings\\\":false,\\\"model_explainability\\\":true,\\\"service_url\\\":null,\\\"sdk_url\\\":null,\\\"sdk_packages\\\":null,\\\"enable_onnx_compatible_models\\\":false,\\\"enable_split_onnx_featurizer_estimator_models\\\":false,\\\"vm_type\\\":\\\"STANDARD_D2_V2\\\",\\\"telemetry_verbosity\\\":20,\\\"send_telemetry\\\":true,\\\"enable_dnn\\\":false,\\\"scenario\\\":\\\"SDK-1.13.0\\\",\\\"environment_label\\\":null,\\\"save_mlflow\\\":false,\\\"force_text_dnn\\\":false,\\\"enable_feature_sweeping\\\":true,\\\"enable_early_stopping\\\":true,\\\"early_stopping_n_iters\\\":10,\\\"metrics\\\":null,\\\"enable_metric_confidence\\\":false,\\\"enable_ensembling\\\":true,\\\"enable_stack_ensembling\\\":true,\\\"ensemble_iterations\\\":15,\\\"enable_tf\\\":false,\\\"enable_subsampling\\\":null,\\\"subsample_seed\\\":null,\\\"enable_nimbusml\\\":false,\\\"enable_streaming\\\":false,\\\"force_streaming\\\":false,\\\"track_child_runs\\\":true,\\\"allowed_private_models\\\":[],\\\"label_column_name\\\":\\\"Rings\\\",\\\"weight_column_name\\\":null,\\\"cv_split_column_names\\\":null,\\\"enable_local_managed\\\":false,\\\"_local_managed_run_id\\\":null,\\\"cost_mode\\\":1,\\\"lag_length\\\":0,\\\"metric_operation\\\":\\\"minimize\\\",\\\"preprocess\\\":true,\\\"max_cores_per_iterations\\\":-1}\", \"DataPrepJsonString\": \"{\\\\\\\"training_data\\\\\\\": {\\\\\\\"datasetId\\\\\\\": \\\\\\\"41aada46-572b-4e03-8dc3-2faaa39dff9f\\\\\\\"}, \\\\\\\"datasets\\\\\\\": 0}\", \"EnableSubsampling\": null, \"runTemplate\": \"AutoML\", \"azureml.runsource\": \"automl\", \"display_task_type\": \"regression\", \"dependencies_versions\": \"{\\\"azureml-widgets\\\": \\\"1.26.0\\\", \\\"azureml-train\\\": \\\"1.26.0\\\", \\\"azureml-train-restclients-hyperdrive\\\": \\\"1.26.0\\\", \\\"azureml-train-core\\\": \\\"1.26.0\\\", \\\"azureml-train-automl\\\": \\\"1.26.0\\\", \\\"azureml-train-automl-runtime\\\": \\\"1.26.0\\\", \\\"azureml-train-automl-client\\\": \\\"1.26.0\\\", \\\"azureml-tensorboard\\\": \\\"1.26.0\\\", \\\"azureml-telemetry\\\": \\\"1.26.0\\\", \\\"azureml-sdk\\\": \\\"1.26.0\\\", \\\"azureml-samples\\\": \\\"0+unknown\\\", \\\"azureml-pipeline\\\": \\\"1.26.0\\\", \\\"azureml-pipeline-steps\\\": \\\"1.26.0\\\", \\\"azureml-pipeline-core\\\": \\\"1.26.0\\\", \\\"azureml-opendatasets\\\": \\\"1.26.0\\\", \\\"azureml-model-management-sdk\\\": \\\"1.0.1b6.post1\\\", \\\"azureml-mlflow\\\": \\\"1.26.0\\\", \\\"azureml-interpret\\\": \\\"1.26.0\\\", \\\"azureml-explain-model\\\": \\\"1.26.0\\\", \\\"azureml-defaults\\\": \\\"1.26.0\\\", \\\"azureml-dataset-runtime\\\": \\\"1.26.0\\\", \\\"azureml-dataprep\\\": \\\"2.13.2\\\", \\\"azureml-dataprep-rslex\\\": \\\"1.11.2\\\", \\\"azureml-dataprep-native\\\": \\\"32.0.0\\\", \\\"azureml-datadrift\\\": \\\"1.26.0\\\", \\\"azureml-core\\\": \\\"1.26.0\\\", \\\"azureml-contrib-services\\\": \\\"1.26.0\\\", \\\"azureml-contrib-server\\\": \\\"1.26.0\\\", \\\"azureml-contrib-reinforcementlearning\\\": \\\"1.26.0\\\", \\\"azureml-contrib-pipeline-steps\\\": \\\"1.26.0\\\", \\\"azureml-contrib-notebook\\\": \\\"1.26.0\\\", \\\"azureml-contrib-gbdt\\\": \\\"1.26.0\\\", \\\"azureml-contrib-fairness\\\": \\\"1.26.0\\\", \\\"azureml-contrib-dataset\\\": \\\"1.26.0\\\", \\\"azureml-cli-common\\\": \\\"1.26.0\\\", \\\"azureml-automl-runtime\\\": \\\"1.26.0\\\", \\\"azureml-automl-dnn-nlp\\\": \\\"1.26.0\\\", \\\"azureml-automl-core\\\": \\\"1.26.0\\\", \\\"azureml-accel-models\\\": \\\"1.26.0\\\"}\", \"_aml_system_scenario_identification\": \"Remote.Parent\", \"ClientType\": \"SDK\", \"environment_cpu_name\": \"AzureML-AutoML\", \"environment_cpu_label\": \"prod\", \"environment_gpu_name\": \"AzureML-AutoML-GPU\", \"environment_gpu_label\": \"prod\", \"root_attribution\": \"automl\", \"attribution\": \"AutoML\", \"Orchestrator\": \"AutoML\", \"CancelUri\": \"https://westeurope.api.azureml.ms/jasmine/v1.0/subscriptions/939bb7d7-6909-4049-929c-1df590b9f273/resourceGroups/presentation/providers/Microsoft.MachineLearningServices/workspaces/udacity_workspace/experimentids/7de35bab-5dc0-48f1-aada-4d52f84d34a5/cancel/AutoML_a25ed3fa-6576-4191-99be-e4b4db848807\", \"ClientSdkVersion\": \"1.27.0.post1\", \"snapshotId\": \"00000000-0000-0000-0000-000000000000\", \"SetupRunId\": \"AutoML_a25ed3fa-6576-4191-99be-e4b4db848807_setup\", \"SetupRunContainerId\": \"dcid.AutoML_a25ed3fa-6576-4191-99be-e4b4db848807_setup\", \"FeaturizationRunJsonPath\": \"featurizer_container.json\", \"FeaturizationRunId\": \"AutoML_a25ed3fa-6576-4191-99be-e4b4db848807_featurize\", \"ProblemInfoJsonString\": \"{\\\"dataset_num_categorical\\\": 0, \\\"is_sparse\\\": false, \\\"subsampling\\\": false, \\\"dataset_classes\\\": 28, \\\"dataset_features\\\": 10, \\\"dataset_samples\\\": 4177, \\\"single_frequency_class_detected\\\": false}\", \"ModelExplainRunId\": \"AutoML_a25ed3fa-6576-4191-99be-e4b4db848807_ModelExplain\"}, \"tags\": {\"model_explain_run\": \"best_run\", \"_aml_system_azureml.automlComponent\": \"AutoML\", \"pipeline_id\": \"\", \"score\": \"\", \"predicted_cost\": \"\", \"fit_time\": \"\", \"training_percent\": \"\", \"iteration\": \"\", \"run_preprocessor\": \"\", \"run_algorithm\": \"\", \"dynamic_whitelisting_iterations\": \"<25>;<30>;<35>;\", \"automl_best_child_run_id\": \"AutoML_a25ed3fa-6576-4191-99be-e4b4db848807_36\"}, \"end_time_utc\": \"2021-05-08T08:57:01.42937Z\", \"status\": \"Completed\", \"log_files\": {}, \"log_groups\": [], \"run_duration\": \"0:25:02\", \"run_number\": \"55\", \"run_queued_details\": {\"status\": \"Completed\", \"details\": null}}, \"child_runs\": [{\"run_id\": \"AutoML_a25ed3fa-6576-4191-99be-e4b4db848807_2\", \"run_number\": 59, \"metric\": null, \"status\": \"Completed\", \"run_type\": \"azureml.scriptrun\", \"training_percent\": \"100\", \"start_time\": \"2021-05-08T08:45:10.795814Z\", \"end_time\": \"2021-05-08T08:45:55.187241Z\", \"created_time\": \"2021-05-08T08:42:46.034179Z\", \"created_time_dt\": \"2021-05-08T08:42:46.034179Z\", \"duration\": \"0:03:09\", \"iteration\": \"2\", \"goal\": \"normalized_mean_absolute_error_min\", \"run_name\": \"RobustScaler, DecisionTree\", \"run_properties\": \"copy=True, quantile_range=[10, 90], with_centering=True,\\n             with_scaling=False\", \"primary_metric\": 0.05808742, \"best_metric\": 0.05440943}, {\"run_id\": \"AutoML_a25ed3fa-6576-4191-99be-e4b4db848807_3\", \"run_number\": 60, \"metric\": null, \"status\": \"Completed\", \"run_type\": \"azureml.scriptrun\", \"training_percent\": \"100\", \"start_time\": \"2021-05-08T08:42:59.827622Z\", \"end_time\": \"2021-05-08T08:43:44.388826Z\", \"created_time\": \"2021-05-08T08:42:46.042227Z\", \"created_time_dt\": \"2021-05-08T08:42:46.042227Z\", \"duration\": \"0:00:58\", \"iteration\": \"3\", \"goal\": \"normalized_mean_absolute_error_min\", \"run_name\": \"StandardScalerWrapper, DecisionTree\", \"run_properties\": \"<azureml.automl.runtime.shared.model_wrappers.StandardScalerWrapper object at 0x7f34838dae10\", \"primary_metric\": 0.05932305, \"best_metric\": 0.05440943}, {\"run_id\": \"AutoML_a25ed3fa-6576-4191-99be-e4b4db848807_0\", \"run_number\": 61, \"metric\": null, \"status\": \"Completed\", \"run_type\": \"azureml.scriptrun\", \"training_percent\": \"100\", \"start_time\": \"2021-05-08T08:44:00.076544Z\", \"end_time\": \"2021-05-08T08:44:54.710922Z\", \"created_time\": \"2021-05-08T08:42:46.079437Z\", \"created_time_dt\": \"2021-05-08T08:42:46.079437Z\", \"duration\": \"0:02:08\", \"iteration\": \"0\", \"goal\": \"normalized_mean_absolute_error_min\", \"run_name\": \"MaxAbsScaler, LightGBM\", \"run_properties\": \"copy=True\", \"primary_metric\": 0.05542723, \"best_metric\": 0.05542723}, {\"run_id\": \"AutoML_a25ed3fa-6576-4191-99be-e4b4db848807_1\", \"run_number\": 62, \"metric\": null, \"status\": \"Completed\", \"run_type\": \"azureml.scriptrun\", \"training_percent\": \"100\", \"start_time\": \"2021-05-08T08:45:25.523311Z\", \"end_time\": \"2021-05-08T08:47:40.505451Z\", \"created_time\": \"2021-05-08T08:42:46.035688Z\", \"created_time_dt\": \"2021-05-08T08:42:46.035688Z\", \"duration\": \"0:04:54\", \"iteration\": \"1\", \"goal\": \"normalized_mean_absolute_error_min\", \"run_name\": \"MaxAbsScaler, XGBoostRegressor\", \"run_properties\": \"copy=True\", \"primary_metric\": 0.05440943, \"best_metric\": 0.05440943}, {\"run_id\": \"AutoML_a25ed3fa-6576-4191-99be-e4b4db848807_4\", \"run_number\": 63, \"metric\": null, \"status\": \"Completed\", \"run_type\": \"azureml.scriptrun\", \"training_percent\": \"100\", \"start_time\": \"2021-05-08T08:45:27.795468Z\", \"end_time\": \"2021-05-08T08:47:59.146929Z\", \"created_time\": \"2021-05-08T08:43:47.907468Z\", \"created_time_dt\": \"2021-05-08T08:43:47.907468Z\", \"duration\": \"0:04:11\", \"iteration\": \"4\", \"goal\": \"normalized_mean_absolute_error_min\", \"run_name\": \"MinMaxScaler, LassoLars\", \"run_properties\": \"copy=True, feature_range=(0, 1\", \"primary_metric\": 0.05661874, \"best_metric\": 0.05440943}, {\"run_id\": \"AutoML_a25ed3fa-6576-4191-99be-e4b4db848807_5\", \"run_number\": 64, \"metric\": null, \"status\": \"Completed\", \"run_type\": \"azureml.scriptrun\", \"training_percent\": \"100\", \"start_time\": \"2021-05-08T08:45:28.632621Z\", \"end_time\": \"2021-05-08T08:50:44.258088Z\", \"created_time\": \"2021-05-08T08:44:58.558306Z\", \"created_time_dt\": \"2021-05-08T08:44:58.558306Z\", \"duration\": \"0:05:45\", \"iteration\": \"5\", \"goal\": \"normalized_mean_absolute_error_min\", \"run_name\": \"StandardScalerWrapper, LassoLars\", \"run_properties\": \"<azureml.automl.runtime.shared.model_wrappers.StandardScalerWrapper object at 0x7eff7f57deb8\", \"primary_metric\": 0.05656843, \"best_metric\": 0.05440943}, {\"run_id\": \"AutoML_a25ed3fa-6576-4191-99be-e4b4db848807_6\", \"run_number\": 65, \"metric\": null, \"status\": \"Completed\", \"run_type\": \"azureml.scriptrun\", \"training_percent\": \"100\", \"start_time\": \"2021-05-08T08:46:09.560951Z\", \"end_time\": \"2021-05-08T08:46:56.090519Z\", \"created_time\": \"2021-05-08T08:45:58.427526Z\", \"created_time_dt\": \"2021-05-08T08:45:58.427526Z\", \"duration\": \"0:00:57\", \"iteration\": \"6\", \"goal\": \"normalized_mean_absolute_error_min\", \"run_name\": \"MinMaxScaler, DecisionTree\", \"run_properties\": \"copy=True, feature_range=(0, 1\", \"primary_metric\": 0.05799159, \"best_metric\": 0.05440943}, {\"run_id\": \"AutoML_a25ed3fa-6576-4191-99be-e4b4db848807_7\", \"run_number\": 66, \"metric\": null, \"status\": \"Completed\", \"run_type\": \"azureml.scriptrun\", \"training_percent\": \"100\", \"start_time\": \"2021-05-08T08:47:11.166152Z\", \"end_time\": \"2021-05-08T08:47:53.91329Z\", \"created_time\": \"2021-05-08T08:46:59.332138Z\", \"created_time_dt\": \"2021-05-08T08:46:59.332138Z\", \"duration\": \"0:00:54\", \"iteration\": \"7\", \"goal\": \"normalized_mean_absolute_error_min\", \"run_name\": \"RobustScaler, DecisionTree\", \"run_properties\": \"copy=True, quantile_range=[10, 90], with_centering=False,\\n             with_scaling=True\", \"primary_metric\": 0.05769576, \"best_metric\": 0.05440943}, {\"run_id\": \"AutoML_a25ed3fa-6576-4191-99be-e4b4db848807_8\", \"run_number\": 67, \"metric\": null, \"status\": \"Completed\", \"run_type\": \"azureml.scriptrun\", \"training_percent\": \"100\", \"start_time\": \"2021-05-08T08:47:55.421871Z\", \"end_time\": \"2021-05-08T08:48:39.612527Z\", \"created_time\": \"2021-05-08T08:47:43.546483Z\", \"created_time_dt\": \"2021-05-08T08:47:43.546483Z\", \"duration\": \"0:00:56\", \"iteration\": \"8\", \"goal\": \"normalized_mean_absolute_error_min\", \"run_name\": \"StandardScalerWrapper, ElasticNet\", \"run_properties\": \"<azureml.automl.runtime.shared.model_wrappers.StandardScalerWrapper object at 0x7fe1c5891208\", \"primary_metric\": 0.05658616, \"best_metric\": 0.05440943}, {\"run_id\": \"AutoML_a25ed3fa-6576-4191-99be-e4b4db848807_9\", \"run_number\": 68, \"metric\": null, \"status\": \"Completed\", \"run_type\": \"azureml.scriptrun\", \"training_percent\": \"100\", \"start_time\": \"2021-05-08T08:48:09.255654Z\", \"end_time\": \"2021-05-08T08:48:54.60742Z\", \"created_time\": \"2021-05-08T08:47:56.845976Z\", \"created_time_dt\": \"2021-05-08T08:47:56.845976Z\", \"duration\": \"0:00:57\", \"iteration\": \"9\", \"goal\": \"normalized_mean_absolute_error_min\", \"run_name\": \"StandardScalerWrapper, DecisionTree\", \"run_properties\": \"<azureml.automl.runtime.shared.model_wrappers.StandardScalerWrapper object at 0x7fc3905b1f98\", \"primary_metric\": 0.0577317, \"best_metric\": 0.05440943}, {\"run_id\": \"AutoML_a25ed3fa-6576-4191-99be-e4b4db848807_10\", \"run_number\": 69, \"metric\": null, \"status\": \"Completed\", \"run_type\": \"azureml.scriptrun\", \"training_percent\": \"100\", \"start_time\": \"2021-05-08T08:48:14.290581Z\", \"end_time\": \"2021-05-08T08:49:03.045556Z\", \"created_time\": \"2021-05-08T08:48:02.32153Z\", \"created_time_dt\": \"2021-05-08T08:48:02.32153Z\", \"duration\": \"0:01:00\", \"iteration\": \"10\", \"goal\": \"normalized_mean_absolute_error_min\", \"run_name\": \"RobustScaler, DecisionTree\", \"run_properties\": \"copy=True, quantile_range=[25, 75], with_centering=True,\\n             with_scaling=False\", \"primary_metric\": 0.05784551, \"best_metric\": 0.05440943}, {\"run_id\": \"AutoML_a25ed3fa-6576-4191-99be-e4b4db848807_11\", \"run_number\": 70, \"metric\": null, \"status\": \"Completed\", \"run_type\": \"azureml.scriptrun\", \"training_percent\": \"100\", \"start_time\": \"2021-05-08T08:48:55.010529Z\", \"end_time\": \"2021-05-08T08:49:37.550826Z\", \"created_time\": \"2021-05-08T08:48:42.77694Z\", \"created_time_dt\": \"2021-05-08T08:48:42.77694Z\", \"duration\": \"0:00:54\", \"iteration\": \"11\", \"goal\": \"normalized_mean_absolute_error_min\", \"run_name\": \"MinMaxScaler, DecisionTree\", \"run_properties\": \"copy=True, feature_range=(0, 1\", \"primary_metric\": 0.05773097, \"best_metric\": 0.05440943}, {\"run_id\": \"AutoML_a25ed3fa-6576-4191-99be-e4b4db848807_12\", \"run_number\": 71, \"metric\": null, \"status\": \"Completed\", \"run_type\": \"azureml.scriptrun\", \"training_percent\": \"100\", \"start_time\": \"2021-05-08T08:49:12.136716Z\", \"end_time\": \"2021-05-08T08:49:57.426235Z\", \"created_time\": \"2021-05-08T08:48:57.590693Z\", \"created_time_dt\": \"2021-05-08T08:48:57.590693Z\", \"duration\": \"0:00:59\", \"iteration\": \"12\", \"goal\": \"normalized_mean_absolute_error_min\", \"run_name\": \"StandardScalerWrapper, DecisionTree\", \"run_properties\": \"<azureml.automl.runtime.shared.model_wrappers.StandardScalerWrapper object at 0x7f677fbab588\", \"primary_metric\": 0.05788626, \"best_metric\": 0.05440943}, {\"run_id\": \"AutoML_a25ed3fa-6576-4191-99be-e4b4db848807_13\", \"run_number\": 72, \"metric\": null, \"status\": \"Completed\", \"run_type\": \"azureml.scriptrun\", \"training_percent\": \"100\", \"start_time\": \"2021-05-08T08:49:18.122553Z\", \"end_time\": \"2021-05-08T08:50:00.18352Z\", \"created_time\": \"2021-05-08T08:49:05.94264Z\", \"created_time_dt\": \"2021-05-08T08:49:05.94264Z\", \"duration\": \"0:00:54\", \"iteration\": \"13\", \"goal\": \"normalized_mean_absolute_error_min\", \"run_name\": \"RobustScaler, LassoLars\", \"run_properties\": \"copy=True, quantile_range=[10, 90], with_centering=False,\\n             with_scaling=True\", \"primary_metric\": 0.05657427, \"best_metric\": 0.05440943}, {\"run_id\": \"AutoML_a25ed3fa-6576-4191-99be-e4b4db848807_14\", \"run_number\": 73, \"metric\": null, \"status\": \"Completed\", \"run_type\": \"azureml.scriptrun\", \"training_percent\": \"100\", \"start_time\": \"2021-05-08T08:49:53.605141Z\", \"end_time\": \"2021-05-08T08:50:39.57685Z\", \"created_time\": \"2021-05-08T08:49:40.491038Z\", \"created_time_dt\": \"2021-05-08T08:49:40.491038Z\", \"duration\": \"0:00:59\", \"iteration\": \"14\", \"goal\": \"normalized_mean_absolute_error_min\", \"run_name\": \"StandardScalerWrapper, DecisionTree\", \"run_properties\": \"<azureml.automl.runtime.shared.model_wrappers.StandardScalerWrapper object at 0x7f3dd3c394a8\", \"primary_metric\": 0.05837336, \"best_metric\": 0.05440943}, {\"run_id\": \"AutoML_a25ed3fa-6576-4191-99be-e4b4db848807_15\", \"run_number\": 74, \"metric\": null, \"status\": \"Completed\", \"run_type\": \"azureml.scriptrun\", \"training_percent\": \"100\", \"start_time\": \"2021-05-08T08:50:12.585367Z\", \"end_time\": \"2021-05-08T08:51:04.762017Z\", \"created_time\": \"2021-05-08T08:50:01.195898Z\", \"created_time_dt\": \"2021-05-08T08:50:01.195898Z\", \"duration\": \"0:01:03\", \"iteration\": \"15\", \"goal\": \"normalized_mean_absolute_error_min\", \"run_name\": \"RobustScaler, DecisionTree\", \"run_properties\": \"copy=True, quantile_range=[10, 90], with_centering=True,\\n             with_scaling=False\", \"primary_metric\": 0.05773964, \"best_metric\": 0.05440943}, {\"run_id\": \"AutoML_a25ed3fa-6576-4191-99be-e4b4db848807_16\", \"run_number\": 75, \"metric\": null, \"status\": \"Completed\", \"run_type\": \"azureml.scriptrun\", \"training_percent\": \"100\", \"start_time\": \"2021-05-08T08:50:14.69982Z\", \"end_time\": \"2021-05-08T08:50:58.564819Z\", \"created_time\": \"2021-05-08T08:50:05.643283Z\", \"created_time_dt\": \"2021-05-08T08:50:05.643283Z\", \"duration\": \"0:00:52\", \"iteration\": \"16\", \"goal\": \"normalized_mean_absolute_error_min\", \"run_name\": \"StandardScalerWrapper, DecisionTree\", \"run_properties\": \"<azureml.automl.runtime.shared.model_wrappers.StandardScalerWrapper object at 0x7f1f16614e80\", \"primary_metric\": 0.05788566, \"best_metric\": 0.05440943}, {\"run_id\": \"AutoML_a25ed3fa-6576-4191-99be-e4b4db848807_17\", \"run_number\": 76, \"metric\": null, \"status\": \"Completed\", \"run_type\": \"azureml.scriptrun\", \"training_percent\": \"100\", \"start_time\": \"2021-05-08T08:50:55.468482Z\", \"end_time\": \"2021-05-08T08:51:40.068056Z\", \"created_time\": \"2021-05-08T08:50:42.578683Z\", \"created_time_dt\": \"2021-05-08T08:50:42.578683Z\", \"duration\": \"0:00:57\", \"iteration\": \"17\", \"goal\": \"normalized_mean_absolute_error_min\", \"run_name\": \"RobustScaler, DecisionTree\", \"run_properties\": \"copy=True, quantile_range=[10, 90], with_centering=False,\\n             with_scaling=False\", \"primary_metric\": 0.05776167, \"best_metric\": 0.05440943}, {\"run_id\": \"AutoML_a25ed3fa-6576-4191-99be-e4b4db848807_18\", \"run_number\": 77, \"metric\": null, \"status\": \"Completed\", \"run_type\": \"azureml.scriptrun\", \"training_percent\": \"100\", \"start_time\": \"2021-05-08T08:51:01.156767Z\", \"end_time\": \"2021-05-08T08:51:44.852711Z\", \"created_time\": \"2021-05-08T08:50:47.335762Z\", \"created_time_dt\": \"2021-05-08T08:50:47.335762Z\", \"duration\": \"0:00:57\", \"iteration\": \"18\", \"goal\": \"normalized_mean_absolute_error_min\", \"run_name\": \"MinMaxScaler, DecisionTree\", \"run_properties\": \"copy=True, feature_range=(0, 1\", \"primary_metric\": 0.05920154, \"best_metric\": 0.05440943}, {\"run_id\": \"AutoML_a25ed3fa-6576-4191-99be-e4b4db848807_19\", \"run_number\": 78, \"metric\": null, \"status\": \"Completed\", \"run_type\": \"azureml.scriptrun\", \"training_percent\": \"100\", \"start_time\": \"2021-05-08T08:51:12.734335Z\", \"end_time\": \"2021-05-08T08:52:00.054408Z\", \"created_time\": \"2021-05-08T08:51:01.566698Z\", \"created_time_dt\": \"2021-05-08T08:51:01.566698Z\", \"duration\": \"0:00:58\", \"iteration\": \"19\", \"goal\": \"normalized_mean_absolute_error_min\", \"run_name\": \"MinMaxScaler, DecisionTree\", \"run_properties\": \"copy=True, feature_range=(0, 1\", \"primary_metric\": 0.05786263, \"best_metric\": 0.05440943}, {\"run_id\": \"AutoML_a25ed3fa-6576-4191-99be-e4b4db848807_20\", \"run_number\": 79, \"metric\": null, \"status\": \"Completed\", \"run_type\": \"azureml.scriptrun\", \"training_percent\": \"100\", \"start_time\": \"2021-05-08T08:51:19.227705Z\", \"end_time\": \"2021-05-08T08:52:03.651617Z\", \"created_time\": \"2021-05-08T08:51:07.573049Z\", \"created_time_dt\": \"2021-05-08T08:51:07.573049Z\", \"duration\": \"0:00:56\", \"iteration\": \"20\", \"goal\": \"normalized_mean_absolute_error_min\", \"run_name\": \"RobustScaler, DecisionTree\", \"run_properties\": \"copy=True, quantile_range=[10, 90], with_centering=False,\\n             with_scaling=False\", \"primary_metric\": 0.05769618, \"best_metric\": 0.05440943}, {\"run_id\": \"AutoML_a25ed3fa-6576-4191-99be-e4b4db848807_21\", \"run_number\": 80, \"metric\": null, \"status\": \"Completed\", \"run_type\": \"azureml.scriptrun\", \"training_percent\": \"100\", \"start_time\": \"2021-05-08T08:51:55.088759Z\", \"end_time\": \"2021-05-08T08:52:35.836142Z\", \"created_time\": \"2021-05-08T08:51:43.067295Z\", \"created_time_dt\": \"2021-05-08T08:51:43.067295Z\", \"duration\": \"0:00:52\", \"iteration\": \"21\", \"goal\": \"normalized_mean_absolute_error_min\", \"run_name\": \"StandardScalerWrapper, DecisionTree\", \"run_properties\": \"<azureml.automl.runtime.shared.model_wrappers.StandardScalerWrapper object at 0x7ff4d7ca3358\", \"primary_metric\": 0.05886918, \"best_metric\": 0.05440943}, {\"run_id\": \"AutoML_a25ed3fa-6576-4191-99be-e4b4db848807_22\", \"run_number\": 81, \"metric\": null, \"status\": \"Completed\", \"run_type\": \"azureml.scriptrun\", \"training_percent\": \"100\", \"start_time\": \"2021-05-08T08:52:00.093138Z\", \"end_time\": \"2021-05-08T08:52:42.150847Z\", \"created_time\": \"2021-05-08T08:51:48.786881Z\", \"created_time_dt\": \"2021-05-08T08:51:48.786881Z\", \"duration\": \"0:00:53\", \"iteration\": \"22\", \"goal\": \"normalized_mean_absolute_error_min\", \"run_name\": \"MinMaxScaler, ElasticNet\", \"run_properties\": \"copy=True, feature_range=(0, 1\", \"primary_metric\": 0.05699733, \"best_metric\": 0.05440943}, {\"run_id\": \"AutoML_a25ed3fa-6576-4191-99be-e4b4db848807_23\", \"run_number\": 82, \"metric\": null, \"status\": \"Completed\", \"run_type\": \"azureml.scriptrun\", \"training_percent\": \"100\", \"start_time\": \"2021-05-08T08:52:15.690633Z\", \"end_time\": \"2021-05-08T08:52:59.707184Z\", \"created_time\": \"2021-05-08T08:52:03.14201Z\", \"created_time_dt\": \"2021-05-08T08:52:03.14201Z\", \"duration\": \"0:00:56\", \"iteration\": \"23\", \"goal\": \"normalized_mean_absolute_error_min\", \"run_name\": \"MinMaxScaler, DecisionTree\", \"run_properties\": \"copy=True, feature_range=(0, 1\", \"primary_metric\": 0.05815814, \"best_metric\": 0.05440943}, {\"run_id\": \"AutoML_a25ed3fa-6576-4191-99be-e4b4db848807_24\", \"run_number\": 83, \"metric\": null, \"status\": \"Completed\", \"run_type\": \"azureml.scriptrun\", \"training_percent\": \"100\", \"start_time\": \"2021-05-08T08:52:18.68545Z\", \"end_time\": \"2021-05-08T08:53:01.206081Z\", \"created_time\": \"2021-05-08T08:52:07.292661Z\", \"created_time_dt\": \"2021-05-08T08:52:07.292661Z\", \"duration\": \"0:00:53\", \"iteration\": \"24\", \"goal\": \"normalized_mean_absolute_error_min\", \"run_name\": \"RobustScaler, RandomForest\", \"run_properties\": \"copy=True, quantile_range=[25, 75], with_centering=True,\\n             with_scaling=True\", \"primary_metric\": 0.05558673, \"best_metric\": 0.05440943}, {\"run_id\": \"AutoML_a25ed3fa-6576-4191-99be-e4b4db848807_25\", \"run_number\": 84, \"metric\": null, \"status\": \"Completed\", \"run_type\": \"azureml.scriptrun\", \"training_percent\": \"100\", \"start_time\": \"2021-05-08T08:52:48.982139Z\", \"end_time\": \"2021-05-08T08:53:33.73725Z\", \"created_time\": \"2021-05-08T08:52:38.810654Z\", \"created_time_dt\": \"2021-05-08T08:52:38.810654Z\", \"duration\": \"0:00:54\", \"iteration\": \"25\", \"goal\": \"normalized_mean_absolute_error_min\", \"run_name\": \"PCA, XGBoostRegressor\", \"run_properties\": \"copy=True, iterated_power='auto', n_components=0.15842105263157896,\\n    random_state=None, svd_solver='auto', tol=0.0, whiten=True\", \"primary_metric\": 0.06759065, \"best_metric\": 0.05440943}, {\"run_id\": \"AutoML_a25ed3fa-6576-4191-99be-e4b4db848807_26\", \"run_number\": 85, \"metric\": null, \"status\": \"Completed\", \"run_type\": \"azureml.scriptrun\", \"training_percent\": \"100\", \"start_time\": \"2021-05-08T08:52:58.985902Z\", \"end_time\": \"2021-05-08T08:53:43.111264Z\", \"created_time\": \"2021-05-08T08:52:44.05026Z\", \"created_time_dt\": \"2021-05-08T08:52:44.05026Z\", \"duration\": \"0:00:59\", \"iteration\": \"26\", \"goal\": \"normalized_mean_absolute_error_min\", \"run_name\": \"StandardScalerWrapper, DecisionTree\", \"run_properties\": \"<azureml.automl.runtime.shared.model_wrappers.StandardScalerWrapper object at 0x7fc67f653cf8\", \"primary_metric\": 0.05768751, \"best_metric\": 0.05440943}, {\"run_id\": \"AutoML_a25ed3fa-6576-4191-99be-e4b4db848807_27\", \"run_number\": 86, \"metric\": null, \"status\": \"Completed\", \"run_type\": \"azureml.scriptrun\", \"training_percent\": \"100\", \"start_time\": \"2021-05-08T08:53:14.217389Z\", \"end_time\": \"2021-05-08T08:54:02.698149Z\", \"created_time\": \"2021-05-08T08:53:01.935921Z\", \"created_time_dt\": \"2021-05-08T08:53:01.935921Z\", \"duration\": \"0:01:00\", \"iteration\": \"27\", \"goal\": \"normalized_mean_absolute_error_min\", \"run_name\": \"RobustScaler, RandomForest\", \"run_properties\": \"copy=True, quantile_range=[25, 75], with_centering=True,\\n             with_scaling=True\", \"primary_metric\": 0.0551737, \"best_metric\": 0.05440943}, {\"run_id\": \"AutoML_a25ed3fa-6576-4191-99be-e4b4db848807_28\", \"run_number\": 87, \"metric\": null, \"status\": \"Completed\", \"run_type\": \"azureml.scriptrun\", \"training_percent\": \"100\", \"start_time\": \"2021-05-08T08:53:17.316855Z\", \"end_time\": \"2021-05-08T08:54:00.544683Z\", \"created_time\": \"2021-05-08T08:53:05.216617Z\", \"created_time_dt\": \"2021-05-08T08:53:05.216617Z\", \"duration\": \"0:00:55\", \"iteration\": \"28\", \"goal\": \"normalized_mean_absolute_error_min\", \"run_name\": \"MinMaxScaler, GradientBoosting\", \"run_properties\": \"copy=True, feature_range=(0, 1\", \"primary_metric\": 0.05693523, \"best_metric\": 0.05440943}, {\"run_id\": \"AutoML_a25ed3fa-6576-4191-99be-e4b4db848807_29\", \"run_number\": 88, \"metric\": null, \"status\": \"Completed\", \"run_type\": \"azureml.scriptrun\", \"training_percent\": \"100\", \"start_time\": \"2021-05-08T08:53:50.799254Z\", \"end_time\": \"2021-05-08T08:55:02.815825Z\", \"created_time\": \"2021-05-08T08:53:35.789862Z\", \"created_time_dt\": \"2021-05-08T08:53:35.789862Z\", \"duration\": \"0:01:27\", \"iteration\": \"29\", \"goal\": \"normalized_mean_absolute_error_min\", \"run_name\": \"RobustScaler, LassoLars\", \"run_properties\": \"copy=True, quantile_range=[25, 75], with_centering=False,\\n             with_scaling=True\", \"primary_metric\": 0.05656896, \"best_metric\": 0.05440943}, {\"run_id\": \"AutoML_a25ed3fa-6576-4191-99be-e4b4db848807_30\", \"run_number\": 89, \"metric\": null, \"status\": \"Completed\", \"run_type\": \"azureml.scriptrun\", \"training_percent\": \"100\", \"start_time\": \"2021-05-08T08:53:58.602098Z\", \"end_time\": \"2021-05-08T08:54:43.264282Z\", \"created_time\": \"2021-05-08T08:53:46.032558Z\", \"created_time_dt\": \"2021-05-08T08:53:46.032558Z\", \"duration\": \"0:00:57\", \"iteration\": \"30\", \"goal\": \"normalized_mean_absolute_error_min\", \"run_name\": \"PCA, XGBoostRegressor\", \"run_properties\": \"copy=True, iterated_power='auto', n_components=0.5047368421052632,\\n    random_state=None, svd_solver='auto', tol=0.0, whiten=False\", \"primary_metric\": 0.07871944, \"best_metric\": 0.05440943}, {\"run_id\": \"AutoML_a25ed3fa-6576-4191-99be-e4b4db848807_31\", \"run_number\": 90, \"metric\": null, \"status\": \"Completed\", \"run_type\": \"azureml.scriptrun\", \"training_percent\": \"100\", \"start_time\": \"2021-05-08T08:54:17.737457Z\", \"end_time\": \"2021-05-08T08:55:36.564798Z\", \"created_time\": \"2021-05-08T08:54:02.458234Z\", \"created_time_dt\": \"2021-05-08T08:54:02.458234Z\", \"duration\": \"0:01:34\", \"iteration\": \"31\", \"goal\": \"normalized_mean_absolute_error_min\", \"run_name\": \"MinMaxScaler, GradientBoosting\", \"run_properties\": \"copy=True, feature_range=(0, 1\", \"primary_metric\": 0.05625046, \"best_metric\": 0.05440943}, {\"run_id\": \"AutoML_a25ed3fa-6576-4191-99be-e4b4db848807_32\", \"run_number\": 91, \"metric\": null, \"status\": \"Canceled\", \"run_type\": \"azureml.scriptrun\", \"training_percent\": \"100\", \"start_time\": \"2021-05-08T08:54:18.456479Z\", \"end_time\": \"2021-05-08T08:55:52.085136Z\", \"created_time\": \"2021-05-08T08:54:05.706239Z\", \"created_time_dt\": \"2021-05-08T08:54:05.706239Z\", \"duration\": \"0:01:46\", \"iteration\": \"32\", \"goal\": null, \"run_name\": \"MaxAbsScaler, RandomForest\", \"run_properties\": null}, {\"run_id\": \"AutoML_a25ed3fa-6576-4191-99be-e4b4db848807_33\", \"run_number\": 92, \"metric\": null, \"status\": \"Completed\", \"run_type\": \"azureml.scriptrun\", \"training_percent\": \"100\", \"start_time\": \"2021-05-08T08:54:59.033086Z\", \"end_time\": \"2021-05-08T08:55:47.943586Z\", \"created_time\": \"2021-05-08T08:54:45.306842Z\", \"created_time_dt\": \"2021-05-08T08:54:45.306842Z\", \"duration\": \"0:01:02\", \"iteration\": \"33\", \"goal\": \"normalized_mean_absolute_error_min\", \"run_name\": \"StandardScalerWrapper, RandomForest\", \"run_properties\": \"<azureml.automl.runtime.shared.model_wrappers.StandardScalerWrapper object at 0x7ff497ba3c18\", \"primary_metric\": 0.06013331, \"best_metric\": 0.05440943}, {\"run_id\": \"AutoML_a25ed3fa-6576-4191-99be-e4b4db848807_34\", \"run_number\": 93, \"metric\": null, \"status\": \"Canceled\", \"run_type\": \"azureml.scriptrun\", \"training_percent\": \"100\", \"start_time\": \"2021-05-08T08:55:17.281506Z\", \"end_time\": \"2021-05-08T08:55:52.196619Z\", \"created_time\": \"2021-05-08T08:55:04.737331Z\", \"created_time_dt\": \"2021-05-08T08:55:04.737331Z\", \"duration\": \"0:00:47\", \"iteration\": \"34\", \"goal\": \"normalized_mean_absolute_error_min\", \"run_name\": \"RobustScaler, ExtremeRandomTrees\", \"run_properties\": \"copy=True, quantile_range=[25, 75], with_centering=False,\\n             with_scaling=False\", \"primary_metric\": 0.06106398, \"best_metric\": 0.05440943}, {\"run_id\": \"AutoML_a25ed3fa-6576-4191-99be-e4b4db848807_35\", \"run_number\": 94, \"metric\": null, \"status\": \"Canceled\", \"run_type\": \"azureml.scriptrun\", \"training_percent\": \"100\", \"start_time\": \"2021-05-08T08:55:40.02838Z\", \"end_time\": \"2021-05-08T08:55:49.47155Z\", \"created_time\": \"2021-05-08T08:55:40.02838Z\", \"created_time_dt\": \"2021-05-08T08:55:40.02838Z\", \"duration\": \"0:00:09\", \"iteration\": \"35\", \"goal\": null, \"run_name\": \"Canceled\", \"run_properties\": null}, {\"run_id\": \"AutoML_a25ed3fa-6576-4191-99be-e4b4db848807_37\", \"run_number\": 95, \"metric\": null, \"status\": \"Completed\", \"run_type\": \"azureml.scriptrun\", \"training_percent\": \"100\", \"start_time\": \"2021-05-08T08:55:59.491252Z\", \"end_time\": \"2021-05-08T08:56:57.067293Z\", \"created_time\": \"2021-05-08T08:55:53.270629Z\", \"created_time_dt\": \"2021-05-08T08:55:53.270629Z\", \"duration\": \"0:01:03\", \"iteration\": \"37\", \"goal\": \"normalized_mean_absolute_error_min\", \"run_name\": \"StackEnsemble\", \"run_properties\": \"base_learners=[('1',\\n                                       Pipeline(memory=None,\\n                                                steps=[('maxabsscaler',\\n                                                        MaxAbsScaler(copy=True\", \"primary_metric\": 0.05404718, \"best_metric\": 0.05373108}, {\"run_id\": \"AutoML_a25ed3fa-6576-4191-99be-e4b4db848807_36\", \"run_number\": 96, \"metric\": null, \"status\": \"Completed\", \"run_type\": \"azureml.scriptrun\", \"training_percent\": \"100\", \"start_time\": \"2021-05-08T08:55:59.494628Z\", \"end_time\": \"2021-05-08T08:56:57.951676Z\", \"created_time\": \"2021-05-08T08:55:53.44791Z\", \"created_time_dt\": \"2021-05-08T08:55:53.44791Z\", \"duration\": \"0:01:04\", \"iteration\": \"36\", \"goal\": \"normalized_mean_absolute_error_min\", \"run_name\": \"VotingEnsemble\", \"run_properties\": \"estimators=[('1',\\n                                          Pipeline(memory=None,\\n                                                   steps=[('maxabsscaler',\\n                                                           MaxAbsScaler(copy=True\", \"primary_metric\": 0.05373108, \"best_metric\": 0.05373108}], \"children_metrics\": {\"categories\": [0], \"series\": {\"median_absolute_error\": [{\"categories\": [\"0\", \"1\", \"2\", \"3\", \"4\", \"5\", \"6\", \"7\", \"8\", \"9\", \"10\", \"11\", \"12\", \"13\", \"14\", \"15\", \"16\", \"17\", \"18\", \"19\", \"20\", \"21\", \"22\", \"23\", \"24\", \"25\", \"26\", \"27\", \"28\", \"29\", \"30\", \"31\", \"33\", \"34\", \"36\", \"37\"], \"mode\": \"markers\", \"name\": \"median_absolute_error\", \"stepped\": false, \"type\": \"scatter\", \"data\": [1.1032356998421198, 1.0930565198262532, 1.1637817454908912, 1.1752039762142992, 1.1654338483703481, 1.1594446417249367, 1.1586884571898448, 1.1289766407119022, 1.1625081098578738, 1.160130718954248, 1.1373281724199493, 1.1653299916457807, 1.178772666423269, 1.1611764583680355, 1.158912201871759, 1.1186882300089842, 1.178772666423269, 1.1653299916457807, 1.1794841125383535, 1.171449434100036, 1.143089826510682, 1.1573086627417997, 1.1761335863162123, 1.1506498734759607, 1.1008059924952347, 1.2283569971720378, 1.1289766407119022, 1.1000969624054486, 1.1844573522129827, 1.1597576184791494, 1.4307166735331218, 1.1409258693827085, 1.2887642876661694, 1.283125984135179, 1.0848811820173492, 1.09286933906404]}, {\"categories\": [\"0\", \"1\", \"2\", \"3\", \"4\", \"5\", \"6\", \"7\", \"8\", \"9\", \"10\", \"11\", \"12\", \"13\", \"14\", \"15\", \"16\", \"17\", \"18\", \"19\", \"20\", \"21\", \"22\", \"23\", \"24\", \"25\", \"26\", \"27\", \"28\", \"29\", \"30\", \"31\", \"33\", \"34\", \"36\", \"37\"], \"mode\": \"lines\", \"name\": \"median_absolute_error_min\", \"stepped\": true, \"type\": \"scatter\", \"data\": [1.1032356998421198, 1.0930565198262532, 1.0930565198262532, 1.0930565198262532, 1.0930565198262532, 1.0930565198262532, 1.0930565198262532, 1.0930565198262532, 1.0930565198262532, 1.0930565198262532, 1.0930565198262532, 1.0930565198262532, 1.0930565198262532, 1.0930565198262532, 1.0930565198262532, 1.0930565198262532, 1.0930565198262532, 1.0930565198262532, 1.0930565198262532, 1.0930565198262532, 1.0930565198262532, 1.0930565198262532, 1.0930565198262532, 1.0930565198262532, 1.0930565198262532, 1.0930565198262532, 1.0930565198262532, 1.0930565198262532, 1.0930565198262532, 1.0930565198262532, 1.0930565198262532, 1.0930565198262532, 1.0930565198262532, 1.0930565198262532, 1.0848811820173492, 1.0848811820173492]}], \"normalized_median_absolute_error\": [{\"categories\": [\"0\", \"1\", \"2\", \"3\", \"4\", \"5\", \"6\", \"7\", \"8\", \"9\", \"10\", \"11\", \"12\", \"13\", \"14\", \"15\", \"16\", \"17\", \"18\", \"19\", \"20\", \"21\", \"22\", \"23\", \"24\", \"25\", \"26\", \"27\", \"28\", \"29\", \"30\", \"31\", \"33\", \"34\", \"36\", \"37\"], \"mode\": \"markers\", \"name\": \"normalized_median_absolute_error\", \"stepped\": false, \"type\": \"scatter\", \"data\": [0.03940127499436142, 0.03903773285093762, 0.041563633767531825, 0.04197157057908211, 0.041622637441798144, 0.04140873720446202, 0.04138173061392303, 0.04032059431113936, 0.041518146780638344, 0.04143323996265172, 0.040618863300712474, 0.0416189282730636, 0.04209902380083103, 0.04147058779885842, 0.041389721495419966, 0.03995315107174944, 0.04209902380083103, 0.0416189282730636, 0.042124432590655486, 0.04183747978928701, 0.04082463666109578, 0.04133245224077856, 0.04200477093986473, 0.04109463833842717, 0.039314499731972666, 0.0438698927561442, 0.04032059431113936, 0.03928917722876602, 0.042302048293320814, 0.0414199149456839, 0.05109702405475435, 0.04074735247795388, 0.04602729598807748, 0.04582592800482782, 0.038745756500619614, 0.03903104782371571]}, {\"categories\": [\"0\", \"1\", \"2\", \"3\", \"4\", \"5\", \"6\", \"7\", \"8\", \"9\", \"10\", \"11\", \"12\", \"13\", \"14\", \"15\", \"16\", \"17\", \"18\", \"19\", \"20\", \"21\", \"22\", \"23\", \"24\", \"25\", \"26\", \"27\", \"28\", \"29\", \"30\", \"31\", \"33\", \"34\", \"36\", \"37\"], \"mode\": \"lines\", \"name\": \"normalized_median_absolute_error_min\", \"stepped\": true, \"type\": \"scatter\", \"data\": [0.03940127499436142, 0.03903773285093762, 0.03903773285093762, 0.03903773285093762, 0.03903773285093762, 0.03903773285093762, 0.03903773285093762, 0.03903773285093762, 0.03903773285093762, 0.03903773285093762, 0.03903773285093762, 0.03903773285093762, 0.03903773285093762, 0.03903773285093762, 0.03903773285093762, 0.03903773285093762, 0.03903773285093762, 0.03903773285093762, 0.03903773285093762, 0.03903773285093762, 0.03903773285093762, 0.03903773285093762, 0.03903773285093762, 0.03903773285093762, 0.03903773285093762, 0.03903773285093762, 0.03903773285093762, 0.03903773285093762, 0.03903773285093762, 0.03903773285093762, 0.03903773285093762, 0.03903773285093762, 0.03903773285093762, 0.03903773285093762, 0.038745756500619614, 0.038745756500619614]}], \"normalized_root_mean_squared_error\": [{\"categories\": [\"0\", \"1\", \"2\", \"3\", \"4\", \"5\", \"6\", \"7\", \"8\", \"9\", \"10\", \"11\", \"12\", \"13\", \"14\", \"15\", \"16\", \"17\", \"18\", \"19\", \"20\", \"21\", \"22\", \"23\", \"24\", \"25\", \"26\", \"27\", \"28\", \"29\", \"30\", \"31\", \"33\", \"34\", \"36\", \"37\"], \"mode\": \"markers\", \"name\": \"normalized_root_mean_squared_error\", \"stepped\": false, \"type\": \"scatter\", \"data\": [0.07812124168312155, 0.07734103522072867, 0.0812592740943237, 0.08330420045717989, 0.07907983322222185, 0.0790708471894089, 0.08175897360563002, 0.08146438845344688, 0.07892363109090371, 0.08148721698590787, 0.08164523181482762, 0.08145201810394799, 0.08194310872520148, 0.07907804152887418, 0.082853661324638, 0.08167232426572885, 0.08194629814932777, 0.08148387458524413, 0.08355517206705905, 0.0817193711605881, 0.08158388343756806, 0.08272092549279203, 0.07962539845415118, 0.08224908557469071, 0.07872965565858663, 0.09992412198781347, 0.0814671755115403, 0.07834790766303783, 0.08042100688448382, 0.0790724438185011, 0.11393272447789743, 0.07929473729420757, 0.08379572652199326, 0.08603873433664433, 0.07621497171073856, 0.07608301111229367]}, {\"categories\": [\"0\", \"1\", \"2\", \"3\", \"4\", \"5\", \"6\", \"7\", \"8\", \"9\", \"10\", \"11\", \"12\", \"13\", \"14\", \"15\", \"16\", \"17\", \"18\", \"19\", \"20\", \"21\", \"22\", \"23\", \"24\", \"25\", \"26\", \"27\", \"28\", \"29\", \"30\", \"31\", \"33\", \"34\", \"36\", \"37\"], \"mode\": \"lines\", \"name\": \"normalized_root_mean_squared_error_min\", \"stepped\": true, \"type\": \"scatter\", \"data\": [0.07812124168312155, 0.07734103522072867, 0.07734103522072867, 0.07734103522072867, 0.07734103522072867, 0.07734103522072867, 0.07734103522072867, 0.07734103522072867, 0.07734103522072867, 0.07734103522072867, 0.07734103522072867, 0.07734103522072867, 0.07734103522072867, 0.07734103522072867, 0.07734103522072867, 0.07734103522072867, 0.07734103522072867, 0.07734103522072867, 0.07734103522072867, 0.07734103522072867, 0.07734103522072867, 0.07734103522072867, 0.07734103522072867, 0.07734103522072867, 0.07734103522072867, 0.07734103522072867, 0.07734103522072867, 0.07734103522072867, 0.07734103522072867, 0.07734103522072867, 0.07734103522072867, 0.07734103522072867, 0.07734103522072867, 0.07734103522072867, 0.07621497171073856, 0.07608301111229367]}], \"normalized_root_mean_squared_log_error\": [{\"categories\": [\"0\", \"1\", \"2\", \"3\", \"4\", \"5\", \"6\", \"7\", \"8\", \"9\", \"10\", \"11\", \"12\", \"13\", \"14\", \"15\", \"16\", \"17\", \"18\", \"19\", \"20\", \"21\", \"22\", \"23\", \"24\", \"25\", \"26\", \"27\", \"28\", \"29\", \"30\", \"31\", \"33\", \"34\", \"36\", \"37\"], \"mode\": \"markers\", \"name\": \"normalized_root_mean_squared_log_error\", \"stepped\": false, \"type\": \"scatter\", \"data\": [0.06518973919090895, 0.0646314341666294, 0.06875051168933478, 0.0699712052650728, 0.06769166854675197, 0.06798663777442823, 0.06854501827400879, 0.06837958912647758, 0.06793415589630605, 0.06840389057387261, 0.068560437213936, 0.06822107349893315, 0.06866157018740343, 0.06785128778047435, 0.06933945325791675, 0.06870829994354673, 0.06866485510887717, 0.06824667649474252, 0.06996561882841029, 0.06855854735151544, 0.0684712328908041, 0.06970535030593869, 0.06786917064617215, 0.06937472291286041, 0.06576895657000548, 0.08396978098257839, 0.06838081411488638, 0.06545153569309192, 0.06736186189589546, 0.0679425075978312, 0.09331835873526466, 0.06648918615430112, 0.07033711973564351, 0.07159068299040565, 0.0636591945375301, 0.06380315670094344]}, {\"categories\": [\"0\", \"1\", \"2\", \"3\", \"4\", \"5\", \"6\", \"7\", \"8\", \"9\", \"10\", \"11\", \"12\", \"13\", \"14\", \"15\", \"16\", \"17\", \"18\", \"19\", \"20\", \"21\", \"22\", \"23\", \"24\", \"25\", \"26\", \"27\", \"28\", \"29\", \"30\", \"31\", \"33\", \"34\", \"36\", \"37\"], \"mode\": \"lines\", \"name\": \"normalized_root_mean_squared_log_error_min\", \"stepped\": true, \"type\": \"scatter\", \"data\": [0.06518973919090895, 0.0646314341666294, 0.0646314341666294, 0.0646314341666294, 0.0646314341666294, 0.0646314341666294, 0.0646314341666294, 0.0646314341666294, 0.0646314341666294, 0.0646314341666294, 0.0646314341666294, 0.0646314341666294, 0.0646314341666294, 0.0646314341666294, 0.0646314341666294, 0.0646314341666294, 0.0646314341666294, 0.0646314341666294, 0.0646314341666294, 0.0646314341666294, 0.0646314341666294, 0.0646314341666294, 0.0646314341666294, 0.0646314341666294, 0.0646314341666294, 0.0646314341666294, 0.0646314341666294, 0.0646314341666294, 0.0646314341666294, 0.0646314341666294, 0.0646314341666294, 0.0646314341666294, 0.0646314341666294, 0.0646314341666294, 0.0636591945375301, 0.0636591945375301]}], \"r2_score\": [{\"categories\": [\"0\", \"1\", \"2\", \"3\", \"4\", \"5\", \"6\", \"7\", \"8\", \"9\", \"10\", \"11\", \"12\", \"13\", \"14\", \"15\", \"16\", \"17\", \"18\", \"19\", \"20\", \"21\", \"22\", \"23\", \"24\", \"25\", \"26\", \"27\", \"28\", \"29\", \"30\", \"31\", \"33\", \"34\", \"36\", \"37\"], \"mode\": \"markers\", \"name\": \"r2_score\", \"stepped\": false, \"type\": \"scatter\", \"data\": [0.5390627701315087, 0.5481955401966655, 0.501352913213884, 0.4760490890061913, 0.5278128566990813, 0.52794357529462, 0.4953197295083584, 0.4988731954711129, 0.5296202557360901, 0.4985205273942428, 0.4966024445218616, 0.49895225494491324, 0.49296477314477133, 0.5278634212626602, 0.48160720933576223, 0.4963890305476844, 0.4929246725872096, 0.4985436903313154, 0.47264168482405394, 0.4957512038368325, 0.49734107037641095, 0.4830696665681015, 0.5212687347468907, 0.489191700492728, 0.5318730080295148, 0.24645236141190976, 0.49883091642500094, 0.5364539352183314, 0.5117843305494495, 0.5279266333324003, 0.019274816523201916, 0.5252687091121094, 0.46985182176266244, 0.44125282614099265, 0.5613477289821279, 0.5628010629885306]}, {\"categories\": [\"0\", \"1\", \"2\", \"3\", \"4\", \"5\", \"6\", \"7\", \"8\", \"9\", \"10\", \"11\", \"12\", \"13\", \"14\", \"15\", \"16\", \"17\", \"18\", \"19\", \"20\", \"21\", \"22\", \"23\", \"24\", \"25\", \"26\", \"27\", \"28\", \"29\", \"30\", \"31\", \"33\", \"34\", \"36\", \"37\"], \"mode\": \"lines\", \"name\": \"r2_score_max\", \"stepped\": true, \"type\": \"scatter\", \"data\": [0.5390627701315087, 0.5481955401966655, 0.5481955401966655, 0.5481955401966655, 0.5481955401966655, 0.5481955401966655, 0.5481955401966655, 0.5481955401966655, 0.5481955401966655, 0.5481955401966655, 0.5481955401966655, 0.5481955401966655, 0.5481955401966655, 0.5481955401966655, 0.5481955401966655, 0.5481955401966655, 0.5481955401966655, 0.5481955401966655, 0.5481955401966655, 0.5481955401966655, 0.5481955401966655, 0.5481955401966655, 0.5481955401966655, 0.5481955401966655, 0.5481955401966655, 0.5481955401966655, 0.5481955401966655, 0.5481955401966655, 0.5481955401966655, 0.5481955401966655, 0.5481955401966655, 0.5481955401966655, 0.5481955401966655, 0.5481955401966655, 0.5613477289821279, 0.5628010629885306]}], \"explained_variance\": [{\"categories\": [\"0\", \"1\", \"2\", \"3\", \"4\", \"5\", \"6\", \"7\", \"8\", \"9\", \"10\", \"11\", \"12\", \"13\", \"14\", \"15\", \"16\", \"17\", \"18\", \"19\", \"20\", \"21\", \"22\", \"23\", \"24\", \"25\", \"26\", \"27\", \"28\", \"29\", \"30\", \"31\", \"33\", \"34\", \"36\", \"37\"], \"mode\": \"markers\", \"name\": \"explained_variance\", \"stepped\": false, \"type\": \"scatter\", \"data\": [0.5391136851344558, 0.5483469539083916, 0.5015211735266324, 0.4763789836774765, 0.5278884516719918, 0.5280113875163487, 0.49554967983681447, 0.49891016608381555, 0.5296922347298367, 0.49871641731026184, 0.49674258912540575, 0.49904390852675745, 0.49312274937425554, 0.5279334239716973, 0.4818640714177321, 0.4964236179337193, 0.4930853809873997, 0.4986367459735132, 0.47268914503605547, 0.49586102967994333, 0.49744495627466473, 0.4831052037933958, 0.5213720120149566, 0.48929762090874335, 0.5319763749282885, 0.2924776133542741, 0.4988673061447532, 0.536559644445846, 0.5119512334749788, 0.5279951048528996, 0.019784490460771464, 0.5254571829581757, 0.47021659337919824, 0.4414097817190788, 0.5615983618153747, 0.5629588620796037]}, {\"categories\": [\"0\", \"1\", \"2\", \"3\", \"4\", \"5\", \"6\", \"7\", \"8\", \"9\", \"10\", \"11\", \"12\", \"13\", \"14\", \"15\", \"16\", \"17\", \"18\", \"19\", \"20\", \"21\", \"22\", \"23\", \"24\", \"25\", \"26\", \"27\", \"28\", \"29\", \"30\", \"31\", \"33\", \"34\", \"36\", \"37\"], \"mode\": \"lines\", \"name\": \"explained_variance_max\", \"stepped\": true, \"type\": \"scatter\", \"data\": [0.5391136851344558, 0.5483469539083916, 0.5483469539083916, 0.5483469539083916, 0.5483469539083916, 0.5483469539083916, 0.5483469539083916, 0.5483469539083916, 0.5483469539083916, 0.5483469539083916, 0.5483469539083916, 0.5483469539083916, 0.5483469539083916, 0.5483469539083916, 0.5483469539083916, 0.5483469539083916, 0.5483469539083916, 0.5483469539083916, 0.5483469539083916, 0.5483469539083916, 0.5483469539083916, 0.5483469539083916, 0.5483469539083916, 0.5483469539083916, 0.5483469539083916, 0.5483469539083916, 0.5483469539083916, 0.5483469539083916, 0.5483469539083916, 0.5483469539083916, 0.5483469539083916, 0.5483469539083916, 0.5483469539083916, 0.5483469539083916, 0.5615983618153747, 0.5629588620796037]}], \"root_mean_squared_log_error\": [{\"categories\": [\"0\", \"1\", \"2\", \"3\", \"4\", \"5\", \"6\", \"7\", \"8\", \"9\", \"10\", \"11\", \"12\", \"13\", \"14\", \"15\", \"16\", \"17\", \"18\", \"19\", \"20\", \"21\", \"22\", \"23\", \"24\", \"25\", \"26\", \"27\", \"28\", \"29\", \"30\", \"31\", \"33\", \"34\", \"36\", \"37\"], \"mode\": \"markers\", \"name\": \"root_mean_squared_log_error\", \"stepped\": false, \"type\": \"scatter\", \"data\": [0.1765370863257416, 0.17502516829246503, 0.18617983700618299, 0.18948553648944444, 0.18331243662097582, 0.1841112280973035, 0.18562335052148418, 0.18517536008524413, 0.1839691045367005, 0.18524116962474926, 0.18566510578485484, 0.18474609180819457, 0.18593897895399136, 0.1837446935189575, 0.18777472033941878, 0.18606552547951263, 0.18594787468624896, 0.18481542600614495, 0.1894704081385171, 0.1856599879425468, 0.18542353599965833, 0.18876558791389728, 0.18379312121700672, 0.18787023233558173, 0.17810563606568586, 0.2273943822763799, 0.1851786774153509, 0.1772460443961261, 0.182419303653799, 0.1839917213636952, 0.25271080013956165, 0.18005605393627744, 0.19047645124505963, 0.1938711634692126, 0.1723922945693631, 0.1727821513349457]}, {\"categories\": [\"0\", \"1\", \"2\", \"3\", \"4\", \"5\", \"6\", \"7\", \"8\", \"9\", \"10\", \"11\", \"12\", \"13\", \"14\", \"15\", \"16\", \"17\", \"18\", \"19\", \"20\", \"21\", \"22\", \"23\", \"24\", \"25\", \"26\", \"27\", \"28\", \"29\", \"30\", \"31\", \"33\", \"34\", \"36\", \"37\"], \"mode\": \"lines\", \"name\": \"root_mean_squared_log_error_min\", \"stepped\": true, \"type\": \"scatter\", \"data\": [0.1765370863257416, 0.17502516829246503, 0.17502516829246503, 0.17502516829246503, 0.17502516829246503, 0.17502516829246503, 0.17502516829246503, 0.17502516829246503, 0.17502516829246503, 0.17502516829246503, 0.17502516829246503, 0.17502516829246503, 0.17502516829246503, 0.17502516829246503, 0.17502516829246503, 0.17502516829246503, 0.17502516829246503, 0.17502516829246503, 0.17502516829246503, 0.17502516829246503, 0.17502516829246503, 0.17502516829246503, 0.17502516829246503, 0.17502516829246503, 0.17502516829246503, 0.17502516829246503, 0.17502516829246503, 0.17502516829246503, 0.17502516829246503, 0.17502516829246503, 0.17502516829246503, 0.17502516829246503, 0.17502516829246503, 0.17502516829246503, 0.1723922945693631, 0.1723922945693631]}], \"root_mean_squared_error\": [{\"categories\": [\"0\", \"1\", \"2\", \"3\", \"4\", \"5\", \"6\", \"7\", \"8\", \"9\", \"10\", \"11\", \"12\", \"13\", \"14\", \"15\", \"16\", \"17\", \"18\", \"19\", \"20\", \"21\", \"22\", \"23\", \"24\", \"25\", \"26\", \"27\", \"28\", \"29\", \"30\", \"31\", \"33\", \"34\", \"36\", \"37\"], \"mode\": \"markers\", \"name\": \"root_mean_squared_error\", \"stepped\": false, \"type\": \"scatter\", \"data\": [2.187394767127403, 2.165548986180403, 2.275259674641063, 2.3325176128010368, 2.214235330222212, 2.2139837213034492, 2.2892512609576405, 2.2810028766965122, 2.209861670545304, 2.2816420756054203, 2.2860664908151733, 2.280656506910544, 2.2944070443056415, 2.214185162808477, 2.319902517089864, 2.2868250794404075, 2.2944963481811778, 2.2815484883868358, 2.3395448178776537, 2.2881423924964666, 2.2843487362519057, 2.316185913798177, 2.2295111567162333, 2.30297439609134, 2.2044303584404257, 2.7978754156587775, 2.2810809143231285, 2.1937414145650593, 2.251788192765547, 2.214028426918031, 3.1901162853811282, 2.220252644237812, 2.346280342615811, 2.409084561426041, 2.1340192079006797, 2.1303243111442227]}, {\"categories\": [\"0\", \"1\", \"2\", \"3\", \"4\", \"5\", \"6\", \"7\", \"8\", \"9\", \"10\", \"11\", \"12\", \"13\", \"14\", \"15\", \"16\", \"17\", \"18\", \"19\", \"20\", \"21\", \"22\", \"23\", \"24\", \"25\", \"26\", \"27\", \"28\", \"29\", \"30\", \"31\", \"33\", \"34\", \"36\", \"37\"], \"mode\": \"lines\", \"name\": \"root_mean_squared_error_min\", \"stepped\": true, \"type\": \"scatter\", \"data\": [2.187394767127403, 2.165548986180403, 2.165548986180403, 2.165548986180403, 2.165548986180403, 2.165548986180403, 2.165548986180403, 2.165548986180403, 2.165548986180403, 2.165548986180403, 2.165548986180403, 2.165548986180403, 2.165548986180403, 2.165548986180403, 2.165548986180403, 2.165548986180403, 2.165548986180403, 2.165548986180403, 2.165548986180403, 2.165548986180403, 2.165548986180403, 2.165548986180403, 2.165548986180403, 2.165548986180403, 2.165548986180403, 2.165548986180403, 2.165548986180403, 2.165548986180403, 2.165548986180403, 2.165548986180403, 2.165548986180403, 2.165548986180403, 2.165548986180403, 2.165548986180403, 2.1340192079006797, 2.1303243111442227]}], \"normalized_mean_absolute_error\": [{\"categories\": [\"0\", \"1\", \"2\", \"3\", \"4\", \"5\", \"6\", \"7\", \"8\", \"9\", \"10\", \"11\", \"12\", \"13\", \"14\", \"15\", \"16\", \"17\", \"18\", \"19\", \"20\", \"21\", \"22\", \"23\", \"24\", \"25\", \"26\", \"27\", \"28\", \"29\", \"30\", \"31\", \"33\", \"34\", \"36\", \"37\"], \"mode\": \"markers\", \"name\": \"normalized_mean_absolute_error\", \"stepped\": false, \"type\": \"scatter\", \"data\": [0.05542722516980189, 0.05440943427373902, 0.05808742269080813, 0.05932305303746339, 0.05661873668064374, 0.056568425481439456, 0.05799158666369963, 0.05769576416265105, 0.05658615875854395, 0.05773169684502553, 0.057845509835680674, 0.05773096799265789, 0.057886259400479416, 0.0565742656672134, 0.05837335606666618, 0.0577396368270193, 0.05788566182452159, 0.05776166838694235, 0.0592015397668502, 0.0578626255438979, 0.05769617756634693, 0.058869183803209525, 0.05699733273421408, 0.05815813896573604, 0.055586725847785005, 0.0675906537397883, 0.057687509640058365, 0.0551736964647301, 0.05693523164172512, 0.05656895669897766, 0.07871943719488023, 0.056250461232741, 0.06013331454126305, 0.06106398135421048, 0.05373108259859089, 0.05404717572647921]}, {\"categories\": [\"0\", \"1\", \"2\", \"3\", \"4\", \"5\", \"6\", \"7\", \"8\", \"9\", \"10\", \"11\", \"12\", \"13\", \"14\", \"15\", \"16\", \"17\", \"18\", \"19\", \"20\", \"21\", \"22\", \"23\", \"24\", \"25\", \"26\", \"27\", \"28\", \"29\", \"30\", \"31\", \"33\", \"34\", \"36\", \"37\"], \"mode\": \"lines\", \"name\": \"normalized_mean_absolute_error_min\", \"stepped\": true, \"type\": \"scatter\", \"data\": [0.05542722516980189, 0.05440943427373902, 0.05440943427373902, 0.05440943427373902, 0.05440943427373902, 0.05440943427373902, 0.05440943427373902, 0.05440943427373902, 0.05440943427373902, 0.05440943427373902, 0.05440943427373902, 0.05440943427373902, 0.05440943427373902, 0.05440943427373902, 0.05440943427373902, 0.05440943427373902, 0.05440943427373902, 0.05440943427373902, 0.05440943427373902, 0.05440943427373902, 0.05440943427373902, 0.05440943427373902, 0.05440943427373902, 0.05440943427373902, 0.05440943427373902, 0.05440943427373902, 0.05440943427373902, 0.05440943427373902, 0.05440943427373902, 0.05440943427373902, 0.05440943427373902, 0.05440943427373902, 0.05440943427373902, 0.05440943427373902, 0.05373108259859089, 0.05373108259859089]}], \"mean_absolute_percentage_error\": [{\"categories\": [\"0\", \"1\", \"2\", \"3\", \"4\", \"5\", \"6\", \"7\", \"8\", \"9\", \"10\", \"11\", \"12\", \"13\", \"14\", \"15\", \"16\", \"17\", \"18\", \"19\", \"20\", \"21\", \"22\", \"23\", \"24\", \"25\", \"26\", \"27\", \"28\", \"29\", \"30\", \"31\", \"33\", \"34\", \"36\", \"37\"], \"mode\": \"markers\", \"name\": \"mean_absolute_percentage_error\", \"stepped\": false, \"type\": \"scatter\", \"data\": [15.39113850560939, 15.169421833759843, 16.236805988231723, 16.532338619951673, 15.969582819136157, 15.954200049594775, 16.109898988553713, 16.031439087139542, 15.985269743624116, 16.049690229923197, 16.14029925514827, 16.03602224863394, 16.1214367815496, 15.954757929075443, 16.234883179208243, 16.058095123163614, 16.120985529022974, 16.045041369248352, 16.441473318815472, 16.114208955913, 16.02961869540501, 16.376914386973922, 16.036717088531507, 16.19373514875933, 15.480865083466197, 18.162431161473645, 16.02968374848555, 15.342757707664312, 16.058301127071477, 15.953549759227423, 21.76791829589635, 15.75298872680603, 16.867166094625805, 17.10609058529614, 14.95653076456336, 15.069118199609767]}, {\"categories\": [\"0\", \"1\", \"2\", \"3\", \"4\", \"5\", \"6\", \"7\", \"8\", \"9\", \"10\", \"11\", \"12\", \"13\", \"14\", \"15\", \"16\", \"17\", \"18\", \"19\", \"20\", \"21\", \"22\", \"23\", \"24\", \"25\", \"26\", \"27\", \"28\", \"29\", \"30\", \"31\", \"33\", \"34\", \"36\", \"37\"], \"mode\": \"lines\", \"name\": \"mean_absolute_percentage_error_min\", \"stepped\": true, \"type\": \"scatter\", \"data\": [15.39113850560939, 15.169421833759843, 15.169421833759843, 15.169421833759843, 15.169421833759843, 15.169421833759843, 15.169421833759843, 15.169421833759843, 15.169421833759843, 15.169421833759843, 15.169421833759843, 15.169421833759843, 15.169421833759843, 15.169421833759843, 15.169421833759843, 15.169421833759843, 15.169421833759843, 15.169421833759843, 15.169421833759843, 15.169421833759843, 15.169421833759843, 15.169421833759843, 15.169421833759843, 15.169421833759843, 15.169421833759843, 15.169421833759843, 15.169421833759843, 15.169421833759843, 15.169421833759843, 15.169421833759843, 15.169421833759843, 15.169421833759843, 15.169421833759843, 15.169421833759843, 14.95653076456336, 14.95653076456336]}], \"mean_absolute_error\": [{\"categories\": [\"0\", \"1\", \"2\", \"3\", \"4\", \"5\", \"6\", \"7\", \"8\", \"9\", \"10\", \"11\", \"12\", \"13\", \"14\", \"15\", \"16\", \"17\", \"18\", \"19\", \"20\", \"21\", \"22\", \"23\", \"24\", \"25\", \"26\", \"27\", \"28\", \"29\", \"30\", \"31\", \"33\", \"34\", \"36\", \"37\"], \"mode\": \"markers\", \"name\": \"mean_absolute_error\", \"stepped\": false, \"type\": \"scatter\", \"data\": [1.551962304754453, 1.5234641596646925, 1.6264478353426277, 1.6610454850489749, 1.5853246270580248, 1.5839159134803047, 1.6237644265835895, 1.6154813965542292, 1.5844124452392305, 1.616487511660715, 1.6196742753990587, 1.6164671037944205, 1.6208152632134236, 1.5840794386819752, 1.6344539698666534, 1.6167098311565404, 1.6207985310866044, 1.6173267148343857, 1.6576431134718055, 1.620153515229141, 1.615492971857714, 1.6483371464898668, 1.5959253165579943, 1.628427891040609, 1.5564283237379801, 1.8925383047140725, 1.6152502699216342, 1.5448635010124427, 1.5941864859683035, 1.5839307875713746, 2.204144241456646, 1.575012914516748, 1.6837328071553654, 1.709791477917893, 1.504470312760545, 1.5133209203414175]}, {\"categories\": [\"0\", \"1\", \"2\", \"3\", \"4\", \"5\", \"6\", \"7\", \"8\", \"9\", \"10\", \"11\", \"12\", \"13\", \"14\", \"15\", \"16\", \"17\", \"18\", \"19\", \"20\", \"21\", \"22\", \"23\", \"24\", \"25\", \"26\", \"27\", \"28\", \"29\", \"30\", \"31\", \"33\", \"34\", \"36\", \"37\"], \"mode\": \"lines\", \"name\": \"mean_absolute_error_min\", \"stepped\": true, \"type\": \"scatter\", \"data\": [1.551962304754453, 1.5234641596646925, 1.5234641596646925, 1.5234641596646925, 1.5234641596646925, 1.5234641596646925, 1.5234641596646925, 1.5234641596646925, 1.5234641596646925, 1.5234641596646925, 1.5234641596646925, 1.5234641596646925, 1.5234641596646925, 1.5234641596646925, 1.5234641596646925, 1.5234641596646925, 1.5234641596646925, 1.5234641596646925, 1.5234641596646925, 1.5234641596646925, 1.5234641596646925, 1.5234641596646925, 1.5234641596646925, 1.5234641596646925, 1.5234641596646925, 1.5234641596646925, 1.5234641596646925, 1.5234641596646925, 1.5234641596646925, 1.5234641596646925, 1.5234641596646925, 1.5234641596646925, 1.5234641596646925, 1.5234641596646925, 1.504470312760545, 1.504470312760545]}], \"spearman_correlation\": [{\"categories\": [\"0\", \"1\", \"2\", \"3\", \"4\", \"5\", \"6\", \"7\", \"8\", \"9\", \"10\", \"11\", \"12\", \"13\", \"14\", \"15\", \"16\", \"17\", \"18\", \"19\", \"20\", \"21\", \"22\", \"23\", \"24\", \"25\", \"26\", \"27\", \"28\", \"29\", \"30\", \"31\", \"33\", \"34\", \"36\", \"37\"], \"mode\": \"markers\", \"name\": \"spearman_correlation\", \"stepped\": false, \"type\": \"scatter\", \"data\": [0.7664111439607599, 0.7717497626491391, 0.7352971538407856, 0.7330656610029461, 0.7562403595556305, 0.7564063013358505, 0.733845115828076, 0.7360558982666764, 0.7571295746196949, 0.736926153163911, 0.7365191498003649, 0.7374187069680215, 0.7354190586410544, 0.7565448709162088, 0.7292070088998285, 0.73267385428706, 0.7353848177503893, 0.737164191657027, 0.7268361042886956, 0.7365003523562351, 0.7353248731543006, 0.7266220033395155, 0.7531914276643942, 0.7268898430684679, 0.7612217971086763, 0.5907620977917104, 0.7361166568469345, 0.7633444268417975, 0.765278461820357, 0.7564365757314407, 0.5117564927060713, 0.7648486058879888, 0.7402718479083817, 0.7358420760971208, 0.7770051770710995, 0.7759708085691303]}, {\"categories\": [\"0\", \"1\", \"2\", \"3\", \"4\", \"5\", \"6\", \"7\", \"8\", \"9\", \"10\", \"11\", \"12\", \"13\", \"14\", \"15\", \"16\", \"17\", \"18\", \"19\", \"20\", \"21\", \"22\", \"23\", \"24\", \"25\", \"26\", \"27\", \"28\", \"29\", \"30\", \"31\", \"33\", \"34\", \"36\", \"37\"], \"mode\": \"lines\", \"name\": \"spearman_correlation_max\", \"stepped\": true, \"type\": \"scatter\", \"data\": [0.7664111439607599, 0.7717497626491391, 0.7717497626491391, 0.7717497626491391, 0.7717497626491391, 0.7717497626491391, 0.7717497626491391, 0.7717497626491391, 0.7717497626491391, 0.7717497626491391, 0.7717497626491391, 0.7717497626491391, 0.7717497626491391, 0.7717497626491391, 0.7717497626491391, 0.7717497626491391, 0.7717497626491391, 0.7717497626491391, 0.7717497626491391, 0.7717497626491391, 0.7717497626491391, 0.7717497626491391, 0.7717497626491391, 0.7717497626491391, 0.7717497626491391, 0.7717497626491391, 0.7717497626491391, 0.7717497626491391, 0.7717497626491391, 0.7717497626491391, 0.7717497626491391, 0.7717497626491391, 0.7717497626491391, 0.7717497626491391, 0.7770051770710995, 0.7770051770710995]}]}, \"metricName\": null, \"primaryMetricName\": \"normalized_mean_absolute_error\", \"showLegend\": false}, \"run_metrics\": [{\"name\": \"experiment_status\", \"run_id\": \"AutoML_a25ed3fa-6576-4191-99be-e4b4db848807\", \"categories\": [0, 1, 2, 3, 4, 5], \"series\": [{\"data\": [\"DatasetEvaluation\", \"FeaturesGeneration\", \"DatasetFeaturization\", \"DatasetFeaturizationCompleted\", \"DatasetCrossValidationSplit\", \"ModelSelection\"]}]}, {\"name\": \"experiment_status_description\", \"run_id\": \"AutoML_a25ed3fa-6576-4191-99be-e4b4db848807\", \"categories\": [0, 1, 2, 3, 4, 5], \"series\": [{\"data\": [\"Gathering dataset statistics.\", \"Generating features for the dataset.\", \"Beginning to fit featurizers and featurize the dataset.\", \"Completed fit featurizers and featurizing the dataset.\", \"Generating individually featurized CV splits.\", \"Beginning model selection.\"]}]}, {\"name\": \"median_absolute_error\", \"run_id\": \"AutoML_a25ed3fa-6576-4191-99be-e4b4db848807\", \"categories\": [0], \"series\": [{\"data\": [1.0848811820173492]}]}, {\"name\": \"mean_absolute_error\", \"run_id\": \"AutoML_a25ed3fa-6576-4191-99be-e4b4db848807\", \"categories\": [0], \"series\": [{\"data\": [1.504470312760545]}]}, {\"name\": \"explained_variance\", \"run_id\": \"AutoML_a25ed3fa-6576-4191-99be-e4b4db848807\", \"categories\": [0], \"series\": [{\"data\": [0.5615983618153747]}]}, {\"name\": \"root_mean_squared_log_error\", \"run_id\": \"AutoML_a25ed3fa-6576-4191-99be-e4b4db848807\", \"categories\": [0], \"series\": [{\"data\": [0.1723922945693631]}]}, {\"name\": \"normalized_mean_absolute_error\", \"run_id\": \"AutoML_a25ed3fa-6576-4191-99be-e4b4db848807\", \"categories\": [0], \"series\": [{\"data\": [0.05373108259859089]}]}, {\"name\": \"normalized_root_mean_squared_log_error\", \"run_id\": \"AutoML_a25ed3fa-6576-4191-99be-e4b4db848807\", \"categories\": [0], \"series\": [{\"data\": [0.0636591945375301]}]}, {\"name\": \"spearman_correlation\", \"run_id\": \"AutoML_a25ed3fa-6576-4191-99be-e4b4db848807\", \"categories\": [0], \"series\": [{\"data\": [0.7770051770710995]}]}, {\"name\": \"r2_score\", \"run_id\": \"AutoML_a25ed3fa-6576-4191-99be-e4b4db848807\", \"categories\": [0], \"series\": [{\"data\": [0.5613477289821279]}]}, {\"name\": \"root_mean_squared_error\", \"run_id\": \"AutoML_a25ed3fa-6576-4191-99be-e4b4db848807\", \"categories\": [0], \"series\": [{\"data\": [2.1340192079006797]}]}, {\"name\": \"mean_absolute_percentage_error\", \"run_id\": \"AutoML_a25ed3fa-6576-4191-99be-e4b4db848807\", \"categories\": [0], \"series\": [{\"data\": [14.95653076456336]}]}, {\"name\": \"normalized_median_absolute_error\", \"run_id\": \"AutoML_a25ed3fa-6576-4191-99be-e4b4db848807\", \"categories\": [0], \"series\": [{\"data\": [0.038745756500619614]}]}, {\"name\": \"normalized_root_mean_squared_error\", \"run_id\": \"AutoML_a25ed3fa-6576-4191-99be-e4b4db848807\", \"categories\": [0], \"series\": [{\"data\": [0.07621497171073856]}]}], \"run_logs\": \"\\nRun is completed.\", \"graph\": {}, \"widget_settings\": {\"childWidgetDisplay\": \"popup\", \"send_telemetry\": false, \"log_level\": \"INFO\", \"sdk_version\": \"1.26.0\"}, \"loading\": false}"
          },
          "metadata": {},
          "output_type": "display_data"
        },
        {
          "data": {
            "text/plain": "{'runId': 'AutoML_a25ed3fa-6576-4191-99be-e4b4db848807',\n 'target': 'MLCapstone',\n 'status': 'Completed',\n 'startTimeUtc': '2021-05-08T08:32:12.82993Z',\n 'endTimeUtc': '2021-05-08T08:57:01.42937Z',\n 'properties': {'num_iterations': '1000',\n  'training_type': 'TrainFull',\n  'acquisition_function': 'EI',\n  'primary_metric': 'normalized_mean_absolute_error',\n  'train_split': '0',\n  'acquisition_parameter': '0',\n  'num_cross_validation': None,\n  'target': 'MLCapstone',\n  'AMLSettingsJsonString': '{\"path\":null,\"name\":\"capstone_regression\",\"subscription_id\":\"939bb7d7-6909-4049-929c-1df590b9f273\",\"resource_group\":\"presentation\",\"workspace_name\":\"udacity_workspace\",\"region\":\"westeurope\",\"compute_target\":\"MLCapstone\",\"spark_service\":null,\"azure_service\":\"remote\",\"many_models\":false,\"pipeline_fetch_max_batch_size\":1,\"enable_batch_run\":false,\"enable_run_restructure\":false,\"iterations\":1000,\"primary_metric\":\"normalized_mean_absolute_error\",\"task_type\":\"regression\",\"data_script\":null,\"test_size\":0.0,\"validation_size\":0.0,\"n_cross_validations\":null,\"y_min\":null,\"y_max\":null,\"num_classes\":null,\"featurization\":\"auto\",\"_ignore_package_version_incompatibilities\":false,\"is_timeseries\":false,\"max_cores_per_iteration\":1,\"max_concurrent_iterations\":4,\"iteration_timeout_minutes\":null,\"mem_in_mb\":null,\"enforce_time_on_windows\":false,\"experiment_timeout_minutes\":40,\"experiment_exit_score\":null,\"whitelist_models\":null,\"blacklist_algos\":[\"TensorFlowDNN\",\"TensorFlowLinearRegressor\"],\"supported_models\":[\"ElasticNet\",\"OnlineGradientDescentRegressor\",\"LassoLars\",\"GradientBoosting\",\"ExtremeRandomTrees\",\"TensorFlowDNN\",\"TensorFlowLinearRegressor\",\"XGBoostRegressor\",\"RandomForest\",\"KNN\",\"FastLinearRegressor\",\"DecisionTree\",\"SGD\",\"LightGBM\"],\"private_models\":[],\"auto_blacklist\":true,\"blacklist_samples_reached\":false,\"exclude_nan_labels\":true,\"verbosity\":20,\"_debug_log\":\"azureml_automl.log\",\"show_warnings\":false,\"model_explainability\":true,\"service_url\":null,\"sdk_url\":null,\"sdk_packages\":null,\"enable_onnx_compatible_models\":false,\"enable_split_onnx_featurizer_estimator_models\":false,\"vm_type\":\"STANDARD_D2_V2\",\"telemetry_verbosity\":20,\"send_telemetry\":true,\"enable_dnn\":false,\"scenario\":\"SDK-1.13.0\",\"environment_label\":null,\"save_mlflow\":false,\"force_text_dnn\":false,\"enable_feature_sweeping\":true,\"enable_early_stopping\":true,\"early_stopping_n_iters\":10,\"metrics\":null,\"enable_metric_confidence\":false,\"enable_ensembling\":true,\"enable_stack_ensembling\":true,\"ensemble_iterations\":15,\"enable_tf\":false,\"enable_subsampling\":null,\"subsample_seed\":null,\"enable_nimbusml\":false,\"enable_streaming\":false,\"force_streaming\":false,\"track_child_runs\":true,\"allowed_private_models\":[],\"label_column_name\":\"Rings\",\"weight_column_name\":null,\"cv_split_column_names\":null,\"enable_local_managed\":false,\"_local_managed_run_id\":null,\"cost_mode\":1,\"lag_length\":0,\"metric_operation\":\"minimize\",\"preprocess\":true,\"max_cores_per_iterations\":-1}',\n  'DataPrepJsonString': '{\\\\\"training_data\\\\\": {\\\\\"datasetId\\\\\": \\\\\"41aada46-572b-4e03-8dc3-2faaa39dff9f\\\\\"}, \\\\\"datasets\\\\\": 0}',\n  'EnableSubsampling': None,\n  'runTemplate': 'AutoML',\n  'azureml.runsource': 'automl',\n  'display_task_type': 'regression',\n  'dependencies_versions': '{\"azureml-widgets\": \"1.26.0\", \"azureml-train\": \"1.26.0\", \"azureml-train-restclients-hyperdrive\": \"1.26.0\", \"azureml-train-core\": \"1.26.0\", \"azureml-train-automl\": \"1.26.0\", \"azureml-train-automl-runtime\": \"1.26.0\", \"azureml-train-automl-client\": \"1.26.0\", \"azureml-tensorboard\": \"1.26.0\", \"azureml-telemetry\": \"1.26.0\", \"azureml-sdk\": \"1.26.0\", \"azureml-samples\": \"0+unknown\", \"azureml-pipeline\": \"1.26.0\", \"azureml-pipeline-steps\": \"1.26.0\", \"azureml-pipeline-core\": \"1.26.0\", \"azureml-opendatasets\": \"1.26.0\", \"azureml-model-management-sdk\": \"1.0.1b6.post1\", \"azureml-mlflow\": \"1.26.0\", \"azureml-interpret\": \"1.26.0\", \"azureml-explain-model\": \"1.26.0\", \"azureml-defaults\": \"1.26.0\", \"azureml-dataset-runtime\": \"1.26.0\", \"azureml-dataprep\": \"2.13.2\", \"azureml-dataprep-rslex\": \"1.11.2\", \"azureml-dataprep-native\": \"32.0.0\", \"azureml-datadrift\": \"1.26.0\", \"azureml-core\": \"1.26.0\", \"azureml-contrib-services\": \"1.26.0\", \"azureml-contrib-server\": \"1.26.0\", \"azureml-contrib-reinforcementlearning\": \"1.26.0\", \"azureml-contrib-pipeline-steps\": \"1.26.0\", \"azureml-contrib-notebook\": \"1.26.0\", \"azureml-contrib-gbdt\": \"1.26.0\", \"azureml-contrib-fairness\": \"1.26.0\", \"azureml-contrib-dataset\": \"1.26.0\", \"azureml-cli-common\": \"1.26.0\", \"azureml-automl-runtime\": \"1.26.0\", \"azureml-automl-dnn-nlp\": \"1.26.0\", \"azureml-automl-core\": \"1.26.0\", \"azureml-accel-models\": \"1.26.0\"}',\n  '_aml_system_scenario_identification': 'Remote.Parent',\n  'ClientType': 'SDK',\n  'environment_cpu_name': 'AzureML-AutoML',\n  'environment_cpu_label': 'prod',\n  'environment_gpu_name': 'AzureML-AutoML-GPU',\n  'environment_gpu_label': 'prod',\n  'root_attribution': 'automl',\n  'attribution': 'AutoML',\n  'Orchestrator': 'AutoML',\n  'CancelUri': 'https://westeurope.api.azureml.ms/jasmine/v1.0/subscriptions/939bb7d7-6909-4049-929c-1df590b9f273/resourceGroups/presentation/providers/Microsoft.MachineLearningServices/workspaces/udacity_workspace/experimentids/7de35bab-5dc0-48f1-aada-4d52f84d34a5/cancel/AutoML_a25ed3fa-6576-4191-99be-e4b4db848807',\n  'ClientSdkVersion': '1.27.0.post1',\n  'snapshotId': '00000000-0000-0000-0000-000000000000',\n  'SetupRunId': 'AutoML_a25ed3fa-6576-4191-99be-e4b4db848807_setup',\n  'SetupRunContainerId': 'dcid.AutoML_a25ed3fa-6576-4191-99be-e4b4db848807_setup',\n  'FeaturizationRunJsonPath': 'featurizer_container.json',\n  'FeaturizationRunId': 'AutoML_a25ed3fa-6576-4191-99be-e4b4db848807_featurize',\n  'ProblemInfoJsonString': '{\"dataset_num_categorical\": 0, \"is_sparse\": false, \"subsampling\": false, \"dataset_classes\": 28, \"dataset_features\": 10, \"dataset_samples\": 4177, \"single_frequency_class_detected\": false}',\n  'ModelExplainRunId': 'AutoML_a25ed3fa-6576-4191-99be-e4b4db848807_ModelExplain'},\n 'inputDatasets': [{'dataset': {'id': '41aada46-572b-4e03-8dc3-2faaa39dff9f'}, 'consumptionDetails': {'type': 'RunInput', 'inputName': 'training_data', 'mechanism': 'Direct'}}],\n 'outputDatasets': [],\n 'logFiles': {},\n 'submittedBy': 'ashraf_i ibrahim'}"
          },
          "execution_count": 67,
          "metadata": {},
          "output_type": "execute_result"
        }
      ],
      "source": [
        "RunDetails(remote_run_reg).show()\r\n",
        "remote_run_reg.wait_for_completion(show_output=False)"
      ]
    },
    {
      "cell_type": "code",
      "execution_count": null,
      "metadata": {
        "collapsed": true,
        "jupyter": {
          "outputs_hidden": false,
          "source_hidden": false
        },
        "nteract": {
          "transient": {
            "deleting": false
          }
        }
      },
      "outputs": [],
      "source": [
        "cluster.delete()"
      ]
    },
    {
      "cell_type": "markdown",
      "metadata": {},
      "source": [
        "## Best Model\n",
        "\n",
        "TODO: In the cell below, get the best model from the automl experiments and display all the properties of the model.\n",
        "\n"
      ]
    },
    {
      "cell_type": "code",
      "execution_count": 69,
      "metadata": {
        "gather": {
          "logged": 1620464292497
        },
        "jupyter": {
          "outputs_hidden": false,
          "source_hidden": false
        },
        "nteract": {
          "transient": {
            "deleting": false
          }
        }
      },
      "outputs": [
        {
          "name": "stderr",
          "output_type": "stream",
          "text": [
            "WARNING:root:Received unrecognized parameter max_cores_per_iterations\n",
            "WARNING:root:Received unrecognized parameter max_cores_per_iterations\n",
            "WARNING:root:Received unrecognized parameter max_cores_per_iterations\n",
            "WARNING:root:The version of the SDK does not match the version the model was trained on.\n",
            "WARNING:root:The consistency in the result may not be guaranteed.\n",
            "WARNING:root:Package:azureml-automl-core, training version:1.27.0, current version:1.26.0\n",
            "Package:azureml-automl-runtime, training version:1.27.0.post2, current version:1.26.0\n",
            "Package:azureml-core, training version:1.27.0, current version:1.26.0\n",
            "Package:azureml-dataprep, training version:2.14.2, current version:2.13.2\n",
            "Package:azureml-dataprep-native, training version:33.0.0, current version:32.0.0\n",
            "Package:azureml-dataprep-rslex, training version:1.12.1, current version:1.11.2\n",
            "Package:azureml-dataset-runtime, training version:1.27.0, current version:1.26.0\n",
            "Package:azureml-defaults, training version:1.27.0, current version:1.26.0\n",
            "Package:azureml-interpret, training version:1.27.0, current version:1.26.0\n",
            "Package:azureml-mlflow, training version:1.27.0, current version:1.26.0\n",
            "Package:azureml-pipeline-core, training version:1.27.0, current version:1.26.0\n",
            "Package:azureml-telemetry, training version:1.27.0, current version:1.26.0\n",
            "Package:azureml-train-automl-client, training version:1.27.0, current version:1.26.0\n",
            "Package:azureml-train-automl-runtime, training version:1.27.0.post1, current version:1.26.0\n",
            "WARNING:root:Please ensure the version of your local conda dependencies match the version on which your model was trained in order to properly retrieve your model.\n"
          ]
        }
      ],
      "source": [
        "best_run,model=remote_run_reg.get_output()"
      ]
    },
    {
      "cell_type": "code",
      "execution_count": 76,
      "metadata": {
        "collapsed": true,
        "gather": {
          "logged": 1620464518268
        },
        "jupyter": {
          "outputs_hidden": false,
          "source_hidden": false
        },
        "nteract": {
          "transient": {
            "deleting": false
          }
        }
      },
      "outputs": [
        {
          "data": {
            "text/plain": "[('datatransformer',\n  DataTransformer(enable_dnn=None, enable_feature_sweeping=None,\n                  feature_sweeping_config=None, feature_sweeping_timeout=None,\n                  featurization_config=None, force_text_dnn=None,\n                  is_cross_validation=None, is_onnx_compatible=None, logger=None,\n                  observer=None, task=None, working_dir=None)),\n ('prefittedsoftvotingregressor',\n  PreFittedSoftVotingRegressor(estimators=[('1',\n                                            Pipeline(memory=None,\n                                                     steps=[('maxabsscaler',\n                                                             MaxAbsScaler(copy=True)),\n                                                            ('xgboostregressor',\n                                                             XGBoostRegressor(base_score=0.5,\n                                                                              booster='gbtree',\n                                                                              colsample_bylevel=1,\n                                                                              colsample_bynode=1,\n                                                                              colsample_bytree=1,\n                                                                              gamma=0,\n                                                                              importance_type='gain',\n                                                                              learning_rate=0.1,\n                                                                              max_delta_step=0,\n                                                                              max_depth=3,\n                                                                              min_child_weight=1,\n                                                                              missing=nan...\n                                                                              missing=nan,\n                                                                              n_estimators=25,\n                                                                              n_jobs=1,\n                                                                              nthread=None,\n                                                                              objective='reg:squarederror',\n                                                                              random_state=0,\n                                                                              reg_alpha=0,\n                                                                              reg_lambda=2.1875,\n                                                                              scale_pos_weight=1,\n                                                                              seed=None,\n                                                                              silent=None,\n                                                                              subsample=1,\n                                                                              tree_method='hist',\n                                                                              verbose=-10,\n                                                                              verbosity=0))],\n                                                     verbose=False))],\n                               weights=[0.2, 0.06666666666666667,\n                                        0.3333333333333333, 0.06666666666666667,\n                                        0.06666666666666667, 0.2,\n                                        0.06666666666666667]))]"
          },
          "execution_count": 76,
          "metadata": {},
          "output_type": "execute_result"
        },
        {
          "name": "stdout",
          "output_type": "stream",
          "text": [
            "Current provisioning state of AmlCompute is \"Deleting\"\n",
            "\n"
          ]
        }
      ],
      "source": [
        "model.steps"
      ]
    },
    {
      "cell_type": "code",
      "execution_count": 77,
      "metadata": {
        "collapsed": true,
        "gather": {
          "logged": 1620464556657
        },
        "jupyter": {
          "outputs_hidden": false,
          "source_hidden": false
        },
        "nteract": {
          "transient": {
            "deleting": false
          }
        }
      },
      "outputs": [
        {
          "data": {
            "text/plain": "['automl_capstone.joblib']"
          },
          "execution_count": 77,
          "metadata": {},
          "output_type": "execute_result"
        }
      ],
      "source": [
        "joblib.dump(model, 'automl_capstone.joblib')"
      ]
    },
    {
      "cell_type": "markdown",
      "metadata": {
        "nteract": {
          "transient": {
            "deleting": false
          }
        }
      },
      "source": [
        "# Retrieving Best Model"
      ]
    },
    {
      "cell_type": "code",
      "execution_count": 96,
      "metadata": {
        "collapsed": true,
        "gather": {
          "logged": 1620465674337
        },
        "jupyter": {
          "outputs_hidden": false,
          "source_hidden": false
        },
        "nteract": {
          "transient": {
            "deleting": false
          }
        }
      },
      "outputs": [
        {
          "name": "stderr",
          "output_type": "stream",
          "text": [
            "WARNING:root:Received unrecognized parameter max_cores_per_iterations\n",
            "WARNING:root:Received unrecognized parameter max_cores_per_iterations\n"
          ]
        },
        {
          "name": "stdout",
          "output_type": "stream",
          "text": [
            "Current provisioning state of AmlCompute is \"Deleting\"\n",
            "\n",
            "Current provisioning state of AmlCompute is \"Deleting\"\n",
            "\n"
          ]
        }
      ],
      "source": [
        "model_name=best_run.properties['model_name']\r\n",
        "\r\n",
        "model_registered=remote_run.register_model(model_name=model_name, description=\"Abalone Model\")"
      ]
    },
    {
      "cell_type": "markdown",
      "metadata": {
        "nteract": {
          "transient": {
            "deleting": false
          }
        }
      },
      "source": [
        "# Deploying Model"
      ]
    },
    {
      "cell_type": "code",
      "execution_count": 79,
      "metadata": {
        "gather": {
          "logged": 1620464562242
        },
        "jupyter": {
          "outputs_hidden": false,
          "source_hidden": false
        },
        "nteract": {
          "transient": {
            "deleting": false
          }
        }
      },
      "outputs": [],
      "source": [
        "from azureml.core.model import InferenceConfig \r\n",
        "from azureml.core.webservice import AciWebservice, Webservice \r\n",
        "from azureml.core.model import Model \r\n",
        "from azureml.core import Environment \r\n",
        "from azureml.automl.core.shared import constants"
      ]
    },
    {
      "cell_type": "code",
      "execution_count": 80,
      "metadata": {
        "collapsed": true,
        "gather": {
          "logged": 1620464565442
        },
        "jupyter": {
          "outputs_hidden": false,
          "source_hidden": false
        },
        "nteract": {
          "transient": {
            "deleting": false
          }
        }
      },
      "outputs": [
        {
          "name": "stdout",
          "output_type": "stream",
          "text": [
            "Current provisioning state of AmlCompute is \"Deleting\"\n",
            "\n"
          ]
        }
      ],
      "source": [
        "# Score Script\r\n",
        "best_run.download_file(\"outputs/scoring_file_v_1_0_0.py\",\"scripts/score.py\")\r\n",
        "\r\n",
        "# Environment Information\r\n",
        "best_run.download_file(constants.CONDA_ENV_FILE_PATH, \"conda_env.yml\")\r\n",
        "conda_environment = Environment.from_conda_specification(name='conda_env',file_path=\"conda_env.yml\")\r\n",
        "\r\n",
        "# Inference Config \r\n",
        "inference_config=InferenceConfig(entry_script=\"scripts/score.py\", environment=conda_environment)"
      ]
    },
    {
      "cell_type": "code",
      "execution_count": 81,
      "metadata": {
        "collapsed": true,
        "gather": {
          "logged": 1620464569238
        },
        "jupyter": {
          "outputs_hidden": false,
          "source_hidden": false
        },
        "nteract": {
          "transient": {
            "deleting": false
          }
        }
      },
      "outputs": [],
      "source": [
        "# Defininf ACI- Deployment\r\n",
        "aci_config=AciWebservice.deploy_configuration(cpu_cores=1,memory_gb=2,description=\"capstone-abalone-classification\",enable_app_insights=True,auth_enabled=True)\r\n",
        "\r\n",
        "# Deploy \r\n",
        "service=Model.deploy(ws,\"auto-abalone\",[model_registered],inference_config,aci_config)"
      ]
    },
    {
      "cell_type": "code",
      "execution_count": 82,
      "metadata": {
        "collapsed": true,
        "gather": {
          "logged": 1620464906678
        },
        "jupyter": {
          "outputs_hidden": false,
          "source_hidden": false
        },
        "nteract": {
          "transient": {
            "deleting": false
          }
        }
      },
      "outputs": [
        {
          "name": "stdout",
          "output_type": "stream",
          "text": [
            "Tips: You can try get_logs(): https://aka.ms/debugimage#dockerlog or local deployment: https://aka.ms/debugimage#debug-locally to debug if deployment takes longer than 10 minutes.\n",
            "Running\n",
            "2021-05-08 09:02:47+00:00 Creating Container Registry if not exists.\n",
            "2021-05-08 09:02:48+00:00 Registering the environment.\n",
            "2021-05-08 09:02:49+00:00 Use the existing image.\n",
            "2021-05-08 09:02:49+00:00 Generating deployment configuration.\n",
            "2021-05-08 09:02:50+00:00 Submitting deployment to compute.Current provisioning state of AmlCompute is \"Deleting\"\n",
            "\n",
            ".\n",
            "2021-05-08 09:02:58+00:00 Checking the status of deployment auto-abalone..\n",
            "2021-05-08 09:05:58+00:00 Checking the status of deployment auto-abalone..\n",
            "2021-05-08 09:08:20+00:00 Checking the status of inference endpoint auto-abalone.\n",
            "2021-05-08 09:08:22+00:00 Checking the status of inference endpoint auto-abalone.\n",
            "Succeeded\n",
            "ACI service creation operation finished, operation \"Succeeded\"\n"
          ]
        }
      ],
      "source": [
        "service.wait_for_deployment(True)"
      ]
    },
    {
      "cell_type": "markdown",
      "metadata": {},
      "source": [
        "## Endpoint Testing"
      ]
    },
    {
      "cell_type": "code",
      "execution_count": 121,
      "metadata": {
        "gather": {
          "logged": 1620466097513
        },
        "jupyter": {
          "outputs_hidden": false,
          "source_hidden": false
        },
        "nteract": {
          "transient": {
            "deleting": false
          }
        }
      },
      "outputs": [],
      "source": [
        "uri=service.scoring_uri\r\n",
        "\r\n",
        "# uri = 'Your URI' if seperatly deployd\r\n",
        "\r\n",
        "key='Your KEY'\r\n",
        "\r\n",
        "headers = {'Content-Type':'application/json'}\r\n",
        "\r\n",
        "headers['Authorization'] = 'Bearer {}'.format(key)\r\n",
        "\r\n",
        "\r\n",
        "test_1 = json.dumps({'data':[{\r\n",
        "    'Length':0.46,\r\n",
        "    'Diameter':0.36,\r\n",
        "    'Height':0.10,\r\n",
        "    'Whole weight':0.51,\r\n",
        "    'Shucked weight':0.22,\r\n",
        "    'Viscera weight':0.10,\r\n",
        "    'Shell weight':0.15,\r\n",
        "    'Sex_F':0,\r\n",
        "    'Sex_I':0,\r\n",
        "    'Sex_M':1}\r\n",
        "    ]\r\n",
        "        })\r\n",
        "\r\n",
        "test_2 = json.dumps({'data':[{\r\n",
        "    'Length':0.22,\r\n",
        "    'Diameter':0.81,\r\n",
        "    'Height':0.48,\r\n",
        "    'Whole weight':0.53,\r\n",
        "    'Shucked weight':0.35,\r\n",
        "    'Viscera weight':0.15,\r\n",
        "    'Shell weight':0.11,\r\n",
        "    'Sex_F':1,\r\n",
        "    'Sex_I':0,\r\n",
        "    'Sex_M':0}\r\n",
        "    ]\r\n",
        "        })\r\n",
        "\r\n",
        "test_3 = json.dumps({'data':[{\r\n",
        "    'Length':0.36,\r\n",
        "    'Diameter':0.25,\r\n",
        "    'Height':0.15,\r\n",
        "    'Whole weight':0.58,\r\n",
        "    'Shucked weight':0.26,\r\n",
        "    'Viscera weight':0.18,\r\n",
        "    'Shell weight':0.21,\r\n",
        "    'Sex_F':0,\r\n",
        "    'Sex_I':1,\r\n",
        "    'Sex_M':0}\r\n",
        "    ]\r\n",
        "        })\r\n",
        "\r\n"
      ]
    },
    {
      "cell_type": "markdown",
      "metadata": {
        "collapsed": true,
        "gather": {
          "logged": 1598431657736
        },
        "jupyter": {
          "outputs_hidden": false,
          "source_hidden": false
        },
        "nteract": {
          "transient": {
            "deleting": false
          }
        }
      },
      "source": [
        "TODO: In the cell below, send a request to the web service you deployed to test it."
      ]
    },
    {
      "cell_type": "code",
      "execution_count": 124,
      "metadata": {
        "gather": {
          "logged": 1620466112631
        },
        "jupyter": {
          "outputs_hidden": false,
          "source_hidden": false
        },
        "nteract": {
          "transient": {
            "deleting": false
          }
        }
      },
      "outputs": [
        {
          "name": "stdout",
          "output_type": "stream",
          "text": [
            "\"{\\\"result\\\": [8]}\"\n",
            "\"{\\\"result\\\": [12]}\"\n",
            "\"{\\\"result\\\": [16]}\"\n"
          ]
        }
      ],
      "source": [
        "for i in [test_1,test_2,test_3]:\r\n",
        "    response = requests.post(uri, data=i, headers=headers)\r\n",
        "    print(response.text)"
      ]
    },
    {
      "cell_type": "markdown",
      "metadata": {
        "collapsed": true,
        "gather": {
          "logged": 1598432765711
        },
        "jupyter": {
          "outputs_hidden": false,
          "source_hidden": false
        },
        "nteract": {
          "transient": {
            "deleting": false
          }
        }
      },
      "source": [
        "TODO: In the cell below, print the logs of the web service and delete the service"
      ]
    },
    {
      "cell_type": "code",
      "execution_count": 125,
      "metadata": {
        "collapsed": true,
        "gather": {
          "logged": 1620466114486
        },
        "jupyter": {
          "outputs_hidden": false,
          "source_hidden": false
        },
        "nteract": {
          "transient": {
            "deleting": false
          }
        }
      },
      "outputs": [
        {
          "data": {
            "text/plain": "'2021-05-08T09:08:15,569776600+00:00 - rsyslog/run \\n2021-05-08T09:08:15,573808200+00:00 - iot-server/run \\nrsyslogd: /azureml-envs/azureml_f8f5ff2f983718fa04a09abf22f98303/lib/libuuid.so.1: no version information available (required by rsyslogd)\\n2021-05-08T09:08:15,592126700+00:00 - gunicorn/run \\n2021-05-08T09:08:15,624163000+00:00 - nginx/run \\n/usr/sbin/nginx: /azureml-envs/azureml_f8f5ff2f983718fa04a09abf22f98303/lib/libcrypto.so.1.0.0: no version information available (required by /usr/sbin/nginx)\\n/usr/sbin/nginx: /azureml-envs/azureml_f8f5ff2f983718fa04a09abf22f98303/lib/libcrypto.so.1.0.0: no version information available (required by /usr/sbin/nginx)\\n/usr/sbin/nginx: /azureml-envs/azureml_f8f5ff2f983718fa04a09abf22f98303/lib/libssl.so.1.0.0: no version information available (required by /usr/sbin/nginx)\\n/usr/sbin/nginx: /azureml-envs/azureml_f8f5ff2f983718fa04a09abf22f98303/lib/libssl.so.1.0.0: no version information available (required by /usr/sbin/nginx)\\n/usr/sbin/nginx: /azureml-envs/azureml_f8f5ff2f983718fa04a09abf22f98303/lib/libssl.so.1.0.0: no version information available (required by /usr/sbin/nginx)\\nEdgeHubConnectionString and IOTEDGE_IOTHUBHOSTNAME are not set. Exiting...\\n2021-05-08T09:08:15,935224900+00:00 - iot-server/finish 1 0\\n2021-05-08T09:08:15,940309200+00:00 - Exit code 1 is normal. Not restarting iot-server.\\nStarting gunicorn 19.9.0\\nListening at: http://127.0.0.1:31311 (68)\\nUsing worker: sync\\nworker timeout is set to 300\\nBooting worker with pid: 101\\nSPARK_HOME not set. Skipping PySpark Initialization.\\nGenerating new fontManager, this may take some time...\\nInitializing logger\\n2021-05-08 09:08:18,109 | root | INFO | Starting up app insights client\\n2021-05-08 09:08:18,110 | root | INFO | Starting up request id generator\\n2021-05-08 09:08:18,110 | root | INFO | Starting up app insight hooks\\n2021-05-08 09:08:18,110 | root | INFO | Invoking user\\'s init function\\n2021-05-08 09:08:22,157 | azureml.core | WARNING | Failure while loading azureml_run_type_providers. Failed to load entrypoint automl = azureml.train.automl.run:AutoMLRun._from_run_dto with exception cannot import name \\'RunType\\'.\\nFailure while loading azureml_run_type_providers. Failed to load entrypoint automl = azureml.train.automl.run:AutoMLRun._from_run_dto with exception cannot import name \\'RunType\\'.\\n2021-05-08 09:08:22,213 | root | INFO | Users\\'s init has completed successfully\\n2021-05-08 09:08:22,219 | root | INFO | Skipping middleware: dbg_model_info as it\\'s not enabled.\\n2021-05-08 09:08:22,219 | root | INFO | Skipping middleware: dbg_resource_usage as it\\'s not enabled.\\n2021-05-08 09:08:22,221 | root | INFO | Scoring timeout is found from os.environ: 60000 ms\\n2021-05-08 09:08:22,245 | root | INFO | 200\\n127.0.0.1 - - [08/May/2021:09:08:22 +0000] \"GET /swagger.json HTTP/1.0\" 200 2799 \"-\" \"Go-http-client/1.1\"\\n2021-05-08 09:08:22,268 | root | INFO | 200\\n127.0.0.1 - - [08/May/2021:09:08:22 +0000] \"GET /swagger.json HTTP/1.0\" 200 2799 \"-\" \"Go-http-client/1.1\"\\n2021-05-08 09:08:25,539 | root | INFO | 200\\n127.0.0.1 - - [08/May/2021:09:08:25 +0000] \"GET /swagger.json HTTP/1.0\" 200 2799 \"-\" \"Go-http-client/1.1\"\\n2021-05-08 09:10:53,500 | root | INFO | 200\\n127.0.0.1 - - [08/May/2021:09:10:53 +0000] \"GET /swagger.json HTTP/1.0\" 200 2799 \"-\" \"Go-http-client/1.1\"\\n2021-05-08 09:10:54,894 | root | INFO | 200\\n127.0.0.1 - - [08/May/2021:09:10:54 +0000] \"GET /swagger.json HTTP/1.0\" 200 2799 \"-\" \"Go-http-client/1.1\"\\n2021-05-08 09:11:09,504 | root | INFO | Validation Request Content-Type\\n2021-05-08 09:11:09,504 | root | INFO | Scoring Timer is set to 60.0 seconds\\n2021-05-08 09:11:09,616 | root | INFO | 200\\n127.0.0.1 - - [08/May/2021:09:11:09 +0000] \"POST /score HTTP/1.0\" 200 20 \"-\" \"python-requests/2.25.1\"\\n2021-05-08 09:11:23,502 | root | INFO | Validation Request Content-Type\\n2021-05-08 09:11:23,503 | root | INFO | Scoring Timer is set to 60.0 seconds\\n2021-05-08 09:11:23,599 | root | INFO | 200\\n127.0.0.1 - - [08/May/2021:09:11:23 +0000] \"POST /score HTTP/1.0\" 200 19 \"-\" \"python-requests/2.25.1\"\\n2021-05-08 09:23:38,990 | root | INFO | Validation Request Content-Type\\n2021-05-08 09:23:38,993 | root | INFO | Scoring Timer is set to 60.0 seconds\\n2021-05-08 09:23:39,117 | root | INFO | 200\\n127.0.0.1 - - [08/May/2021:09:23:39 +0000] \"POST /score HTTP/1.0\" 200 19 \"-\" \"python-requests/2.25.1\"\\n2021-05-08 09:23:39,171 | root | INFO | Validation Request Content-Type\\n2021-05-08 09:23:39,172 | root | INFO | Scoring Timer is set to 60.0 seconds\\n2021-05-08 09:23:39,258 | root | INFO | 200\\n127.0.0.1 - - [08/May/2021:09:23:39 +0000] \"POST /score HTTP/1.0\" 200 20 \"-\" \"python-requests/2.25.1\"\\n2021-05-08 09:23:39,272 | root | INFO | Validation Request Content-Type\\n2021-05-08 09:23:39,273 | root | INFO | Scoring Timer is set to 60.0 seconds\\n2021-05-08 09:23:39,340 | root | INFO | 200\\n127.0.0.1 - - [08/May/2021:09:23:39 +0000] \"POST /score HTTP/1.0\" 200 20 \"-\" \"python-requests/2.25.1\"\\n2021-05-08 09:24:10,180 | root | INFO | Validation Request Content-Type\\n2021-05-08 09:24:10,181 | root | INFO | Scoring Timer is set to 60.0 seconds\\n2021-05-08 09:24:10,278 | root | INFO | 200\\n127.0.0.1 - - [08/May/2021:09:24:10 +0000] \"POST /score HTTP/1.0\" 200 19 \"-\" \"python-requests/2.25.1\"\\n2021-05-08 09:24:10,299 | root | INFO | Validation Request Content-Type\\n2021-05-08 09:24:10,299 | root | INFO | Scoring Timer is set to 60.0 seconds\\n2021-05-08 09:24:10,384 | root | INFO | 200\\n127.0.0.1 - - [08/May/2021:09:24:10 +0000] \"POST /score HTTP/1.0\" 200 20 \"-\" \"python-requests/2.25.1\"\\n2021-05-08 09:24:10,399 | root | INFO | Validation Request Content-Type\\n2021-05-08 09:24:10,401 | root | INFO | Scoring Timer is set to 60.0 seconds\\n2021-05-08 09:24:10,468 | root | INFO | 200\\n127.0.0.1 - - [08/May/2021:09:24:10 +0000] \"POST /score HTTP/1.0\" 200 20 \"-\" \"python-requests/2.25.1\"\\n2021-05-08 09:28:18,132 | root | INFO | Validation Request Content-Type\\n2021-05-08 09:28:18,134 | root | INFO | Scoring Timer is set to 60.0 seconds\\n2021-05-08 09:28:18,257 | root | INFO | 200\\n127.0.0.1 - - [08/May/2021:09:28:18 +0000] \"POST /score HTTP/1.0\" 200 19 \"-\" \"python-requests/2.25.1\"\\n2021-05-08 09:28:18,278 | root | INFO | Validation Request Content-Type\\n2021-05-08 09:28:18,279 | root | INFO | Scoring Timer is set to 60.0 seconds\\n2021-05-08 09:28:18,362 | root | INFO | 200\\n127.0.0.1 - - [08/May/2021:09:28:18 +0000] \"POST /score HTTP/1.0\" 200 20 \"-\" \"python-requests/2.25.1\"\\n2021-05-08 09:28:18,376 | root | INFO | Validation Request Content-Type\\n2021-05-08 09:28:18,376 | root | INFO | Scoring Timer is set to 60.0 seconds\\n2021-05-08 09:28:18,444 | root | INFO | 200\\n127.0.0.1 - - [08/May/2021:09:28:18 +0000] \"POST /score HTTP/1.0\" 200 20 \"-\" \"python-requests/2.25.1\"\\n2021-05-08 09:28:31,450 | root | INFO | Validation Request Content-Type\\n2021-05-08 09:28:31,451 | root | INFO | Scoring Timer is set to 60.0 seconds\\n2021-05-08 09:28:31,550 | root | INFO | 200\\n127.0.0.1 - - [08/May/2021:09:28:31 +0000] \"POST /score HTTP/1.0\" 200 19 \"-\" \"python-requests/2.25.1\"\\n2021-05-08 09:28:31,569 | root | INFO | Validation Request Content-Type\\n2021-05-08 09:28:31,570 | root | INFO | Scoring Timer is set to 60.0 seconds\\n2021-05-08 09:28:31,655 | root | INFO | 200\\n127.0.0.1 - - [08/May/2021:09:28:31 +0000] \"POST /score HTTP/1.0\" 200 20 \"-\" \"python-requests/2.25.1\"\\n2021-05-08 09:28:31,670 | root | INFO | Validation Request Content-Type\\n2021-05-08 09:28:31,671 | root | INFO | Scoring Timer is set to 60.0 seconds\\n2021-05-08 09:28:31,737 | root | INFO | 200\\n127.0.0.1 - - [08/May/2021:09:28:31 +0000] \"POST /score HTTP/1.0\" 200 20 \"-\" \"python-requests/2.25.1\"\\n'"
          },
          "execution_count": 125,
          "metadata": {},
          "output_type": "execute_result"
        }
      ],
      "source": [
        "service.get_logs()"
      ]
    },
    {
      "cell_type": "code",
      "execution_count": 126,
      "metadata": {
        "collapsed": true,
        "gather": {
          "logged": 1620466150634
        },
        "jupyter": {
          "outputs_hidden": false,
          "source_hidden": false
        },
        "nteract": {
          "transient": {
            "deleting": false
          }
        }
      },
      "outputs": [],
      "source": [
        "service.delete()"
      ]
    }
  ],
  "metadata": {
    "kernel_info": {
      "name": "python3"
    },
    "kernelspec": {
      "display_name": "Python 3",
      "language": "python",
      "name": "python3"
    },
    "language_info": {
      "codemirror_mode": {
        "name": "ipython",
        "version": 3
      },
      "file_extension": ".py",
      "mimetype": "text/x-python",
      "name": "python",
      "nbconvert_exporter": "python",
      "pygments_lexer": "ipython3",
      "version": "3.6.9"
    },
    "microsoft": {
      "host": {
        "AzureML": {
          "notebookHasBeenCompleted": true
        }
      }
    },
    "nteract": {
      "version": "nteract-front-end@1.0.0"
    }
  },
  "nbformat": 4,
  "nbformat_minor": 2
}